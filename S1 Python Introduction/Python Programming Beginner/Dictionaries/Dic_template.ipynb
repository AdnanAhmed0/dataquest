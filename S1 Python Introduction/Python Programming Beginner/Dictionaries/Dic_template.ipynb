{
 "cells": [
  {
   "cell_type": "code",
   "execution_count": 1,
   "metadata": {
    "collapsed": false
   },
   "outputs": [
    {
     "data": {
      "text/html": [
       "<script>\n",
       "code_show=true; \n",
       "function code_toggle() {\n",
       " if (code_show){\n",
       " $('div.input').hide();\n",
       " } else {\n",
       " $('div.input').show();\n",
       " }\n",
       " code_show = !code_show\n",
       "} \n",
       "$( document ).ready(code_toggle);\n",
       "</script>\n",
       "<form action=\"javascript:code_toggle()\"><input type=\"submit\" value=\"Click here to toggle on/off the raw code.\"></form>"
      ],
      "text/plain": [
       "<IPython.core.display.HTML object>"
      ]
     },
     "execution_count": 1,
     "metadata": {},
     "output_type": "execute_result"
    }
   ],
   "source": [
    "from IPython.display import HTML\n",
    "\n",
    "HTML('''<script>\n",
    "code_show=true; \n",
    "function code_toggle() {\n",
    " if (code_show){\n",
    " $('div.input').hide();\n",
    " } else {\n",
    " $('div.input').show();\n",
    " }\n",
    " code_show = !code_show\n",
    "} \n",
    "$( document ).ready(code_toggle);\n",
    "</script>\n",
    "<form action=\"javascript:code_toggle()\"><input type=\"submit\" value=\"Click here to toggle on/off the raw code.\"></form>''')"
   ]
  },
  {
   "cell_type": "markdown",
   "metadata": {},
   "source": [
    "#Python Programming"
   ]
  },
  {
   "cell_type": "markdown",
   "metadata": {},
   "source": [
    "##Dictionaries"
   ]
  },
  {
   "cell_type": "markdown",
   "metadata": {},
   "source": [
    "###1: Parsing the file"
   ]
  },
  {
   "cell_type": "markdown",
   "metadata": {
    "collapsed": true
   },
   "source": [
    "Our data is in a CSV file, so we'll need to parse it before we can get started.\n",
    "\n",
    "Open \"la_weather.csv\", parse it, and assign the result to weather_data."
   ]
  },
  {
   "cell_type": "code",
   "execution_count": 2,
   "metadata": {
    "collapsed": false
   },
   "outputs": [],
   "source": [
    "weather_data = []\n",
    "f = open(\"data/la_weather.csv\", 'r')\n",
    "data = f.read()\n",
    "rows = data.split('\\n')\n",
    "for row in rows:\n",
    "    split_row = row.split(\",\")\n",
    "    weather_data.append(split_row)"
   ]
  },
  {
   "cell_type": "markdown",
   "metadata": {},
   "source": [
    "###2: Getting a single column from the data"
   ]
  },
  {
   "cell_type": "markdown",
   "metadata": {},
   "source": [
    "The first column of the data isn't very useful to what we're doing, so let's get rid of it and only work with the second column.\n",
    "\n",
    "Get all of the values in the second column and append them to weather_column."
   ]
  },
  {
   "cell_type": "code",
   "execution_count": null,
   "metadata": {
    "collapsed": false
   },
   "outputs": [],
   "source": [
    "weather_column = []\n",
    "for row in weather_data:\n",
    "    weather_column.append(row[1])"
   ]
  },
  {
   "cell_type": "markdown",
   "metadata": {},
   "source": [
    "###3: Pre-defined variables"
   ]
  },
  {
   "cell_type": "markdown",
   "metadata": {},
   "source": [
    "Loop over the weather variable, and set count equal to the number of items in weather."
   ]
  },
  {
   "cell_type": "code",
   "execution_count": 21,
   "metadata": {
    "collapsed": false
   },
   "outputs": [
    {
     "name": "stdout",
     "output_type": "stream",
     "text": [
      "Sunny\n"
     ]
    }
   ],
   "source": [
    "weather = weather_data\n",
    "with open('data/la_weather.csv', 'r') as f:\n",
    "    # weather_data = [row.rstrip().split(',') for row in f]\n",
    "    weather = [row.rstrip().split(',')[1] for row in f][1:]\n",
    "\n",
    "\n",
    "print(weather[0])\n",
    "\n",
    "count = 0\n",
    "for item in weather:\n",
    "    count = count + 1"
   ]
  },
  {
   "cell_type": "markdown",
   "metadata": {},
   "source": [
    "###4: Practice slicing a list"
   ]
  },
  {
   "cell_type": "markdown",
   "metadata": {},
   "source": [
    "Assign a slice containing index 2 and 3 from slice_me to slice1. Assign a slice containing index 1 from slice_me to slice2. Assign a slice containing index 3 and 4 from slice_me to slice3."
   ]
  },
  {
   "cell_type": "code",
   "execution_count": 6,
   "metadata": {
    "collapsed": false
   },
   "outputs": [
    {
     "name": "stdout",
     "output_type": "stream",
     "text": [
      "[6, 7]\n",
      "[]\n",
      "[6]\n"
     ]
    }
   ],
   "source": [
    "# Let's practice with some list slicing.\n",
    "a = [4,5,6,7,8]\n",
    "# New list containing index 2 and 3.\n",
    "print(a[2:4])\n",
    "# New list with no elements.\n",
    "print(a[2:2])\n",
    "# New list containing only index 2.\n",
    "print(a[2:3])\n",
    "\n",
    "slice_me = [7,6,4,5,6]\n",
    "slice1 = slice_me[2:4]\n",
    "slice2 = slice_me[1:2]\n",
    "slice3 = slice_me[3:5]"
   ]
  },
  {
   "cell_type": "markdown",
   "metadata": {},
   "source": [
    "###5: Removing our header"
   ]
  },
  {
   "cell_type": "markdown",
   "metadata": {},
   "source": [
    "The weather data is in the weather variable. Slice the data and remove the header. The slice can end at 367. Assign the result to new_weather."
   ]
  },
  {
   "cell_type": "code",
   "execution_count": 7,
   "metadata": {
    "collapsed": true
   },
   "outputs": [],
   "source": [
    "new_weather = weather[1:367]"
   ]
  },
  {
   "cell_type": "markdown",
   "metadata": {},
   "source": [
    "###6: Making a dictionary"
   ]
  },
  {
   "cell_type": "markdown",
   "metadata": {},
   "source": [
    "Assign the value 5 to the key \"test\" in dictionary_two. Assign the value \"hello\" to the key 10 in dictionary_two."
   ]
  },
  {
   "cell_type": "code",
   "execution_count": 9,
   "metadata": {
    "collapsed": false
   },
   "outputs": [
    {
     "name": "stdout",
     "output_type": "stream",
     "text": [
      "{'key_one': 2}\n",
      "{5.2: 'hello', 10: 5, 'key_one': 2}\n"
     ]
    }
   ],
   "source": [
    "# We can make a dictionary with curly braces.\n",
    "dictionary_one = {}\n",
    "\n",
    "# The we can add keys and values.\n",
    "dictionary_one[\"key_one\"] = 2\n",
    "print(dictionary_one)\n",
    "\n",
    "# Keys and values can be anything.\n",
    "# And dictionaries can have multiple keys\n",
    "dictionary_one[10] = 5\n",
    "dictionary_one[5.2] = \"hello\"\n",
    "print(dictionary_one)\n",
    "\n",
    "dictionary_two = {}\n",
    "dictionary_two[\"test\"] = 5\n",
    "dictionary_two[10] = \"hello\""
   ]
  },
  {
   "cell_type": "markdown",
   "metadata": {},
   "source": [
    "###7: Indexing a dictionary"
   ]
  },
  {
   "cell_type": "markdown",
   "metadata": {},
   "source": [
    "We can index dictionaries with square brackets. a = dictionary[10] will get the value stored in the dictionary for the key 10 and assign it to a.\n",
    "\n",
    "Assign the value in \"key1\" in dictionary_two to a. Assign the value in \"key2\" in dictionary_two to b. Assign the value in \"key3\" in dictionary_two to c."
   ]
  },
  {
   "cell_type": "code",
   "execution_count": 10,
   "metadata": {
    "collapsed": false
   },
   "outputs": [
    {
     "name": "stdout",
     "output_type": "stream",
     "text": [
      "10\n",
      "fly\n"
     ]
    }
   ],
   "source": [
    "dictionary_one = {}\n",
    "dictionary_one[\"test\"] = 10\n",
    "dictionary_one[\"key\"] = \"fly\"\n",
    "# We can retrieve values from dictionaries with square brackets.\n",
    "print(dictionary_one[\"test\"])\n",
    "print(dictionary_one[\"key\"])\n",
    "\n",
    "dictionary_two = {}\n",
    "dictionary_two[\"key1\"] = \"high\"\n",
    "dictionary_two[\"key2\"] = 10\n",
    "dictionary_two[\"key3\"] = 5.6\n",
    "a = dictionary_two[\"key1\"]\n",
    "b = dictionary_two[\"key2\"]\n",
    "c = dictionary_two[\"key3\"]"
   ]
  },
  {
   "cell_type": "markdown",
   "metadata": {},
   "source": [
    "###8: Defining a dictionary with values"
   ]
  },
  {
   "cell_type": "markdown",
   "metadata": {},
   "source": [
    "We can define a dictionary that already contains values.\n",
    "\n",
    "Make a dictionary c with the keys 7, 8, and 9 corresponding to the values \"raven\", \"goose\", and \"duck\". Make a dictionary d with the keys \"morning\", \"afternoon\", \"evening\", and \"night\" corresponding to the values 9, 14, 19, and 23."
   ]
  },
  {
   "cell_type": "code",
   "execution_count": 11,
   "metadata": {
    "collapsed": false
   },
   "outputs": [
    {
     "name": "stdout",
     "output_type": "stream",
     "text": [
      "10\n",
      "robin\n"
     ]
    }
   ],
   "source": [
    "# We can define dictionaries that already contain values.\n",
    "# All we do is add in keys and values separated by colons.\n",
    "# We have to separate pairs of keys and values with commas.\n",
    "a = {\"key1\": 10, \"key2\": \"indubitably\", \"key3\": \"dataquest\", 3: 5.6}\n",
    "\n",
    "# a is initialized with those keys and values, so we can access them.\n",
    "print(a[\"key1\"])\n",
    "\n",
    "# Another example\n",
    "b = {4: \"robin\", 5: \"bluebird\", 6: \"sparrow\"}\n",
    "print(b[4])\n",
    "c = {7: \"raven\", 8: \"goose\", 9: \"duck\"}\n",
    "d = {\"morning\": 9, \"afternoon\": 14, \"evening\": 19, \"night\": 23}"
   ]
  },
  {
   "cell_type": "markdown",
   "metadata": {},
   "source": [
    "###9: Testing if items are in a list"
   ]
  },
  {
   "cell_type": "markdown",
   "metadata": {},
   "source": [
    "Check if 9 is in list2, and assign the result to c. Check if 8 is in list2, and assign the result to d. Check if -1 is in list2, and assign the result to e."
   ]
  },
  {
   "cell_type": "code",
   "execution_count": 12,
   "metadata": {
    "collapsed": false
   },
   "outputs": [
    {
     "name": "stdout",
     "output_type": "stream",
     "text": [
      "True\n",
      "True\n",
      "False\n"
     ]
    }
   ],
   "source": [
    "# We can check if values are in lists using the in statement.\n",
    "the_list = [10,60,-5,8]\n",
    "\n",
    "# This is True because 10 is in the_list\n",
    "print(10 in the_list)\n",
    "\n",
    "# This is True because -5 is in the_list\n",
    "print(-5 in the_list)\n",
    "\n",
    "# This is False because 9 isn't in the_list\n",
    "print(9 in the_list)\n",
    "\n",
    "# We can assign the results of an in statement to a variable.\n",
    "# Just like any other boolean.\n",
    "a = 7 in the_list\n",
    "\n",
    "list2 = [8, 5.6, 70, 800]\n",
    "c = 9 in list2\n",
    "d = 8 in list2\n",
    "e = -1 in list2"
   ]
  },
  {
   "cell_type": "markdown",
   "metadata": {},
   "source": [
    "###10: More uses for the in statement"
   ]
  },
  {
   "cell_type": "markdown",
   "metadata": {},
   "source": [
    "We can also use the in statement to check if a key is in a dictionary. We do this the same way we check if a value is in a list.\n",
    "\n",
    "Check whether \"jupiter\" is in dict2 and assign the result to b. Check whether \"earth\" is in dict2 and assign the result to c."
   ]
  },
  {
   "cell_type": "code",
   "execution_count": null,
   "metadata": {
    "collapsed": true
   },
   "outputs": [],
   "source": [
    "# We can check if a key is in a dictionary with the in statement.\n",
    "the_dict = {\"robin\": \"red\", \"cardinal\": \"red\", \"oriole\": \"orange\", \"lark\": \"blue\"}\n",
    "\n",
    "# This is True\n",
    "print(\"robin\" in the_dict)\n",
    "\n",
    "# This is False\n",
    "print(\"crow\" in the_dict)\n",
    "\n",
    "# We can also assign the boolean to a variable\n",
    "a = \"cardinal\" in the_dict\n",
    "print(a)\n",
    "\n",
    "dict2 = {\"mercury\": 1, \"venus\": 2, \"earth\": 3, \"mars\": 4}\n",
    "b = \"jupiter\" in dict2\n",
    "c = \"earth\" in dict2"
   ]
  },
  {
   "cell_type": "markdown",
   "metadata": {},
   "source": [
    "###11: Practicing with the else statement"
   ]
  },
  {
   "cell_type": "markdown",
   "metadata": {},
   "source": [
    "The else statement is a powerful way to extend a basic if statement.\n",
    "\n",
    "Write an if statement that prints \"It's hot!\" when the season is \"Summer\" Add an else statement to the if that prints \"It might be hot!\"."
   ]
  },
  {
   "cell_type": "code",
   "execution_count": 13,
   "metadata": {
    "collapsed": false
   },
   "outputs": [
    {
     "name": "stdout",
     "output_type": "stream",
     "text": [
      "Not 7!\n",
      "Nintendo is the best!\n",
      "It might be hot!\n"
     ]
    }
   ],
   "source": [
    "# The code in an else statement will be executed if the if statement boolean is False.\n",
    "# This will print \"Not 7!\"\n",
    "a = 6\n",
    "# a doesn't equal 7, so this is False.\n",
    "if a == 7:\n",
    "    print(a)\n",
    "else:\n",
    "    print(\"Not 7!\")\n",
    "\n",
    "# This will print \"Nintendo is the best!\"\n",
    "video_game = \"Mario\"\n",
    "# video_game is \"Mario\", so this is True\n",
    "if video_game == \"Mario\":\n",
    "    print(\"Nintendo is the best!\")\n",
    "else:\n",
    "    print(\"Sony is the best!\")\n",
    "\n",
    "season = \"Spring\"\n",
    "if season == \"Summer\":\n",
    "    print(\"It's hot!\")\n",
    "else:\n",
    "    print(\"It might be hot!\")"
   ]
  },
  {
   "cell_type": "markdown",
   "metadata": {},
   "source": [
    "##12: Practicing with the else statement"
   ]
  },
  {
   "cell_type": "markdown",
   "metadata": {},
   "source": [
    "We can combine some of the concepts we've already learned to count how many times items appear in a list using dictionaries. We'll loop over the list, and create a key for each item we want to count. We then increment the key whenever we see the element again. At the end, we have the count.\n",
    "\n",
    "Count how many times each presidential last name appears in us_presidents. Assign the counts to us_president_counts."
   ]
  },
  {
   "cell_type": "code",
   "execution_count": 14,
   "metadata": {
    "collapsed": false
   },
   "outputs": [
    {
     "name": "stdout",
     "output_type": "stream",
     "text": [
      "{'orange': 2, 'tomato': 1, 'grape': 2, 'apple': 3, 'potato': 1}\n"
     ]
    }
   ],
   "source": [
    "# We can count how many times items appear in a list using dictionaries.\n",
    "pantry = [\"apple\", \"orange\", \"grape\", \"apple\", \"orange\", \"apple\", \"tomato\", \"potato\", \"grape\"]\n",
    "\n",
    "# Create an empty dictionary\n",
    "pantry_counts = {}\n",
    "# Loop through the whole list\n",
    "for item in pantry:\n",
    "    # If the list item is already a key in the dictionary, then add 1 to the value of that key.\n",
    "    # This is because we've seen the item again, so our count goes up.\n",
    "    if item in pantry_counts:\n",
    "        pantry_counts[item] = pantry_counts[item] + 1\n",
    "    else:\n",
    "        # If the item isn't already a key in the count dictionary, then add the key, and set the value to 1.\n",
    "        # We set the value to 1 because we are seeing the item, so it's occured once already in the list.\n",
    "        pantry_counts[item] = 1\n",
    "print(pantry_counts)\n",
    "\n",
    "us_presidents = [\"Adams\", \"Bush\", \"Clinton\", \"Obama\", \"Harrison\", \"Taft\", \"Bush\", \"Adams\", \"Wilson\", \"Roosevelt\", \"Roosevelt\"]\n",
    "\n",
    "us_president_counts = {}\n",
    "for president in us_presidents:\n",
    "    if president in us_president_counts:\n",
    "        us_president_counts[president] = us_president_counts[president] + 1\n",
    "    else:\n",
    "        us_president_counts[president] = 1"
   ]
  },
  {
   "cell_type": "markdown",
   "metadata": {},
   "source": [
    "##13: Counting the weather!"
   ]
  },
  {
   "cell_type": "markdown",
   "metadata": {},
   "source": [
    "We now know how to count up how many times each type of weather occurs in the data!\n",
    "\n",
    "The weather column, minus the header, has been loaded into the weather variable. Count up how many times each type of weather occurs. Store the counts in weather_counts."
   ]
  },
  {
   "cell_type": "code",
   "execution_count": 23,
   "metadata": {
    "collapsed": false
   },
   "outputs": [
    {
     "name": "stdout",
     "output_type": "stream",
     "text": [
      "{'Fog': 125, 'Sunny': 210, 'Thunderstorm': 1, 'Rain': 25, 'Fog-Rain': 4}\n"
     ]
    }
   ],
   "source": [
    "# Our weather column, minus the header, is assigned to the weather variable.\n",
    "weather_counts = {}\n",
    "for item in weather:\n",
    "    if item in weather_counts:\n",
    "        weather_counts[item] = weather_counts[item] + 1\n",
    "    else:\n",
    "        weather_counts[item] = 1\n",
    "\n",
    "print(weather_counts)"
   ]
  },
  {
   "cell_type": "code",
   "execution_count": null,
   "metadata": {
    "collapsed": true
   },
   "outputs": [],
   "source": []
  }
 ],
 "metadata": {
  "kernelspec": {
   "display_name": "Python 2",
   "language": "python",
   "name": "python2"
  },
  "language_info": {
   "codemirror_mode": {
    "name": "ipython",
    "version": 2
   },
   "file_extension": ".py",
   "mimetype": "text/x-python",
   "name": "python",
   "nbconvert_exporter": "python",
   "pygments_lexer": "ipython2",
   "version": "2.7.10"
  }
 },
 "nbformat": 4,
 "nbformat_minor": 0
}
