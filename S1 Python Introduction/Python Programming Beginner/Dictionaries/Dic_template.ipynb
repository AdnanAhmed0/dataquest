{
 "cells": [
  {
   "cell_type": "markdown",
   "metadata": {},
   "source": [
    "#Python Programming"
   ]
  },
  {
   "cell_type": "markdown",
   "metadata": {},
   "source": [
    "##Dictionaries"
   ]
  },
  {
   "cell_type": "markdown",
   "metadata": {},
   "source": [
    "###1: Parsing the file"
   ]
  },
  {
   "cell_type": "markdown",
   "metadata": {
    "collapsed": true
   },
   "source": [
    "Our data is in a CSV file, so we'll need to parse it before we can get started.\n",
    "\n",
    "Open \"la_weather.csv\", parse it, and assign the result to weather_data."
   ]
  },
  {
   "cell_type": "code",
   "execution_count": 19,
   "metadata": {
    "collapsed": false
   },
   "outputs": [
    {
     "data": {
      "text/plain": [
       "[['Day', 'Type\\xa0of\\xa0Weather'],\n",
       " ['1', 'Sunny'],\n",
       " ['2', 'Sunny'],\n",
       " ['3', 'Sunny'],\n",
       " ['4', 'Sunny'],\n",
       " ['5', 'Sunny'],\n",
       " ['6', 'Rain'],\n",
       " ['7', 'Sunny'],\n",
       " ['8', 'Sunny'],\n",
       " ['9', 'Fog']]"
      ]
     },
     "execution_count": 19,
     "metadata": {},
     "output_type": "execute_result"
    }
   ],
   "source": [
    "weather_data = []\n",
    "f = open(\"data/la_weather.csv\", 'r')\n",
    "data = f.read()\n",
    "rows = data.split('\\n')\n",
    "for row in rows:\n",
    "    split_row = row.split(\",\")\n",
    "    weather_data.append(split_row)\n",
    "\n",
    "weather_data[:10]"
   ]
  },
  {
   "cell_type": "markdown",
   "metadata": {},
   "source": [
    "###2: Getting a single column from the data"
   ]
  },
  {
   "cell_type": "markdown",
   "metadata": {},
   "source": [
    "The first column of the data isn't very useful to what we're doing, so let's get rid of it and only work with the second column.\n",
    "\n",
    "Get all of the values in the second column and append them to weather_column."
   ]
  },
  {
   "cell_type": "code",
   "execution_count": 20,
   "metadata": {
    "collapsed": false
   },
   "outputs": [
    {
     "data": {
      "text/plain": [
       "['Type\\xa0of\\xa0Weather',\n",
       " 'Sunny',\n",
       " 'Sunny',\n",
       " 'Sunny',\n",
       " 'Sunny',\n",
       " 'Sunny',\n",
       " 'Rain',\n",
       " 'Sunny',\n",
       " 'Sunny',\n",
       " 'Fog']"
      ]
     },
     "execution_count": 20,
     "metadata": {},
     "output_type": "execute_result"
    }
   ],
   "source": [
    "weather_column = []\n",
    "for row in weather_data:\n",
    "    if row:\n",
    "        weather_column.append(row[1])\n",
    "        \n",
    "weather_column[:10]"
   ]
  },
  {
   "cell_type": "markdown",
   "metadata": {},
   "source": [
    "###3: Pre-defined variables"
   ]
  },
  {
   "cell_type": "markdown",
   "metadata": {},
   "source": [
    "Loop over the weather variable, and set count equal to the number of items in weather."
   ]
  },
  {
   "cell_type": "code",
   "execution_count": 26,
   "metadata": {
    "collapsed": false
   },
   "outputs": [
    {
     "name": "stdout",
     "output_type": "stream",
     "text": [
      "First weather entry:  Sunny\n",
      "Number of weather entries:  365\n"
     ]
    }
   ],
   "source": [
    "weather = weather_data\n",
    "with open('data/la_weather.csv', 'r') as f:\n",
    "    # weather_data = [row.rstrip().split(',') for row in f]\n",
    "    weather = [row.rstrip().split(',')[1] for row in f][1:]\n",
    "\n",
    "print \"First weather entry: \", weather[0]\n",
    "\n",
    "# Loop over the weather variable, and set count equal to the number of items in weather.\n",
    "count = 0\n",
    "for item in weather:\n",
    "    count = count + 1\n",
    "\n",
    "print \"Number of weather entries: \", count"
   ]
  },
  {
   "cell_type": "markdown",
   "metadata": {},
   "source": [
    "###4: Practice slicing a list"
   ]
  },
  {
   "cell_type": "markdown",
   "metadata": {},
   "source": [
    "Assign a slice containing index 2 and 3 from slice_me to slice1. Assign a slice containing index 1 from slice_me to slice2. Assign a slice containing index 3 and 4 from slice_me to slice3."
   ]
  },
  {
   "cell_type": "code",
   "execution_count": 47,
   "metadata": {
    "collapsed": false
   },
   "outputs": [
    {
     "name": "stdout",
     "output_type": "stream",
     "text": [
      "[4, 5, 6, 7, 8]\n",
      "[6, 7]\n",
      "[]\n",
      "[6]\n",
      "[7, 6, 4, 5, 6]\n",
      "[4, 5]\n",
      "[6]\n",
      "[5, 6]\n"
     ]
    }
   ],
   "source": [
    "a = [4,5,6,7,8]\n",
    "print a\n",
    "# New list containing index 2 and 3.\n",
    "print a[2:4]\n",
    "# New list with no elements.\n",
    "print a[2:2]\n",
    "# New list containing only index 2.\n",
    "print a[2:3]\n",
    "\n",
    "slice_me = [7,6,4,5,6]\n",
    "print slice_me\n",
    "\n",
    "slice1 = slice_me[2:4]\n",
    "slice2 = slice_me[1:2]\n",
    "slice3 = slice_me[3:5]\n",
    "\n",
    "print slice1\n",
    "print slice2\n",
    "print slice3"
   ]
  },
  {
   "cell_type": "markdown",
   "metadata": {},
   "source": [
    "###5: Removing our header"
   ]
  },
  {
   "cell_type": "markdown",
   "metadata": {},
   "source": [
    "The weather data is in the weather variable. Slice the data and remove the header. The slice can end at 367. Assign the result to new_weather."
   ]
  },
  {
   "cell_type": "code",
   "execution_count": 30,
   "metadata": {
    "collapsed": false
   },
   "outputs": [
    {
     "data": {
      "text/plain": [
       "['Sunny',\n",
       " 'Sunny',\n",
       " 'Sunny',\n",
       " 'Sunny',\n",
       " 'Rain',\n",
       " 'Sunny',\n",
       " 'Sunny',\n",
       " 'Fog',\n",
       " 'Rain',\n",
       " 'Sunny']"
      ]
     },
     "execution_count": 30,
     "metadata": {},
     "output_type": "execute_result"
    }
   ],
   "source": [
    "new_weather = weather[1:367]\n",
    "\n",
    "new_weather[:10]"
   ]
  },
  {
   "cell_type": "markdown",
   "metadata": {},
   "source": [
    "###6: Making a dictionary"
   ]
  },
  {
   "cell_type": "markdown",
   "metadata": {},
   "source": [
    "Assign the value 5 to the key \"test\" in dictionary_two. Assign the value \"hello\" to the key 10 in dictionary_two."
   ]
  },
  {
   "cell_type": "code",
   "execution_count": 32,
   "metadata": {
    "collapsed": false
   },
   "outputs": [
    {
     "name": "stdout",
     "output_type": "stream",
     "text": [
      "{'key_one': 2}\n",
      "{5.2: 'hello', 10: 5, 'key_one': 2}\n",
      "{'test': 5, 10: 'hello'}\n"
     ]
    }
   ],
   "source": [
    "# Make dictionary.\n",
    "dictionary_one = {}\n",
    "\n",
    "# Add keys and values.\n",
    "dictionary_one[\"key_one\"] = 2\n",
    "print dictionary_one\n",
    "\n",
    "# Dictionaries can have multiple keys.\n",
    "dictionary_one[10] = 5\n",
    "dictionary_one[5.2] = \"hello\"\n",
    "print dictionary_one\n",
    "\n",
    "# Make dictionary.\n",
    "dictionary_two = {}\n",
    "\n",
    "# Add keys and values.\n",
    "dictionary_two[\"test\"] = 5\n",
    "dictionary_two[10] = \"hello\"\n",
    "print dictionary_two"
   ]
  },
  {
   "cell_type": "markdown",
   "metadata": {},
   "source": [
    "###7: Indexing a dictionary"
   ]
  },
  {
   "cell_type": "markdown",
   "metadata": {},
   "source": [
    "We can index dictionaries with square brackets. a = dictionary[10] will get the value stored in the dictionary for the key 10 and assign it to a.\n",
    "\n",
    "Assign the value in \"key1\" in dictionary_two to a. Assign the value in \"key2\" in dictionary_two to b. Assign the value in \"key3\" in dictionary_two to c."
   ]
  },
  {
   "cell_type": "code",
   "execution_count": 36,
   "metadata": {
    "collapsed": false
   },
   "outputs": [
    {
     "name": "stdout",
     "output_type": "stream",
     "text": [
      "{'test': 10, 'key': 'fly'}\n",
      "10\n",
      "fly\n",
      "{'key3': 5.6, 'key2': 10, 'key1': 'high'}\n",
      "high\n",
      "10\n",
      "5.6\n"
     ]
    }
   ],
   "source": [
    "# Make dictionary.\n",
    "dictionary_one = {}\n",
    "\n",
    "# Add keys and values.\n",
    "dictionary_one[\"test\"] = 10\n",
    "dictionary_one[\"key\"] = \"fly\"\n",
    "\n",
    "print dictionary_one\n",
    "\n",
    "# Retrieve values from dictionaries.\n",
    "print dictionary_one[\"test\"]\n",
    "print dictionary_one[\"key\"]\n",
    "\n",
    "# Make dictionary.\n",
    "dictionary_two = {}\n",
    "\n",
    "# Add keys and values.\n",
    "dictionary_two[\"key1\"] = \"high\"\n",
    "dictionary_two[\"key2\"] = 10\n",
    "dictionary_two[\"key3\"] = 5.6\n",
    "\n",
    "print dictionary_two\n",
    "\n",
    "# Retrieve values from dictionaries.\n",
    "a = dictionary_two[\"key1\"]\n",
    "b = dictionary_two[\"key2\"]\n",
    "c = dictionary_two[\"key3\"]\n",
    "\n",
    "print a\n",
    "print b\n",
    "print c"
   ]
  },
  {
   "cell_type": "markdown",
   "metadata": {},
   "source": [
    "###8: Defining a dictionary with values"
   ]
  },
  {
   "cell_type": "markdown",
   "metadata": {},
   "source": [
    "We can define a dictionary that already contains values.\n",
    "\n",
    "Make a dictionary c with the keys 7, 8, and 9 corresponding to the values \"raven\", \"goose\", and \"duck\". Make a dictionary d with the keys \"morning\", \"afternoon\", \"evening\", and \"night\" corresponding to the values 9, 14, 19, and 23."
   ]
  },
  {
   "cell_type": "code",
   "execution_count": 41,
   "metadata": {
    "collapsed": false
   },
   "outputs": [
    {
     "name": "stdout",
     "output_type": "stream",
     "text": [
      "{'key3': 'dataquest', 'key2': 'indubitably', 'key1': 10, 3: 5.6}\n",
      "10\n",
      "{4: 'robin', 5: 'bluebird', 6: 'sparrow'}\n",
      "robin\n",
      "{8: 'goose', 9: 'duck', 7: 'raven'}\n",
      "raven\n",
      "{'night': 23, 'evening': 19, 'afternoon': 14, 'morning': 9}\n",
      "9\n"
     ]
    }
   ],
   "source": [
    "# Define dictionary that already contains values.\n",
    "a = {\"key1\": 10, \"key2\": \"indubitably\", \"key3\": \"dataquest\", 3: 5.6}\n",
    "print a\n",
    "print a[\"key1\"]\n",
    "\n",
    "# Define dictionary that already contains values.\n",
    "b = {4: \"robin\", 5: \"bluebird\", 6: \"sparrow\"}\n",
    "print b\n",
    "print b[4]\n",
    "\n",
    "# Define dictionary that already contains values.\n",
    "c = {7: \"raven\", 8: \"goose\", 9: \"duck\"}\n",
    "print c\n",
    "print c[7]\n",
    "\n",
    "# Define dictionary that already contains values.\n",
    "d = {\"morning\": 9, \"afternoon\": 14, \"evening\": 19, \"night\": 23}\n",
    "print d\n",
    "print d[\"morning\"]"
   ]
  },
  {
   "cell_type": "markdown",
   "metadata": {},
   "source": [
    "###9: Testing if items are in a list"
   ]
  },
  {
   "cell_type": "markdown",
   "metadata": {},
   "source": [
    "Check if 9 is in list2, and assign the result to c. Check if 8 is in list2, and assign the result to d. Check if -1 is in list2, and assign the result to e."
   ]
  },
  {
   "cell_type": "code",
   "execution_count": 46,
   "metadata": {
    "collapsed": false
   },
   "outputs": [
    {
     "name": "stdout",
     "output_type": "stream",
     "text": [
      "[10, 60, -5, 8]\n",
      "True\n",
      "True\n",
      "False\n",
      "False\n",
      "[8, 5.6, 70, 800]\n",
      "False\n",
      "True\n",
      "False\n"
     ]
    }
   ],
   "source": [
    "# Create list.\n",
    "the_list = [10,60,-5,8]\n",
    "print the_list\n",
    "\n",
    "# Print whether 10 is in 'the_list' using an 'in' statement.\n",
    "print 10 in the_list\n",
    "\n",
    "# Print whether -5 is in 'the_list' using an 'in' statement.\n",
    "print -5 in the_list\n",
    "\n",
    "# Print whether 9 is in 'the_list' using an 'in' statement.\n",
    "print 9 in the_list\n",
    "\n",
    "# Assign the result of an in statement to a variable.\n",
    "a = 7 in the_list\n",
    "print a\n",
    "\n",
    "# Create list.\n",
    "list2 = [8, 5.6, 70, 800]\n",
    "print list2\n",
    "\n",
    "c = 9 in list2\n",
    "d = 8 in list2\n",
    "e = -1 in list2\n",
    "\n",
    "print c\n",
    "print d\n",
    "print e"
   ]
  },
  {
   "cell_type": "markdown",
   "metadata": {},
   "source": [
    "###10: More uses for the in statement"
   ]
  },
  {
   "cell_type": "markdown",
   "metadata": {},
   "source": [
    "We can also use the in statement to check if a key is in a dictionary. We do this the same way we check if a value is in a list.\n",
    "\n",
    "Check whether \"jupiter\" is in dict2 and assign the result to b. Check whether \"earth\" is in dict2 and assign the result to c."
   ]
  },
  {
   "cell_type": "code",
   "execution_count": 48,
   "metadata": {
    "collapsed": false
   },
   "outputs": [
    {
     "name": "stdout",
     "output_type": "stream",
     "text": [
      "{'lark': 'blue', 'oriole': 'orange', 'cardinal': 'red', 'robin': 'red'}\n",
      "True\n",
      "False\n",
      "True\n",
      "{'mercury': 1, 'earth': 3, 'venus': 2, 'mars': 4}\n",
      "False\n",
      "True\n"
     ]
    }
   ],
   "source": [
    "# Define dictionary that already contains values.\n",
    "the_dict = {\"robin\": \"red\", \"cardinal\": \"red\", \"oriole\": \"orange\", \"lark\": \"blue\"}\n",
    "print the_dict\n",
    "\n",
    "# Print whether robin is in 'the_dict' using an 'in' statement.\n",
    "print \"robin\" in the_dict\n",
    "\n",
    "# Print whether crow is in 'the_dict' using an 'in' statement.\n",
    "print \"crow\" in the_dict\n",
    "\n",
    "# Assign the result of an in statement to a variable.\n",
    "a = \"cardinal\" in the_dict\n",
    "print a\n",
    "\n",
    "# Define dictionary that already contains values.\n",
    "dict2 = {\"mercury\": 1, \"venus\": 2, \"earth\": 3, \"mars\": 4}\n",
    "print dict2\n",
    "\n",
    "b = \"jupiter\" in dict2\n",
    "c = \"earth\" in dict2\n",
    "\n",
    "print b\n",
    "print c"
   ]
  },
  {
   "cell_type": "markdown",
   "metadata": {},
   "source": [
    "###11: Practicing with the else statement"
   ]
  },
  {
   "cell_type": "markdown",
   "metadata": {},
   "source": [
    "The else statement is a powerful way to extend a basic if statement.\n",
    "\n",
    "Write an if statement that prints \"It's hot!\" when the season is \"Summer\" Add an else statement to the if that prints \"It might be hot!\"."
   ]
  },
  {
   "cell_type": "code",
   "execution_count": 49,
   "metadata": {
    "collapsed": false
   },
   "outputs": [
    {
     "name": "stdout",
     "output_type": "stream",
     "text": [
      "Not 7!\n",
      "Nintendo is the best!\n",
      "It might be hot!\n"
     ]
    }
   ],
   "source": [
    "# Code in an else statement will be executed if the if statement boolean is False.\n",
    "a = 6\n",
    "if a == 7:\n",
    "    print(a)\n",
    "else:\n",
    "    print \"Not 7!\"\n",
    "\n",
    "video_game = \"Mario\"\n",
    "if video_game == \"Mario\":\n",
    "    print \"Nintendo is the best!\"\n",
    "else:\n",
    "    print \"Sony is the best!\"\n",
    "\n",
    "season = \"Spring\"\n",
    "if season == \"Summer\":\n",
    "    print \"It's hot!\"\n",
    "else:\n",
    "    print \"It might be hot!\""
   ]
  },
  {
   "cell_type": "markdown",
   "metadata": {},
   "source": [
    "##12: Practicing with the else statement"
   ]
  },
  {
   "cell_type": "markdown",
   "metadata": {},
   "source": [
    "We can combine some of the concepts we've already learned to count how many times items appear in a list using dictionaries. We'll loop over the list, and create a key for each item we want to count. We then increment the key whenever we see the element again. At the end, we have the count.\n",
    "\n",
    "Count how many times each presidential last name appears in us_presidents. Assign the counts to us_president_counts."
   ]
  },
  {
   "cell_type": "code",
   "execution_count": 53,
   "metadata": {
    "collapsed": false
   },
   "outputs": [
    {
     "name": "stdout",
     "output_type": "stream",
     "text": [
      "['apple', 'orange', 'grape', 'apple', 'orange', 'apple', 'tomato', 'potato', 'grape']\n",
      "{'orange': 2, 'tomato': 1, 'grape': 2, 'apple': 3, 'potato': 1}\n",
      "['Adams', 'Bush', 'Clinton', 'Obama', 'Harrison', 'Taft', 'Bush', 'Adams', 'Wilson', 'Roosevelt', 'Roosevelt']\n",
      "{'Wilson': 1, 'Taft': 1, 'Clinton': 1, 'Adams': 2, 'Roosevelt': 2, 'Bush': 2, 'Harrison': 1, 'Obama': 1}\n"
     ]
    }
   ],
   "source": [
    "# Create list.\n",
    "pantry = [\"apple\", \"orange\", \"grape\", \"apple\", \"orange\", \"apple\", \"tomato\", \"potato\", \"grape\"]\n",
    "print pantry\n",
    "\n",
    "# Create an empty dictionary.\n",
    "pantry_counts = {}\n",
    "\n",
    "# Loop through the list.\n",
    "for item in pantry:\n",
    "    if item in pantry_counts:\n",
    "        # If the list item is already a key in the dictionary, then add 1 to the value of that key.\n",
    "        pantry_counts[item] = pantry_counts[item] + 1\n",
    "    else:\n",
    "        # If the item isn't already a key in the count dictionary, then add the key, and set the value to 1.\n",
    "        pantry_counts[item] = 1\n",
    "        \n",
    "print pantry_counts\n",
    "\n",
    "# Create list.\n",
    "us_presidents = [\"Adams\", \"Bush\", \"Clinton\", \"Obama\", \"Harrison\", \"Taft\", \"Bush\", \"Adams\", \"Wilson\", \"Roosevelt\", \"Roosevelt\"]\n",
    "print us_presidents\n",
    "\n",
    "# Create an empty dictionary.\n",
    "us_president_counts = {}\n",
    "\n",
    "# Loop through the list.\n",
    "for president in us_presidents:\n",
    "    if president in us_president_counts:\n",
    "        # If the list item is already a key in the dictionary, then add 1 to the value of that key.\n",
    "        us_president_counts[president] = us_president_counts[president] + 1\n",
    "    else:\n",
    "        # If the item isn't already a key in the count dictionary, then add the key, and set the value to 1.\n",
    "        us_president_counts[president] = 1\n",
    "        \n",
    "print us_president_counts"
   ]
  },
  {
   "cell_type": "markdown",
   "metadata": {},
   "source": [
    "##13: Counting the weather!"
   ]
  },
  {
   "cell_type": "markdown",
   "metadata": {},
   "source": [
    "We now know how to count up how many times each type of weather occurs in the data!\n",
    "\n",
    "The weather column, minus the header, has been loaded into the weather variable. Count up how many times each type of weather occurs. Store the counts in weather_counts."
   ]
  },
  {
   "cell_type": "code",
   "execution_count": 23,
   "metadata": {
    "collapsed": false
   },
   "outputs": [
    {
     "name": "stdout",
     "output_type": "stream",
     "text": [
      "{'Fog': 125, 'Sunny': 210, 'Thunderstorm': 1, 'Rain': 25, 'Fog-Rain': 4}\n"
     ]
    }
   ],
   "source": [
    "# Create an empty dictionary.\n",
    "weather_counts = {}\n",
    "\n",
    "# Loop through the list.\n",
    "for item in weather:\n",
    "    if item in weather_counts:\n",
    "        weather_counts[item] = weather_counts[item] + 1\n",
    "    else:\n",
    "        weather_counts[item] = 1\n",
    "\n",
    "print weather_counts"
   ]
  }
 ],
 "metadata": {
  "kernelspec": {
   "display_name": "Python 2",
   "language": "python",
   "name": "python2"
  },
  "language_info": {
   "codemirror_mode": {
    "name": "ipython",
    "version": 2
   },
   "file_extension": ".py",
   "mimetype": "text/x-python",
   "name": "python",
   "nbconvert_exporter": "python",
   "pygments_lexer": "ipython2",
   "version": "2.7.10"
  }
 },
 "nbformat": 4,
 "nbformat_minor": 0
}
