{
 "cells": [
  {
   "cell_type": "code",
   "execution_count": 1,
   "metadata": {
    "collapsed": false
   },
   "outputs": [
    {
     "data": {
      "text/html": [
       "<script>\n",
       "code_show=true; \n",
       "function code_toggle() {\n",
       " if (code_show){\n",
       " $('div.input').hide();\n",
       " } else {\n",
       " $('div.input').show();\n",
       " }\n",
       " code_show = !code_show\n",
       "} \n",
       "$( document ).ready(code_toggle);\n",
       "</script>\n",
       "<form action=\"javascript:code_toggle()\"><input type=\"submit\" value=\"Click here to toggle on/off the raw code.\"></form>"
      ],
      "text/plain": [
       "<IPython.core.display.HTML object>"
      ]
     },
     "execution_count": 1,
     "metadata": {},
     "output_type": "execute_result"
    }
   ],
   "source": [
    "from IPython.display import HTML\n",
    "\n",
    "HTML('''<script>\n",
    "code_show=true; \n",
    "function code_toggle() {\n",
    " if (code_show){\n",
    " $('div.input').hide();\n",
    " } else {\n",
    " $('div.input').show();\n",
    " }\n",
    " code_show = !code_show\n",
    "} \n",
    "$( document ).ready(code_toggle);\n",
    "</script>\n",
    "<form action=\"javascript:code_toggle()\"><input type=\"submit\" value=\"Click here to toggle on/off the raw code.\"></form>''')"
   ]
  },
  {
   "cell_type": "markdown",
   "metadata": {},
   "source": [
    "#Python Programming"
   ]
  },
  {
   "cell_type": "markdown",
   "metadata": {},
   "source": [
    "##If Statements and Loops"
   ]
  },
  {
   "cell_type": "markdown",
   "metadata": {},
   "source": [
    "###1: Opening files"
   ]
  },
  {
   "cell_type": "markdown",
   "metadata": {},
   "source": [
    "A counter is a map from values to their frequencies. If you initialize a counter with a string, you get a map from each letter to the number of times it appears. If two words are anagrams, they yield equal Counters, so you can use Counters to test anagrams in linear time."
   ]
  },
  {
   "cell_type": "code",
   "execution_count": 2,
   "metadata": {
    "collapsed": false
   },
   "outputs": [],
   "source": [
    "# We can open files with the open function.\n",
    "# The open function returns a file object, which we store in a variable so that we can use it later.\n",
    "b = open('data/crime_rates.csv', 'r')"
   ]
  },
  {
   "cell_type": "markdown",
   "metadata": {},
   "source": [
    "###2: CSV files"
   ]
  },
  {
   "cell_type": "markdown",
   "metadata": {},
   "source": [
    "crime_rates.csv stores the data on crime rates. This data will help us find the city with the lowest violent crime. We can use the .read() method to read the data in the file into a variable. Methods are different from functions in that they are associated with a specific object. We will get more into objects and classes later on, but for now, it is enough to know that methods act on objects, whereas functions are global, and unattached to any specific objects."
   ]
  },
  {
   "cell_type": "code",
   "execution_count": 4,
   "metadata": {
    "collapsed": false
   },
   "outputs": [],
   "source": [
    "f = open(\"data/crime_rates.csv\", 'r')\n",
    "\n",
    "b = f.read()"
   ]
  },
  {
   "cell_type": "markdown",
   "metadata": {},
   "source": [
    "###3: Making a list"
   ]
  },
  {
   "cell_type": "markdown",
   "metadata": {},
   "source": [
    "We can make a list by using square brackets. An empty list can be initialized by using []. We can also initialize lists with elements in them by doing something like [1,10,3]. Lists can contain any type of variable, including strings, floats, and integers."
   ]
  },
  {
   "cell_type": "code",
   "execution_count": 5,
   "metadata": {
    "collapsed": true
   },
   "outputs": [],
   "source": [
    "# We can make an empty list with square brackets\n",
    "a = []\n",
    "\n",
    "# We can also initialize a list with values inside of it\n",
    "b = [1, \"I'm a string in a list!\", 5.1]\n",
    "c = [1,2,3]\n",
    "d = [1,2,3]\n",
    "e = [\"hello\", \"bye\", \"hi\"]\n",
    "f = [5.1, 3.4, 10.5]"
   ]
  },
  {
   "cell_type": "markdown",
   "metadata": {},
   "source": [
    "###4: Indexing a list"
   ]
  },
  {
   "cell_type": "markdown",
   "metadata": {},
   "source": [
    "We can get values from a list by using square brackets, along with an index. Python is a 0-indexed language, so we start counting at 0."
   ]
  },
  {
   "cell_type": "code",
   "execution_count": 6,
   "metadata": {
    "collapsed": false
   },
   "outputs": [],
   "source": [
    "# We can get values from lists by using an index.\n",
    "sample_list = [10, \"Boris Yeltsin\", 50]\n",
    "b = sample_list[0]\n",
    "\n",
    "c = [1, \"Mikhail Gorbachev\", 10.5]\n",
    "d = c[0]\n",
    "e = c[1]\n",
    "f = c[2]"
   ]
  },
  {
   "cell_type": "markdown",
   "metadata": {},
   "source": [
    "###5: Splitting a CSV file"
   ]
  },
  {
   "cell_type": "markdown",
   "metadata": {},
   "source": [
    "Remember how strings are also objects? Well, we can use the .split method to split strings. The .split method takes a character as input, and then turns a string into a list of strings."
   ]
  },
  {
   "cell_type": "code",
   "execution_count": 7,
   "metadata": {
    "collapsed": false
   },
   "outputs": [
    {
     "name": "stdout",
     "output_type": "stream",
     "text": [
      "['This', 'is', 'a', 'string', '']\n",
      "['How much wood', 'can a woodchuck chuck', 'if a woodchuck', 'can chuck wood?']\n"
     ]
    }
   ],
   "source": [
    "# We can split a string into a list.\n",
    "a_string = \"This\\nis\\na\\nstring\\n\"\n",
    "split_string = a_string.split('\\n')\n",
    "print(split_string)\n",
    "\n",
    "# Here's another example.\n",
    "string_two = \"How much wood\\ncan a woodchuck chuck\\nif a woodchuck\\ncan chuck wood?\"\n",
    "split_string_two = string_two.split('\\n')\n",
    "print(split_string_two)\n",
    "\n",
    "f = open('data/crime_rates.csv', 'r')\n",
    "data = f.read()\n",
    "rows = data.split('\\n')"
   ]
  },
  {
   "cell_type": "markdown",
   "metadata": {},
   "source": [
    "###6: The manual way -- doing it without loops"
   ]
  },
  {
   "cell_type": "markdown",
   "metadata": {},
   "source": [
    "Before we make a loop, let's try doing a repetitive task without loops."
   ]
  },
  {
   "cell_type": "code",
   "execution_count": 8,
   "metadata": {
    "collapsed": false
   },
   "outputs": [
    {
     "name": "stdout",
     "output_type": "stream",
     "text": [
      "3\n",
      "3\n",
      "5\n",
      "8\n",
      "10\n",
      "15\n",
      "17\n",
      "19\n"
     ]
    }
   ],
   "source": [
    "# We have a list, the_list\n",
    "the_list = [3,5,8,10,15,17,19]\n",
    "\n",
    "# We can print the first element out\n",
    "print(the_list[0])\n",
    "print(the_list[0])\n",
    "print(the_list[1])\n",
    "print(the_list[2])\n",
    "print(the_list[3])\n",
    "print(the_list[4])\n",
    "print(the_list[5])\n",
    "print(the_list[6])"
   ]
  },
  {
   "cell_type": "markdown",
   "metadata": {},
   "source": [
    "###7: Now let's add loops to the equation"
   ]
  },
  {
   "cell_type": "markdown",
   "metadata": {},
   "source": [
    "We can loop over lists using the for i in the_list: notation. The area inside the for loop is indented 4 spaces, and will be run once for every item in the list. The variable i will be assigned the value of each element of the list in turn."
   ]
  },
  {
   "cell_type": "code",
   "execution_count": 9,
   "metadata": {
    "collapsed": false
   },
   "outputs": [
    {
     "name": "stdout",
     "output_type": "stream",
     "text": [
      "5\n",
      "10\n",
      "15\n",
      "3\n",
      "5\n",
      "8\n",
      "10\n",
      "15\n",
      "17\n",
      "19\n"
     ]
    }
   ],
   "source": [
    "# We can loop over each item in a list.\n",
    "a = [5, 10, 15]\n",
    "for i in a:\n",
    "    print(i)\n",
    "\n",
    "# The whole block underneath a for loop needs to be indented 4 spaces, and is run once for each item in the list.\n",
    "\n",
    "the_list = [3,5,8,10,15,17,19]\n",
    "for i in the_list:\n",
    "    print(i)"
   ]
  },
  {
   "cell_type": "markdown",
   "metadata": {},
   "source": [
    "###8: Multiline for loops"
   ]
  },
  {
   "cell_type": "markdown",
   "metadata": {},
   "source": [
    "There can be multiple indented lines inside a for loop. The first line that isn't indented will mark the end of the loop."
   ]
  },
  {
   "cell_type": "code",
   "execution_count": 10,
   "metadata": {
    "collapsed": false
   },
   "outputs": [
    {
     "name": "stdout",
     "output_type": "stream",
     "text": [
      "154\n"
     ]
    }
   ],
   "source": [
    "# We can have multiple lines underneath a for loop.\n",
    "# The code above will go through the_list.\n",
    "# At the end, sum will equal the sum of all of the items in the list doubled.\n",
    "the_list = [3,5,8,10,15,17,19]\n",
    "sum = 0\n",
    "for i in the_list:\n",
    "    # Double the value of i.\n",
    "    double_i = i * 2\n",
    "    # Add the doubled value to the sum.\n",
    "    sum = sum + double_i\n",
    "print(sum)\n",
    "\n",
    "sum = 0\n",
    "for i in the_list:\n",
    "    triple_i = i * 3\n",
    "    sum = sum + triple_i"
   ]
  },
  {
   "cell_type": "markdown",
   "metadata": {},
   "source": [
    "###9: For loops with different variable names"
   ]
  },
  {
   "cell_type": "markdown",
   "metadata": {},
   "source": [
    "So far, we have been using for loops with the format for i in the_list. i is a special variable that will take on a different value every time through the loop. It takes on the value of each of the list elements in succession, starting from index 0. But we don't have to name the variable i. We can name it anything, as long as we refer to it inside the loop by the same name."
   ]
  },
  {
   "cell_type": "code",
   "execution_count": 11,
   "metadata": {
    "collapsed": false
   },
   "outputs": [
    {
     "name": "stdout",
     "output_type": "stream",
     "text": [
      "154\n"
     ]
    }
   ],
   "source": [
    "# We can name the loop variable anything we want, it just has to be also used inside the loop.\n",
    "the_list = [3,5,8,10,15,17,19]\n",
    "sum = 0\n",
    "for i in the_list:\n",
    "    double_value = i * 2\n",
    "    sum = sum + double_value\n",
    "print(sum)\n",
    "\n",
    "sum = 0\n",
    "for value in the_list:\n",
    "    triple_value = value * 3\n",
    "    sum = sum + triple_value"
   ]
  },
  {
   "cell_type": "markdown",
   "metadata": {},
   "source": [
    "###10: Lists of lists"
   ]
  },
  {
   "cell_type": "markdown",
   "metadata": {},
   "source": [
    "We can store integers, floats, and strings into lists. We can also store other lists. [[1,2,3], [4,5,6], [7,8,9]] is a valid list. When we index the outer list, we get an inner list as the result."
   ]
  },
  {
   "cell_type": "code",
   "execution_count": 12,
   "metadata": {
    "collapsed": false
   },
   "outputs": [],
   "source": [
    "# Create a list of lists\n",
    "lolists = [[1,2,3], [10,15,14], [10.1,8.7,2.3]]\n",
    "\n",
    "# We can pull out the first element of the list, which is [1,2,3].\n",
    "# Since [1,2,3] is a list, we can also index it to get elements out.\n",
    "a = lolists[0]\n",
    "b = a[0]\n",
    "list1 = lolists[1]\n",
    "value_1_0 = list1[0]\n",
    "value_1_2 = list1[2]\n",
    "\n",
    "list2 = lolists[2]\n",
    "value_2_0 = list2[0]\n",
    "value_2_2 = list2[2]"
   ]
  },
  {
   "cell_type": "markdown",
   "metadata": {},
   "source": [
    "###11: Skipping the assignment"
   ]
  },
  {
   "cell_type": "markdown",
   "metadata": {},
   "source": [
    "When a statement or function returns a variable, we can directly manipulate it instead of assigning it to a variable first."
   ]
  },
  {
   "cell_type": "code",
   "execution_count": 13,
   "metadata": {
    "collapsed": false
   },
   "outputs": [],
   "source": [
    "# Create a list of lists\n",
    "lolists = [[1,2,3], [10,15,14], [10.1,8.7,2.3]]\n",
    "\n",
    "# Pulls out the first element in the first list.\n",
    "a = lolists[0][0]\n",
    "\n",
    "# Pulls out the third element in the second list.\n",
    "b = lolists[1][2]\n",
    "\n",
    "# We can also directly do math with expressions.\n",
    "c = lolists[0][2] + 10\n",
    "\n",
    "# Any expression in python can be manipulated without first assigning it to a variable.\n",
    "d = 10\n",
    "e = d * lolists[2][0]"
   ]
  },
  {
   "cell_type": "markdown",
   "metadata": {},
   "source": [
    "###12: Looping through lists of lists"
   ]
  },
  {
   "cell_type": "markdown",
   "metadata": {},
   "source": [
    "When we loop through a list of lists, the loop variable will be a list at each iteration. We can do computation inside the loop and pull values out of the list with indexing."
   ]
  },
  {
   "cell_type": "code",
   "execution_count": 15,
   "metadata": {
    "collapsed": false
   },
   "outputs": [
    {
     "name": "stdout",
     "output_type": "stream",
     "text": [
      "[1, 2, 3]\n",
      "[10, 15, 14]\n",
      "[10.1, 8.7, 2.3]\n",
      "1\n",
      "10\n",
      "10.1\n"
     ]
    }
   ],
   "source": [
    "lolists = [[1,2,3], [10,15,14], [10.1,8.7,2.3]]\n",
    "\n",
    "for inner_list in lolists:\n",
    "    # This will loop through and print each inner list, starting from the one at index 0.\n",
    "    print(inner_list)\n",
    "    \n",
    "for inner_list in lolists:\n",
    "    print(inner_list[0])"
   ]
  },
  {
   "cell_type": "markdown",
   "metadata": {},
   "source": [
    "###13: Adding to lists"
   ]
  },
  {
   "cell_type": "markdown",
   "metadata": {},
   "source": [
    "We can use the .append method to add to a list. list.append(10) will add the element 10 to the end of the list."
   ]
  },
  {
   "cell_type": "code",
   "execution_count": 17,
   "metadata": {
    "collapsed": false
   },
   "outputs": [
    {
     "name": "stdout",
     "output_type": "stream",
     "text": [
      "[]\n",
      "[10]\n",
      "[30]\n",
      "[30, 50]\n",
      "[1, 2, 5, 10]\n"
     ]
    }
   ],
   "source": [
    "# The append method adds items to the end of lists.\n",
    "# a will go from having no items in it to having 10 at index 0.\n",
    "a = []\n",
    "print(a)\n",
    "a.append(10)\n",
    "print(a)\n",
    "\n",
    "# b will go from having one item to having two items.\n",
    "b = [30]\n",
    "print(b)\n",
    "b.append(50)\n",
    "print(b)\n",
    "\n",
    "# We can setup an old list with items, and an empty new list.\n",
    "old_list = [1,2,5,10]\n",
    "new_list = []\n",
    "\n",
    "# At the end of this loop, new_list will be equal to old_list.\n",
    "# The loop will have gone through each item in old_list, starting from index 0, and appended it to the end of new_list.\n",
    "for item in old_list:\n",
    "    new_list.append(item)\n",
    "print(new_list)\n",
    "\n",
    "c = [20,30]\n",
    "c.append(60)\n",
    "c.append(70)"
   ]
  },
  {
   "cell_type": "markdown",
   "metadata": {},
   "source": [
    "###14: Splitting the csv file into columns"
   ]
  },
  {
   "cell_type": "markdown",
   "metadata": {},
   "source": [
    "When we left off with parsing our csv file, we had split it into rows, but still had to split up the strings we were left with into columns. We can use the .split method, along with our newfound knowledge of for loops and lists of lists, to split up the file."
   ]
  },
  {
   "cell_type": "code",
   "execution_count": 18,
   "metadata": {
    "collapsed": false
   },
   "outputs": [
    {
     "name": "stdout",
     "output_type": "stream",
     "text": [
      "['1', '10', '15', '20']\n",
      "<type 'list'>\n",
      "1\n"
     ]
    }
   ],
   "source": [
    "# We can use the .split method, with a comma as an input, to split a string on a comma.\n",
    "# a_list is a list with 1,10,15, and 20 as elements.\n",
    "a_string = \"1,10,15,20\"\n",
    "a_list = a_string.split(\",\")\n",
    "print(a_list)\n",
    "print(type(a_list))\n",
    "print(a_list[0])\n",
    "\n",
    "# We split our csv file data into rows earlier.\n",
    "f = open('data/crime_rates.csv', 'r')\n",
    "data = f.read()\n",
    "rows = data.split('\\n')\n",
    "\n",
    "full_data = []\n",
    "for row in rows:\n",
    "    split_row = row.split(\",\")\n",
    "    full_data.append(split_row)"
   ]
  },
  {
   "cell_type": "markdown",
   "metadata": {},
   "source": [
    "###15: Finding the number of rows"
   ]
  },
  {
   "cell_type": "markdown",
   "metadata": {},
   "source": [
    "We can iterate over the data to count up the number of rows."
   ]
  },
  {
   "cell_type": "code",
   "execution_count": 19,
   "metadata": {
    "collapsed": true
   },
   "outputs": [],
   "source": [
    "# Remember how we counted the length of our list before?\n",
    "# When the loop finishes, count will be equal to 5, which is the number of items in the_list.\n",
    "# This is because 1 will be added to count for every iteration of the loop.\n",
    "the_list = [5,6,10,13,17]\n",
    "count = 0\n",
    "for item in the_list:\n",
    "    count = count + 1\n",
    "\n",
    "# We can parse our csv file like we did before.\n",
    "f = open('data/crime_rates.csv', 'r')\n",
    "data = f.read()\n",
    "rows = data.split('\\n')\n",
    "full_data = []\n",
    "for row in rows:\n",
    "    split_row = row.split(\",\")\n",
    "    full_data.append(split_row)\n",
    "count = 0\n",
    "for row in full_data:\n",
    "    count = count + 1"
   ]
  },
  {
   "cell_type": "markdown",
   "metadata": {},
   "source": [
    "###16: Finding the number of columns"
   ]
  },
  {
   "cell_type": "markdown",
   "metadata": {},
   "source": [
    "Now that we understand the table structure better, we can count up the number of columns."
   ]
  },
  {
   "cell_type": "code",
   "execution_count": 20,
   "metadata": {
    "collapsed": true
   },
   "outputs": [],
   "source": [
    "# We just counted the number of rows.  We can do the same for the number of columns.\n",
    "# Let's create a list of lists, and assume that the inner lists are the rows.\n",
    "# If this is the case, the number of columns is the number of items in any row.\n",
    "l = [[1,2,3],[3,4,5],[5,6,7]]\n",
    "first_row = l[0]\n",
    "count = 0\n",
    "for column in first_row:\n",
    "    count = count + 1\n",
    "\n",
    "# Count is now equal to 3, the number of items in the first row of data.\n",
    "# All of the rows have the same number of items, so 3 is our column count.\n",
    "\n",
    "# We parse our csv file\n",
    "f = open('data/crime_rates.csv', 'r')\n",
    "data = f.read()\n",
    "rows = data.split('\\n')\n",
    "full_data = []\n",
    "for row in rows:\n",
    "    split_row = row.split(\",\")\n",
    "    full_data.append(split_row)\n",
    "first_row = full_data[0]\n",
    "count = 0\n",
    "for column in first_row:\n",
    "    count = count + 1"
   ]
  },
  {
   "cell_type": "markdown",
   "metadata": {},
   "source": [
    "###17: Practicing with booleans"
   ]
  },
  {
   "cell_type": "markdown",
   "metadata": {},
   "source": [
    "Booleans can be used to compare equality and return True or False. Let's practice a bit with creating booleans."
   ]
  },
  {
   "cell_type": "code",
   "execution_count": 22,
   "metadata": {
    "collapsed": false
   },
   "outputs": [
    {
     "name": "stdout",
     "output_type": "stream",
     "text": [
      "False\n",
      "True\n",
      "<type 'bool'>\n",
      "<type 'bool'>\n",
      "False\n",
      "True\n",
      "False\n"
     ]
    }
   ],
   "source": [
    "# Booleans are statements that take on either True or False as a value.\n",
    "# We can create booleans by comparing two values and seeing if they are equal\n",
    "# This will be False\n",
    "print(\"Andre the Giant\" == \"Short\")\n",
    "\n",
    "# This is True\n",
    "print(\"Andre the Giant\" == \"Andre the Giant\")\n",
    "\n",
    "# True and False are special python keywords of the boolean type.\n",
    "# Boolean is abbreviated to bool.\n",
    "print(type(True))\n",
    "print(type(False))\n",
    "\n",
    "a = 10\n",
    "b = 5\n",
    "\n",
    "# False\n",
    "print(a == b)\n",
    "\n",
    "# True\n",
    "print(a == 10)\n",
    "\n",
    "# Assigning a boolean to a variable\n",
    "c = a == b\n",
    "print(c)\n",
    "d = a == 10\n",
    "e = b == 5\n",
    "f = a == 9\n",
    "g = b == 4"
   ]
  },
  {
   "cell_type": "markdown",
   "metadata": {},
   "source": [
    "###18: Booleans with greater than"
   ]
  },
  {
   "cell_type": "markdown",
   "metadata": {},
   "source": [
    "We can also use the greater than sign with booleans Saying 5 > 4 will evaluate to True, and 4 > 5 will be False."
   ]
  },
  {
   "cell_type": "code",
   "execution_count": 23,
   "metadata": {
    "collapsed": false
   },
   "outputs": [
    {
     "name": "stdout",
     "output_type": "stream",
     "text": [
      "True\n",
      "False\n",
      "True\n",
      "<type 'bool'>\n"
     ]
    }
   ],
   "source": [
    "# This will be True\n",
    "print(5 > 4)\n",
    "\n",
    "# This is False\n",
    "print(4 > 5)\n",
    "\n",
    "# We can also assign these values to variables\n",
    "# The value of a will be True, and it will be a boolean type\n",
    "a = 5 > 4\n",
    "print(a)\n",
    "print(type(a))\n",
    "b = 10 > 8\n",
    "c = 8 > 10"
   ]
  },
  {
   "cell_type": "markdown",
   "metadata": {},
   "source": [
    "###19: Booleans with less than"
   ]
  },
  {
   "cell_type": "markdown",
   "metadata": {},
   "source": [
    "We can also use the less than sign with booleans Saying 5 < 4 will evaluate to False, and 4 < 5 will be True."
   ]
  },
  {
   "cell_type": "code",
   "execution_count": 24,
   "metadata": {
    "collapsed": false
   },
   "outputs": [
    {
     "name": "stdout",
     "output_type": "stream",
     "text": [
      "True\n",
      "False\n",
      "True\n",
      "<type 'bool'>\n"
     ]
    }
   ],
   "source": [
    "# Just like with the greater than sign, we can use the less than sign.\n",
    "print(4 < 5)\n",
    "print(5 < 4)\n",
    "\n",
    "# We can assign these values to variables.\n",
    "# They will be of the boolean type.\n",
    "a = 4 < 5\n",
    "print(a)\n",
    "print(type(a))\n",
    "b = 3 < 5\n",
    "c = 5 < 3"
   ]
  },
  {
   "cell_type": "markdown",
   "metadata": {},
   "source": [
    "###20: Using booleans in if statements"
   ]
  },
  {
   "cell_type": "markdown",
   "metadata": {},
   "source": [
    "You can use booleans to control when certain code gets executed. When the statement after the if statement is True, then the code runs. Otherwise, it doesn't."
   ]
  },
  {
   "cell_type": "code",
   "execution_count": 25,
   "metadata": {
    "collapsed": false
   },
   "outputs": [
    {
     "name": "stdout",
     "output_type": "stream",
     "text": [
      "Success!\n",
      "Hello world!\n"
     ]
    }
   ],
   "source": [
    "# If statements are followed by a boolean, which evaluates to True or False.\n",
    "# If the boolean is True, the code is run.\n",
    "# Otherwise, it isn't.\n",
    "# Success! will be printed here.\n",
    "if 4 == 4:\n",
    "    print(\"Success!\")\n",
    "\n",
    "# Nothing will be printed here, because 10 doesn't equal 8.\n",
    "if 10 == 8:\n",
    "    print(\"No success!\")\n",
    "if 10 == 10:\n",
    "    print(\"Hello world!\")"
   ]
  },
  {
   "cell_type": "markdown",
   "metadata": {},
   "source": [
    "###21: If statement with variables"
   ]
  },
  {
   "cell_type": "markdown",
   "metadata": {},
   "source": [
    "We can also use if statements with booleans that contain variables. if a == 5: will evaluate to True, and run the code inside the if statement."
   ]
  },
  {
   "cell_type": "code",
   "execution_count": 26,
   "metadata": {
    "collapsed": false
   },
   "outputs": [
    {
     "name": "stdout",
     "output_type": "stream",
     "text": [
      "Success!\n",
      "Much success!\n"
     ]
    }
   ],
   "source": [
    "# We can also use if statements with boolean statements containing variables.\n",
    "# The if statement below will print \"Success!\" because a == 4 evaluates to True.\n",
    "a = 4\n",
    "if a == 4:\n",
    "    print(\"Success!\")\n",
    "\n",
    "# This will print nothing, because b > 10 is False.\n",
    "b = 10\n",
    "if b > 10:\n",
    "    print(\"No success!\")\n",
    "\n",
    "c = 15\n",
    "if c == 15:\n",
    "    print(\"Much success!\")"
   ]
  },
  {
   "cell_type": "markdown",
   "metadata": {},
   "source": [
    "###22: Ifs and for loops, together at last!"
   ]
  },
  {
   "cell_type": "markdown",
   "metadata": {},
   "source": [
    "We can also use if statements inside for loops (or vice versa). When this happens, we need to indent everything in the inner block another 4 spaces."
   ]
  },
  {
   "cell_type": "code",
   "execution_count": 27,
   "metadata": {
    "collapsed": false
   },
   "outputs": [
    {
     "name": "stdout",
     "output_type": "stream",
     "text": [
      "2\n",
      "5\n",
      "10\n",
      "15\n",
      "20\n",
      "10\n",
      "15\n",
      "20\n"
     ]
    }
   ],
   "source": [
    "# We can 'nest' if statements inside for loops, or vice versa.\n",
    "the_list = [5, 10, 15, 20]\n",
    "\n",
    "# Let's say we want to count how many elements in the_list are greater than 10.\n",
    "count = 0\n",
    "for item in the_list:\n",
    "    if item > 10:\n",
    "        count = count + 1\n",
    "print(count)\n",
    "\n",
    "# Count equals two because item > 10 evaluated to True for 2 of the items in the_list.\n",
    "# Notice how we indented the body of the if statement another 4 spaces.\n",
    "# Whenever you put statements that have indented blocks inside each other, you will need to indent 4 more spaces.\n",
    "\n",
    "a = 2\n",
    "\n",
    "# Let's say we want to print all of the elements in the_list if a > 1.\n",
    "if a > 1:\n",
    "    for item in the_list:\n",
    "        print(item)\n",
    "\n",
    "# The above code will print all of the items in the_list, because a > 1 evaluates to True.\n",
    "for item in the_list:\n",
    "    if item > 5:\n",
    "        print(item)"
   ]
  },
  {
   "cell_type": "markdown",
   "metadata": {},
   "source": [
    "###23: Using if statements to find the smallest value"
   ]
  },
  {
   "cell_type": "markdown",
   "metadata": {},
   "source": [
    "Now that we know how we can combine if statements and for loops, we can learn how to use for loops to find minimum values."
   ]
  },
  {
   "cell_type": "code",
   "execution_count": 28,
   "metadata": {
    "collapsed": false
   },
   "outputs": [
    {
     "name": "stdout",
     "output_type": "stream",
     "text": [
      "5\n"
     ]
    }
   ],
   "source": [
    "# We can use for loops and if statements to find the smallest value in a list.\n",
    "the_list = [20,50,5,100]\n",
    "\n",
    "# Set smallest_item to a value that is bigger than anything in the_list.\n",
    "smallest_item = 1000\n",
    "for item in the_list:\n",
    "    # Check if each item is less than smallest_item.\n",
    "    if item < smallest_item:\n",
    "        # If it is, set smallest_item equal to its value.\n",
    "        smallest_item = item\n",
    "print(smallest_item)\n",
    "\n",
    "# The first time through the loop above, smallest_item will be set to 20, because 20 < 1000 is True.\n",
    "# The second time through, smallest_item will stay at 20, because 50 < 20 is False.\n",
    "# The third time through, smallest_item will be set to 5, because 5 < 20 is True.\n",
    "# The last time through, smallest_item will stay at 5, because 100 < 5 is False.\n",
    "\n",
    "smallest_item = 1000\n",
    "a = [500,10,200,5,78,-1,-10,-100,567,890,400,34,-101,895]\n",
    "for item in a:\n",
    "    if item < smallest_item:\n",
    "        smallest_item = item"
   ]
  },
  {
   "cell_type": "markdown",
   "metadata": {},
   "source": [
    "###24: Converting types"
   ]
  },
  {
   "cell_type": "markdown",
   "metadata": {},
   "source": [
    "We can convert between different data types. The int() function will convert an object to an integer."
   ]
  },
  {
   "cell_type": "code",
   "execution_count": 29,
   "metadata": {
    "collapsed": false
   },
   "outputs": [
    {
     "name": "stdout",
     "output_type": "stream",
     "text": [
      "<type 'str'>\n",
      "5\n",
      "<type 'int'>\n"
     ]
    }
   ],
   "source": [
    "# There's one problem with our parsed CSV file -- because we parsed it from a string, all of the values are stored as strings.\n",
    "# (go to the csv parsing and check types if you want to verify)\n",
    "# We need the crime rate column s an integer so we can work with it.\n",
    "\n",
    "# We can use the int() function to turn a string into an int.\n",
    "# It only works with strings that have int values inside them.\n",
    "a = '5'\n",
    "print(type(a))\n",
    "\n",
    "# a is a string containing the integer '5'.\n",
    "# We can use the int function to parse it into the integer 5.\n",
    "b = int(a)\n",
    "print(b)\n",
    "print(type(b))\n",
    "\n",
    "c = '10'\n",
    "d = '20'\n",
    "e = '30'\n",
    "c_int = int(c)\n",
    "d_int = int(d)\n",
    "e_int = int(e)"
   ]
  },
  {
   "cell_type": "markdown",
   "metadata": {},
   "source": [
    "###25: Converting a list to integers"
   ]
  },
  {
   "cell_type": "markdown",
   "metadata": {},
   "source": [
    "Now, let's convert a list into integers."
   ]
  },
  {
   "cell_type": "code",
   "execution_count": 30,
   "metadata": {
    "collapsed": false
   },
   "outputs": [
    {
     "name": "stdout",
     "output_type": "stream",
     "text": [
      "[1, 2, 3]\n"
     ]
    }
   ],
   "source": [
    "# Now that we know about the int() function, let's use it to convert the values in a list to integers.\n",
    "the_list = ['1', '2', '3']\n",
    "new_list = []\n",
    "\n",
    "# Loop through the_list\n",
    "for item in the_list:\n",
    "    # Get the int value of the item in the list\n",
    "    item_int = int(item)\n",
    "    # Add the int item to the new list\n",
    "    new_list.append(item_int)\n",
    "# Print out the new list\n",
    "print(new_list)\n",
    "\n",
    "a = ['10', '15', '20', '35']\n",
    "new_a = []\n",
    "for item in a:\n",
    "    item_int = int(item)\n",
    "    new_a.append(item_int)"
   ]
  },
  {
   "cell_type": "markdown",
   "metadata": {},
   "source": [
    "###26: Convert csv to integers"
   ]
  },
  {
   "cell_type": "markdown",
   "metadata": {},
   "source": [
    "Let's convert our crime rate column to integers while we are reading it in. In order to do this, we'll need to convert the values in the second column to integers after splitting the rows."
   ]
  },
  {
   "cell_type": "code",
   "execution_count": null,
   "metadata": {
    "collapsed": false
   },
   "outputs": [],
   "source": [
    "# We need to convert the crime rate values from our csv file into integers.\n",
    "# They are strings now because we originally split them up from a large string we read in.\n",
    "\n",
    "# Here's our csv reading code from before\n",
    "f = open('data/crime_rates.csv', 'r')\n",
    "data = f.read()\n",
    "rows = data.split('\\n')\n",
    "\n",
    "full_data = []\n",
    "for row in rows:\n",
    "    split_row = row.split(\",\")\n",
    "    split_row[1] = int(split_row[1])\n",
    "    full_data.append(split_row)"
   ]
  },
  {
   "cell_type": "markdown",
   "metadata": {},
   "source": [
    "###27: Finding the lowest crime rate"
   ]
  },
  {
   "cell_type": "markdown",
   "metadata": {},
   "source": [
    "We now know enough to find the lowest crime rate. We can scan through the list, and check if there is a lower crime rate in it."
   ]
  },
  {
   "cell_type": "code",
   "execution_count": null,
   "metadata": {
    "collapsed": false
   },
   "outputs": [],
   "source": [
    "# We now know everything we need to find the smallest crime rate.\n",
    "# Remember that we are finding the smallest crime rate (second column), not the city (first column) with the lowest crime rate.\n",
    "# We parse our csv file\n",
    "f = open('data/crime_rates.csv', 'r')\n",
    "data = f.read()\n",
    "rows = data.split('\\n')\n",
    "full_data = []\n",
    "for row in rows:\n",
    "    split_row = row.split(\",\")\n",
    "    split_row[1] = int(split_row[1])\n",
    "    full_data.append(split_row)\n",
    "\n",
    "lowest_crime_rate = 10000\n",
    "for row in full_data:\n",
    "    crime_rate = row[1]\n",
    "    if crime_rate < lowest_crime_rate:\n",
    "        lowest_crime_rate = crime_rate"
   ]
  },
  {
   "cell_type": "markdown",
   "metadata": {},
   "source": [
    "###28: Finding the lowest crime rate"
   ]
  },
  {
   "cell_type": "markdown",
   "metadata": {},
   "source": [
    "We can search a list for a value. We can do this by looping through the list, and then using an if statement."
   ]
  },
  {
   "cell_type": "code",
   "execution_count": 45,
   "metadata": {
    "collapsed": false
   },
   "outputs": [
    {
     "name": "stdout",
     "output_type": "stream",
     "text": [
      "Found\n",
      "Yes\n"
     ]
    }
   ],
   "source": [
    "# We can search a list for a given value\n",
    "the_list = [5, 6, 7, 10, 50]\n",
    "\n",
    "# Loop through the_list\n",
    "for item in the_list:\n",
    "    # If the list item equals 5, print out \"Found\"\n",
    "    if item == 5:\n",
    "        print(\"Found\")\n",
    "\n",
    "# The above code will print \"Found\" once.\n",
    "\n",
    "a = [500,10,200,5,78,-1,-10,-100,567,890,400,34,-101,895]\n",
    "for item in a:\n",
    "    if item == 78:\n",
    "        print(\"Yes\")"
   ]
  },
  {
   "cell_type": "markdown",
   "metadata": {},
   "source": [
    "###29: Searching a list"
   ]
  },
  {
   "cell_type": "markdown",
   "metadata": {},
   "source": [
    "We can search a list for a value. We can do this by looping through the list, and then using an if statement."
   ]
  },
  {
   "cell_type": "code",
   "execution_count": 1,
   "metadata": {
    "collapsed": false
   },
   "outputs": [
    {
     "name": "stdout",
     "output_type": "stream",
     "text": [
      "Found\n",
      "Yes\n"
     ]
    }
   ],
   "source": [
    "# We can search a list for a given value\n",
    "the_list = [5, 6, 7, 10, 50]\n",
    "\n",
    "# Loop through the_list\n",
    "for item in the_list:\n",
    "    # If the list item equals 5, print out \"Found\"\n",
    "    if item == 5:\n",
    "        print(\"Found\")\n",
    "\n",
    "# The above code will print \"Found\" once.\n",
    "\n",
    "a = [500,10,200,5,78,-1,-10,-100,567,890,400,34,-101,895]\n",
    "for item in a:\n",
    "    if item == 78:\n",
    "        print(\"Yes\")"
   ]
  },
  {
   "cell_type": "markdown",
   "metadata": {},
   "source": [
    "###30: Searching a list of lists"
   ]
  },
  {
   "cell_type": "markdown",
   "metadata": {},
   "source": [
    "Just like we can search through a list, we can search through a list of lists."
   ]
  },
  {
   "cell_type": "code",
   "execution_count": 46,
   "metadata": {
    "collapsed": false
   },
   "outputs": [
    {
     "name": "stdout",
     "output_type": "stream",
     "text": [
      "10\n"
     ]
    }
   ],
   "source": [
    "lolist = [[1,5,7],[10,8,9],[7,10,11]]\n",
    "\n",
    "# Let's say we want to get the first element of the inner list whose third element is 9.\n",
    "value = 0\n",
    "for item in lolist:\n",
    "    last_value = item[2]\n",
    "    first_value = item[0]\n",
    "    if last_value == 9:\n",
    "        value = first_value\n",
    "print(value)\n",
    "\n",
    "# The above code will print 10, which is the first value in the inner list where 9 is the last value.\n",
    "# What we are doing can also be described in terms of rows and columns.\n",
    "# We are finding the first column in the rows where the third column equals 9.\n",
    "\n",
    "# Can you write code to find the second element in the inner list whose first element is 7? (search through lolist)\n",
    "# Set the value variable equal to the answer.\n",
    "value = 0\n",
    "for item in lolist:\n",
    "    if item[0] == 7:\n",
    "        value = item[1]"
   ]
  },
  {
   "cell_type": "markdown",
   "metadata": {},
   "source": [
    "###31: Finding the answer!"
   ]
  },
  {
   "cell_type": "markdown",
   "metadata": {},
   "source": [
    "We know the lowest crime rate, and we know how to search through lists. Let's combine the knowledge to find out the city with the lowest crime rate."
   ]
  },
  {
   "cell_type": "code",
   "execution_count": null,
   "metadata": {
    "collapsed": false
   },
   "outputs": [],
   "source": [
    "# We know that the lowest crime rate is 130.\n",
    "# This is the second column of the data.\n",
    "# We need to find the corresponding value in the first column -- the city with the lowest crime rate.\n",
    "\n",
    "# Let's load the csv file\n",
    "f = open('data/crime_rates.csv', 'r')\n",
    "data = f.read()\n",
    "rows = data.split('\\n')\n",
    "full_data = []\n",
    "for row in rows:\n",
    "    split_row = row.split(\",\")\n",
    "    split_row[1] = int(split_row[1])\n",
    "    full_data.append(split_row)\n",
    "\n",
    "city = \"\"\n",
    "for row in full_data:\n",
    "    if row[1] == 130:\n",
    "        city = row[0]"
   ]
  },
  {
   "cell_type": "code",
   "execution_count": null,
   "metadata": {
    "collapsed": true
   },
   "outputs": [],
   "source": []
  }
 ],
 "metadata": {
  "kernelspec": {
   "display_name": "Python 2",
   "language": "python",
   "name": "python2"
  },
  "language_info": {
   "codemirror_mode": {
    "name": "ipython",
    "version": 2
   },
   "file_extension": ".py",
   "mimetype": "text/x-python",
   "name": "python",
   "nbconvert_exporter": "python",
   "pygments_lexer": "ipython2",
   "version": "2.7.10"
  }
 },
 "nbformat": 4,
 "nbformat_minor": 0
}
