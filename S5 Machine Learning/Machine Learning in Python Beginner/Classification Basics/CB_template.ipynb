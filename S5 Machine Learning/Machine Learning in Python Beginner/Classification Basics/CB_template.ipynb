{
 "cells": [
  {
   "cell_type": "code",
   "execution_count": 1,
   "metadata": {
    "collapsed": false
   },
   "outputs": [
    {
     "data": {
      "text/html": [
       "<script>\n",
       "code_show=true; \n",
       "function code_toggle() {\n",
       " if (code_show){\n",
       " $('div.input').hide();\n",
       " } else {\n",
       " $('div.input').show();\n",
       " }\n",
       " code_show = !code_show\n",
       "} \n",
       "$( document ).ready(code_toggle);\n",
       "</script>\n",
       "<form action=\"javascript:code_toggle()\"><input type=\"submit\" value=\"Click here to toggle on/off the raw code.\"></form>"
      ],
      "text/plain": [
       "<IPython.core.display.HTML object>"
      ]
     },
     "execution_count": 1,
     "metadata": {},
     "output_type": "execute_result"
    }
   ],
   "source": [
    "from IPython.display import HTML\n",
    "\n",
    "HTML('''<script>\n",
    "code_show=true; \n",
    "function code_toggle() {\n",
    " if (code_show){\n",
    " $('div.input').hide();\n",
    " } else {\n",
    " $('div.input').show();\n",
    " }\n",
    " code_show = !code_show\n",
    "} \n",
    "$( document ).ready(code_toggle);\n",
    "</script>\n",
    "<form action=\"javascript:code_toggle()\"><input type=\"submit\" value=\"Click here to toggle on/off the raw code.\"></form>''')"
   ]
  },
  {
   "cell_type": "markdown",
   "metadata": {},
   "source": [
    "#Machine Learning in Python\n",
    "##Classification Basics"
   ]
  },
  {
   "cell_type": "markdown",
   "metadata": {},
   "source": [
    "###1: Introduction to Classification"
   ]
  },
  {
   "cell_type": "markdown",
   "metadata": {},
   "source": [
    "Each time you apply for a credit card, car, or mortgage a bank needs to decide to approve or reject you. This can be thought of as a classification problem. The bank uses past data, based on previous applicants, to intelligently make a decision whether to give you a loan. The data which you provide to the bank, such as your credit score, annual income, and the loan amount, can be used to model such a decision. For example, if you have a very high credit score and income then a bank would be likely to provide you a with a loan or credit card.\n",
    "\n",
    "A classification algorithm uses features, which are attributes known about our observations, to predict an outcome or category. In this case, we are observing a person with certian financial attributes and deciding whether to approve or reject them for a credit card by predicting whether or no they will pay their credit card payments. Classification models produce a probability output, a number which is between 0 and 1. For example, if the model scores a person at 0.80, then we'd say the person has an 80% chance of making their credit card payments. Depending on the probability of an applicant making their payments we can decide to approve or reject them for a credit card.\n",
    "\n",
    "In this lesson we will learn about binary classification and how to evaluate a model's performance. Our dataset provides the labels, whether someone actually made their credit card payments, and a model's output, a probability of a person being approved. Lets also assume we profit off people making their credit card payments.\n",
    "\n",
    "The file \"credit.csv\" has two columns. The first column, paid, is the label, whether someone has paid or not paid their credit card in the past. The second column, model_score, is the probability of being approved. model_score was retrieved from a model we at dataquest trained. The output of this model is explicity given to use throughout this mission."
   ]
  },
  {
   "cell_type": "markdown",
   "metadata": {},
   "source": [
    "####Instructions"
   ]
  },
  {
   "cell_type": "markdown",
   "metadata": {},
   "source": [
    "To start lets see what the data looks like. Using matplotlib, make a scatter plot with model_score on the x-axis and paid on the y-axis."
   ]
  },
  {
   "cell_type": "code",
   "execution_count": 2,
   "metadata": {
    "collapsed": false
   },
   "outputs": [
    {
     "name": "stdout",
     "output_type": "stream",
     "text": [
      "   paid  model_score\n",
      "0     1     0.787062\n",
      "1     1     0.959871\n",
      "2     1     0.881820\n",
      "3     1     0.918720\n",
      "4     1     0.776411\n",
      "5     1     0.541068\n",
      "6     1     1.000000\n",
      "7     1     0.882755\n",
      "8     1     0.705474\n",
      "9     1     0.818945\n"
     ]
    },
    {
     "data": {
      "image/png": "[encoded data removed]",
      "text/plain": [
       "<matplotlib.figure.Figure at 0xe71cf98>"
      ]
     },
     "metadata": {},
     "output_type": "display_data"
    }
   ],
   "source": [
    "import pandas\n",
    "import matplotlib.pyplot as plt\n",
    "%matplotlib inline\n",
    "\n",
    "# Read file\n",
    "credit = pandas.read_csv(\"data/credit.csv\")\n",
    "\n",
    "# Dataframe of our data\n",
    "# credit[\"model_score\"] is the probability provided by the model\n",
    "# credit[\"paid\"] is the observed payments\n",
    "# .head(10) shows the first 10 rows of the dataframe\n",
    "print(credit.head(10))\n",
    "\n",
    "plt.scatter(credit[\"model_score\"], credit[\"paid\"])\n",
    "plt.show()"
   ]
  },
  {
   "cell_type": "markdown",
   "metadata": {
    "collapsed": true
   },
   "source": [
    "###2: Predictive Power"
   ]
  },
  {
   "cell_type": "markdown",
   "metadata": {},
   "source": [
    "In practice, more often than not, the prediction accuracy will be the most important result. As seen in the previous screen, our model's output is a probability between 0 and 1. In order to decide if a person is approved for a credit card, we can use our model's probabilities of whether someone will or will not make their payments to approve or reject their application by setting a threshold. We will call this threshold the discrimination threshold. For example, if we set the discrimination threshold to 0.6 then a person would be approved for a credit card if the probability of making payments is greater than 0.6. All people with a probablity less than 0.6 would be denied a credit card. By moving this threshold we can approve more or less people depending on the probability of making payments.\n",
    "\n",
    "The accuracy of this model would then be our prediction of whether someone will be approved versus if they actually paid their credit card payments. Accuracy = # of Correctly Predicted / # of Observations\n",
    "\n",
    "As we can see from the formula, accuracy is a number between 0 and 1. An accuracy of 1.0 means that the model predicted 100% of credit approvals correctly for the given discrimination threshold. An accuracy of 0.2 means that the model predicted 20% of the outcomes correctly."
   ]
  },
  {
   "cell_type": "markdown",
   "metadata": {},
   "source": [
    "####Instructions"
   ]
  },
  {
   "cell_type": "markdown",
   "metadata": {},
   "source": [
    "Using the dataframe credit with columns model_score and paid use a threshold of 0.50 to compute the accuracy of this model. Assign the result to the variable accuracy."
   ]
  },
  {
   "cell_type": "code",
   "execution_count": 3,
   "metadata": {
    "collapsed": false
   },
   "outputs": [
    {
     "name": "stdout",
     "output_type": "stream",
     "text": [
      "0       True\n",
      "1       True\n",
      "2       True\n",
      "3       True\n",
      "4       True\n",
      "5       True\n",
      "6       True\n",
      "7       True\n",
      "8       True\n",
      "9       True\n",
      "10     False\n",
      "11      True\n",
      "12      True\n",
      "13     False\n",
      "14      True\n",
      "15      True\n",
      "16      True\n",
      "17      True\n",
      "18      True\n",
      "19      True\n",
      "20      True\n",
      "21     False\n",
      "22      True\n",
      "23      True\n",
      "24      True\n",
      "25      True\n",
      "26      True\n",
      "27      True\n",
      "28      True\n",
      "29      True\n",
      "       ...  \n",
      "623     True\n",
      "624     True\n",
      "625     True\n",
      "626     True\n",
      "627     True\n",
      "628     True\n",
      "629     True\n",
      "630     True\n",
      "631     True\n",
      "632     True\n",
      "633     True\n",
      "634     True\n",
      "635     True\n",
      "636     True\n",
      "637     True\n",
      "638     True\n",
      "639    False\n",
      "640     True\n",
      "641     True\n",
      "642     True\n",
      "643     True\n",
      "644     True\n",
      "645     True\n",
      "646     True\n",
      "647     True\n",
      "648     True\n",
      "649     True\n",
      "650     True\n",
      "651     True\n",
      "652     True\n",
      "dtype: bool\n"
     ]
    }
   ],
   "source": [
    "# Will we approve the credit card based on the probability of paying?\n",
    "pred = credit[\"model_score\"] > 0.5\n",
    "\n",
    "# This operation tells us whether the prediction was correct \n",
    "print(pred == credit[\"paid\"])\n",
    "accuracy = sum(pred == credit[\"paid\"]) / len(pred)"
   ]
  },
  {
   "cell_type": "markdown",
   "metadata": {},
   "source": [
    "###3: Measures of Binary Discrimination"
   ]
  },
  {
   "cell_type": "markdown",
   "metadata": {},
   "source": [
    "There are a few important measures of binary discrimination. In particular there are 4 that are used frequently. Each of these count the possible agreements and disagreements of our prediction.\n",
    "Prediction \tObservation\n",
    "\t        Paid Credit Card \t    Defaulted on Credit Card\n",
    "Approved \tTrue Positive (TP) \t    False Positive (FP)\n",
    "Rejected \tFalse Negative (FN) \tTrue Negative (TN)\n",
    "\n",
    "We can define these terms as:\n",
    "\n",
    "- True Postive - The person made their credit card payments and we approved their credit card. Made a profit.\n",
    "- True Negative - The person did not make their payments and we rejected their credit card. Rejected correctly.\n",
    "- False Positive - The person did not make their payments (defaulted) and we approved their credit card. Lost profit.\n",
    "- False Negative - The person made their credit card payments and we did not approve their credit card. Missed profit.\n",
    "\n",
    "In the following screens we will see why these 4 measures are important for measuring discrimination performance."
   ]
  },
  {
   "cell_type": "markdown",
   "metadata": {},
   "source": [
    "####Instructions"
   ]
  },
  {
   "cell_type": "markdown",
   "metadata": {},
   "source": [
    "Count the number of false negatives using the credit dataset with a discrimination threshold of 0.5. Assign the number of false negatives to FN."
   ]
  },
  {
   "cell_type": "code",
   "execution_count": 7,
   "metadata": {
    "collapsed": false
   },
   "outputs": [
    {
     "name": "stdout",
     "output_type": "stream",
     "text": [
      "TP:  270\n",
      "FN:  26\n"
     ]
    }
   ],
   "source": [
    "# prediction with discrimination threshold at 0.50\n",
    "pred = credit[\"model_score\"] > 0.5\n",
    "\n",
    "# number of true positives\n",
    "TP = sum(((pred == 1) & (credit[\"paid\"] == 1)))\n",
    "print \"TP: \", TP\n",
    "\n",
    "FN = sum(((pred == 0) & (credit[\"paid\"] == 1)))\n",
    "print \"FN: \", FN"
   ]
  },
  {
   "cell_type": "markdown",
   "metadata": {},
   "source": [
    "###4: Sensitivity, Specificity, and Fall-Out"
   ]
  },
  {
   "cell_type": "markdown",
   "metadata": {},
   "source": [
    "Consider that a bank wants to maximize their profits by approving as many credit cards as possible but still managing their risks. They would be inclined to reject applications that have high probabilities of default (failure to pay back their loan) but allow a moderate probability of default if profit can still be made. In this problem, the number of predictions made correctly for a specific discrimination threshold is not a good measure. Instead, we'd like to understand what happens to our predictions as this discrimination threhold moves from 0 to 1. Three measures that are commonly used to understand binary classification models include:\n",
    "\n",
    "Sensitivity or True Postive Rate - The rate of how applications were correctly approved for a credit application. A high sensitivity indicates that a change in TPR = True Positives / (True Positives + False Negatives)\n",
    "\n",
    "Specificity or True Negative Rate - The rate of how many applications were correctly identified as rejects TNR = True Negative / (False Positives + True Negatives)\n",
    "\n",
    "Fall-out or False Positive Rate - The rate of how many applications were falsely approved for credit cards. Ideally we'd keep this value reasonably low relative to the true positive rate. FPR = False Positives / (False Positives + True Negatives)\n",
    "\n",
    "In the following lesson we will use these rates to gain insight into our model's power."
   ]
  },
  {
   "cell_type": "markdown",
   "metadata": {},
   "source": [
    "####Instructions"
   ]
  },
  {
   "cell_type": "markdown",
   "metadata": {},
   "source": [
    "Using credit compute the True Positive Rate with a discrimination threshold of 0.5. Assign the True positive rate to TPR."
   ]
  },
  {
   "cell_type": "code",
   "execution_count": 25,
   "metadata": {
    "collapsed": false
   },
   "outputs": [
    {
     "name": "stdout",
     "output_type": "stream",
     "text": [
      "TN:  297\n",
      "FP:  60\n",
      "FPR:  0.168067226891\n",
      "TP:  270\n",
      "FP:  26\n",
      "TPR:  0.912162162162\n"
     ]
    }
   ],
   "source": [
    "# Predicted to play tennis\n",
    "pred = credit[\"model_score\"] > 0.5\n",
    "\n",
    "# Number of true negatives\n",
    "TN = sum(((pred == 0) & (credit[\"paid\"] == 0)))\n",
    "print \"TN: \", TN\n",
    "\n",
    "# Number of false positives\n",
    "FP = sum(((pred == 1) & (credit[\"paid\"] == 0)))\n",
    "print \"FP: \", FP\n",
    "\n",
    "# Compute the false positive rate\n",
    "FPR = float(FP) / float(TN + FP)\n",
    "print \"FPR: \", FPR\n",
    "\n",
    "TP =  sum(((pred == 1) & (credit[\"paid\"] == 1)))\n",
    "print \"TP: \", TP\n",
    "\n",
    "FP = sum(((pred == 0) & (credit[\"paid\"] == 1)))\n",
    "print \"FP: \", FP\n",
    "\n",
    "TPR = float(TP) / float(FP + TP)\n",
    "print \"TPR: \", TPR"
   ]
  },
  {
   "cell_type": "markdown",
   "metadata": {},
   "source": [
    "###5: ROC Curves"
   ]
  },
  {
   "cell_type": "markdown",
   "metadata": {},
   "source": [
    "The receiver operating characteristic curve, ROC curve, is used to evaluate binary classification. In the previous example we chose a discrimination threshold of 0.5 to discriminate between approving a credit application or not. We can change this discrimination threshold to study how sensitive we should be in discrimination.\n",
    "\n",
    "Each time the discrimination threshold is changed we compute the true positive and false positive rates. In our example, if the threshold is set to 0.0 then everybody would be predicted to be approved for a credit card, this gives a TPR of 1 and a FPR of 1. If a threshold was set to 1.0 then the application would always be predicted to be rejected, returning TPR=0 and FPR=0. Between thresholds of 0 and 1 we want to see the true positive rate to be higher than the false positive rate. The intuition behind this is, a good classifier will correctly predict true events more than the number of wrong predictions.\n",
    "\n",
    "If our model has a true positive rate larger than the false positive rate than we know more people will pay the bank back than default."
   ]
  },
  {
   "cell_type": "markdown",
   "metadata": {},
   "source": [
    "###6: Computing ROC Curves"
   ]
  },
  {
   "cell_type": "markdown",
   "metadata": {},
   "source": [
    "To understand how to compute these ROC curves we can look at the function roc_curve. This function is computing the false positive rates and true positive rates for 100 thresholds between 0 and 1. The false positive and true positive rates returned allow us to visually choose an optimal threshold for discrimintation. In terms of credit approvals, we'd like to approve as many applications as possible while minimizing the number of credit card defaults. This will maximize our profit."
   ]
  },
  {
   "cell_type": "markdown",
   "metadata": {},
   "source": [
    "####Instructions"
   ]
  },
  {
   "cell_type": "markdown",
   "metadata": {},
   "source": [
    "Use the function roc_cuve and the data from credit to create a plot where the false positive rates are on the x-axis and true positive rates are on the y-axis."
   ]
  },
  {
   "cell_type": "code",
   "execution_count": 40,
   "metadata": {
    "collapsed": false
   },
   "outputs": [
    {
     "name": "stdout",
     "output_type": "stream",
     "text": [
      "0.932432432432\n",
      "0.38\n"
     ]
    },
    {
     "data": {
      "text/plain": [
       "[<matplotlib.lines.Line2D at 0x11d51c50>]"
      ]
     },
     "execution_count": 40,
     "metadata": {},
     "output_type": "execute_result"
    },
    {
     "data": {
      "image/png": "[encoded data removed]",
      "text/plain": [
       "<matplotlib.figure.Figure at 0x11ba5128>"
      ]
     },
     "metadata": {},
     "output_type": "display_data"
    }
   ],
   "source": [
    "import numpy\n",
    "import matplotlib.pyplot as plt\n",
    "%matplotlib inline\n",
    "\n",
    "def roc_curve(observed, probs):\n",
    "    # choose thresholds between 0 and 1 to discriminate prediction\n",
    "    thresholds = numpy.asarray([float(100 - j) / 100 for j in range(100)])\n",
    "    \n",
    "    # initialize false and true positive rates \n",
    "    fprs = numpy.asarray([0. for j in range(100)])\n",
    "    tprs = numpy.asarray([0. for j in range(100)])\n",
    "    \n",
    "    # Loop through each threshold\n",
    "    for j, thres in enumerate(thresholds):\n",
    "        # Using the new threshold compute predictions\n",
    "        pred = probs > thres\n",
    "        # Count the Number of False Positives\n",
    "        FP = sum((observed == 0) & (pred == 1))\n",
    "        # Count the Number of True Negatives \n",
    "        TN = sum((observed == 0) & (pred == 0))\n",
    "        # Compute the False Postive Rate\n",
    "        FPR = float(FP) / float(TN + FP)\n",
    "        # Count the number of True Positives\n",
    "        TP = sum((observed == 1) & (pred == 1))\n",
    "        # Count the number of False Negatives\n",
    "        FP = sum((observed == 1) & (pred == 0))\n",
    "        # Compute the True Positive Rate\n",
    "        TPR = float(TP) / float(FP + TP)\n",
    "        # Store the true and false positive rates\n",
    "        fprs[j] = FPR\n",
    "        tprs[j] = TPR\n",
    "        \n",
    "    return fprs, tprs, thresholds\n",
    "\n",
    "fpr, tpr, thres = roc_curve(credit[\"paid\"], credit[\"model_score\"])\n",
    "idx = numpy.where(fpr>0.20)[0][0]\n",
    "\n",
    "print(tpr[idx])\n",
    "print(thres[idx])\n",
    "plt.plot(fpr, tpr)"
   ]
  },
  {
   "cell_type": "markdown",
   "metadata": {
    "collapsed": true
   },
   "source": [
    "###7: Interpretation of the ROC Curve"
   ]
  },
  {
   "cell_type": "markdown",
   "metadata": {},
   "source": [
    "Now that we have plotted the ROC curve based on the credit approval data, we must learn how to interpret it. We see this curve has a large increase in the beginning but when the false positive rate reaches 0.20, it flattens out. This flattening tells us that increasing the threshold above the 20% false positive rate will not make the approvals much more conservative. This means that after the 20% false positve rate, the chance of approving someone does not increase much.\n",
    "\n",
    "To drive this concept home, the true positive rate is 93% when the false positive rate rate is 20% at a discrimination threshold of 0.38. We know that a 93% true positive rate means that we approved nearly all applications which will eventually pay us back, this is great. A false positive rate of 20% is low enough to allow for many applications to be approved and given a credit card. These together will maximize our profit as a bank."
   ]
  },
  {
   "cell_type": "markdown",
   "metadata": {},
   "source": [
    "###8: Area Under the Curve"
   ]
  },
  {
   "cell_type": "markdown",
   "metadata": {},
   "source": [
    "You may notice that the graph for an ROC curve has a particular \"shape\". This \"shape\" tells a lot about how good the model is in maximizing true positives and minimizing false positives. However, it makes it really hard to objectively compare one model against another. In order to do that, we can use a metric called AUC. AUC measures the area under the ROC curve. If the fit of a model is perfect, it will always have a true positive rate of 1. This gives us an AUC of 1. Similarly, if a model always has a true positive rate of 0, the AUC will be zero. Because AUC is a single number, and not a graph, we can use it to easily compare a large number of models. A higher AUC means that the model fit better, and a lower AUC means it fit worse. We can compute the AUC by hand, but a simpler way is to use a function defined in the sklearn package.\n",
    "\n",
    "Sklearn provides many functions which are great for machine learning classification problems. Here we will show how to use the roc_auc_score to compute AUC values."
   ]
  },
  {
   "cell_type": "markdown",
   "metadata": {},
   "source": [
    "####Instructions"
   ]
  },
  {
   "cell_type": "markdown",
   "metadata": {},
   "source": [
    "Compute the AUC using sklearn.metrics.roc_auc_score, model_score, and the observed data, paid. Assign the computed AUC to auc."
   ]
  },
  {
   "cell_type": "code",
   "execution_count": 42,
   "metadata": {
    "collapsed": false
   },
   "outputs": [
    {
     "name": "stdout",
     "output_type": "stream",
     "text": [
      "Example AUC: 0.8\n"
     ]
    }
   ],
   "source": [
    "from sklearn.metrics import roc_auc_score\n",
    "\n",
    "probs = [ 0.98200848,  0.92088976,  0.13125231,  0.0130085,   0.35719083,  \n",
    "         0.34381803, 0.46938187,  0.53918899,  0.63485958,  0.56959959]\n",
    "obs = [1, 1, 0, 0, 1, 0, 1, 0, 0, 1]\n",
    "\n",
    "testing_auc = roc_auc_score(obs, probs)\n",
    "print(\"Example AUC: {auc}\".format(auc=testing_auc))\n",
    "auc = roc_auc_score(credit[\"paid\"], credit[\"model_score\"])"
   ]
  },
  {
   "cell_type": "markdown",
   "metadata": {},
   "source": [
    "###9: Precision and Recall"
   ]
  },
  {
   "cell_type": "markdown",
   "metadata": {},
   "source": [
    "If we reject many people that are able to pay for the credit card then we end up missing profit. In return, we also want to minimize the number of defaults we need to endure. To measure this we use a similar measure to the receiver operating characteristic called precision and recall.\n",
    "\n",
    "The precision and recall are fractions of retrieved instances which are relevant. Relevance is the concept of one topic being connected to another topic in a way that makes it useful to consider the first topic when considering the second. For example, we want to account for the number of approved credit cards that default with the number of approved credit cards that do not.\n",
    "\n",
    "Precision = True Positives / (True Positives + False Positives)\n",
    "\n",
    "Recall = True Positives/ (True Positives + False Negatives)\n",
    "\n",
    "In simple terms, high precision means that an algorithm returned substantially more people will pay their credit card payment than default, while low recall means that we did not capitalize on many applicants that would have paid their credit card payment. Correspondingly, a high recall would approve nearly all applicants which made there payments."
   ]
  },
  {
   "cell_type": "markdown",
   "metadata": {},
   "source": [
    "####Instructions"
   ]
  },
  {
   "cell_type": "markdown",
   "metadata": {},
   "source": [
    "Compute both the precision and recall and set them equal to precision and recall with a discrimination threshold of 0.5 using the credit dataset."
   ]
  },
  {
   "cell_type": "code",
   "execution_count": 46,
   "metadata": {
    "collapsed": false
   },
   "outputs": [
    {
     "name": "stdout",
     "output_type": "stream",
     "text": [
      "TP:  270\n",
      "FP:  26\n",
      "FN:  60\n",
      "precision:  0.912162162162\n",
      "recall:  0.818181818182\n"
     ]
    }
   ],
   "source": [
    "pred = credit[\"model_score\"] > 0.5\n",
    "\n",
    "# True Positives\n",
    "TP = sum(((pred == 1) & (credit[\"paid\"] == 1)))\n",
    "print \"TP: \", TP\n",
    "\n",
    "# False Positives\n",
    "FP = sum(((pred == 0) & (credit[\"paid\"] == 1)))\n",
    "print \"FP: \", FP\n",
    "\n",
    "# False Negatives\n",
    "FN = sum(((pred == 1) & (credit[\"paid\"] == 0)))\n",
    "print \"FN: \", FN\n",
    "\n",
    "precision = float(TP) / float(TP + FP)\n",
    "print \"precision: \", precision\n",
    "\n",
    "recall = float(TP) / float(TP + FN)\n",
    "print \"recall: \", recall"
   ]
  },
  {
   "cell_type": "markdown",
   "metadata": {},
   "source": [
    "###10: Precision and Recall Curve"
   ]
  },
  {
   "cell_type": "markdown",
   "metadata": {},
   "source": [
    "The precision and recall curve is computed similar to the ROC curve. Precision and recall are computed for each threshold set between 0 and 1. A good classifier will have high precision with low recall and as recall increases precision will decrease. Similar to ROC, the closer the area under the curve to 1 the better the model. Intuitively, we would like to minimize the number of applicants rejected that would pay their credit card payments while also minimizing the number of applicants approved that default.\n",
    "\n",
    "We will use the precision_recall_curve function provided by sklearn to easily compute the curve."
   ]
  },
  {
   "cell_type": "markdown",
   "metadata": {},
   "source": [
    "####Instructions"
   ]
  },
  {
   "cell_type": "markdown",
   "metadata": {},
   "source": [
    "Create a plot with recall on the x-axis and precision on the y-axis using precision_recall_curve and the credit dataset."
   ]
  },
  {
   "cell_type": "code",
   "execution_count": 51,
   "metadata": {
    "collapsed": false
   },
   "outputs": [
    {
     "data": {
      "text/plain": [
       "[<matplotlib.lines.Line2D at 0x21f54e48>]"
      ]
     },
     "execution_count": 51,
     "metadata": {},
     "output_type": "execute_result"
    },
    {
     "data": {
      "image/png": "[encoded data removed]",
      "text/plain": [
       "<matplotlib.figure.Figure at 0xe8ad160>"
      ]
     },
     "metadata": {},
     "output_type": "display_data"
    }
   ],
   "source": [
    "import numpy\n",
    "import matplotlib.pyplot as plt\n",
    "from sklearn.metrics import precision_recall_curve\n",
    "%matplotlib inline\n",
    "\n",
    "probs = [ 0.98200848,  0.92088976,  0.13125231,  0.0130085,   0.35719083,  \n",
    "         0.34381803, 0.46938187,  0.53918899,  0.63485958,  0.56959959]\n",
    "obs = [1, 1, 0, 0, 1, 0, 1, 0, 0, 1]\n",
    "\n",
    "precision, recall, thresholds = precision_recall_curve(credit[\"paid\"], credit[\"model_score\"])\n",
    "plt.plot(recall, precision)"
   ]
  },
  {
   "cell_type": "markdown",
   "metadata": {},
   "source": [
    "###11: Interpreting the Precision Recall Curve"
   ]
  },
  {
   "cell_type": "markdown",
   "metadata": {},
   "source": [
    "The precision recall curve we just plotted shows great results. Precision here tells us how many more false positives we are accepting. The drop in precision doesn't start until 90% where there are only few good applicants rejected. This means that we are missing only a few applicants which would pay their credit card payment while also having few defaults. Sounds like a good business model to me!"
   ]
  }
 ],
 "metadata": {
  "kernelspec": {
   "display_name": "Python 2",
   "language": "python",
   "name": "python2"
  },
  "language_info": {
   "codemirror_mode": {
    "name": "ipython",
    "version": 2
   },
   "file_extension": ".py",
   "mimetype": "text/x-python",
   "name": "python",
   "nbconvert_exporter": "python",
   "pygments_lexer": "ipython2",
   "version": "2.7.10"
  }
 },
 "nbformat": 4,
 "nbformat_minor": 0
}
