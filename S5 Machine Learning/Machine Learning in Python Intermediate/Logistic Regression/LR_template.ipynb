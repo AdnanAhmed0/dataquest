{
 "cells": [
  {
   "cell_type": "code",
   "execution_count": 34,
   "metadata": {
    "collapsed": false
   },
   "outputs": [
    {
     "data": {
      "text/html": [
       "<script>\n",
       "code_show=true; \n",
       "function code_toggle() {\n",
       " if (code_show){\n",
       " $('div.input').hide();\n",
       " } else {\n",
       " $('div.input').show();\n",
       " }\n",
       " code_show = !code_show\n",
       "} \n",
       "$( document ).ready(code_toggle);\n",
       "</script>\n",
       "<form action=\"javascript:code_toggle()\"><input type=\"submit\" value=\"Click here to toggle on/off the raw code.\"></form>"
      ],
      "text/plain": [
       "<IPython.core.display.HTML object>"
      ]
     },
     "execution_count": 34,
     "metadata": {},
     "output_type": "execute_result"
    }
   ],
   "source": [
    "from IPython.display import HTML\n",
    "\n",
    "HTML('''<script>\n",
    "code_show=true; \n",
    "function code_toggle() {\n",
    " if (code_show){\n",
    " $('div.input').hide();\n",
    " } else {\n",
    " $('div.input').show();\n",
    " }\n",
    " code_show = !code_show\n",
    "} \n",
    "$( document ).ready(code_toggle);\n",
    "</script>\n",
    "<form action=\"javascript:code_toggle()\"><input type=\"submit\" value=\"Click here to toggle on/off the raw code.\"></form>''')"
   ]
  },
  {
   "cell_type": "markdown",
   "metadata": {},
   "source": [
    "#Machine Learning in Python\n",
    "##Logistic Regression"
   ]
  },
  {
   "cell_type": "markdown",
   "metadata": {},
   "source": [
    "###1: Introduction to the Data"
   ]
  },
  {
   "cell_type": "markdown",
   "metadata": {},
   "source": [
    "Every year high school student and college students apply to various universities and programs. Each student has a unique set of test scores, grades, and backgrounds. Somehow, the admission commitees must decide which applicants to accept or reject from their program. In this case a binary classification algorithm can be used to accept or reject applicants. Logistic regression is a suitable method for this particular problem which we will address in this mission.\n",
    "\n",
    "To grasp the concepts of logistic regression we try to predict whether an applicant will be admitted to a graduate program in a United States university. The dataset contains 1,000 applicants with the following columns:\n",
    "\n",
    "- gre - Graduate Record Exam, a generalized test for prospective graduate students, continuous between 200 and 800\n",
    "- gpa - Cumulative grade point average, continuous between 0.0 and 4.0\n",
    "- admit - Binary variable, 0 or 1, where 1 means the applicant was admitted to the program\n",
    "\n",
    "The first part of any data analysis is to gain a basic insights about the data. Visualizations and summarizations of the data are effective for this task. These basic insights provide valuable information pertaining to the direction of the analysis."
   ]
  },
  {
   "cell_type": "markdown",
   "metadata": {},
   "source": [
    "####Instructions"
   ]
  },
  {
   "cell_type": "markdown",
   "metadata": {},
   "source": [
    "Read admissions.csv into a pandas dataframe named admissions.\n",
    "\n",
    "Create a scatter plot where the x-axis is gpa and the y-axis is admit."
   ]
  },
  {
   "cell_type": "code",
   "execution_count": 2,
   "metadata": {
    "collapsed": false
   },
   "outputs": [
    {
     "data": {
      "image/png": "[encoded data removed]",
      "text/plain": [
       "<matplotlib.figure.Figure at 0xe72f400>"
      ]
     },
     "metadata": {},
     "output_type": "display_data"
    }
   ],
   "source": [
    "import pandas\n",
    "import matplotlib.pyplot as plt\n",
    "%matplotlib inline  \n",
    "\n",
    "# read in data\n",
    "admissions = pandas.read_csv(\"data/admissions.csv\")\n",
    "\n",
    "# scatter plot\n",
    "plt.scatter(admissions[\"gpa\"], admissions[\"admit\"])\n",
    "plt.show()"
   ]
  },
  {
   "cell_type": "markdown",
   "metadata": {
    "collapsed": true
   },
   "source": [
    "###2: Use Linear Regression to Predict Admission"
   ]
  },
  {
   "cell_type": "markdown",
   "metadata": {},
   "source": [
    "Let's try to use linear regression to predict admission and see what happens. We can use Sklearn to fit the linear regression model."
   ]
  },
  {
   "cell_type": "markdown",
   "metadata": {},
   "source": [
    "####Instructions"
   ]
  },
  {
   "cell_type": "markdown",
   "metadata": {},
   "source": [
    "Predict admissions with all rows and the gpa and gre columns in the dataset using the linear regression model, model, to the variable admit_prediction.\n",
    "\n",
    "Create a scatter plot of observed gpa and admit_prediction."
   ]
  },
  {
   "cell_type": "code",
   "execution_count": 4,
   "metadata": {
    "collapsed": false
   },
   "outputs": [
    {
     "name": "stdout",
     "output_type": "stream",
     "text": [
      "[ 0.14029222]\n"
     ]
    },
    {
     "data": {
      "text/plain": [
       "<matplotlib.collections.PathCollection at 0x21d26588>"
      ]
     },
     "execution_count": 4,
     "metadata": {},
     "output_type": "execute_result"
    },
    {
     "data": {
      "image/png": "[encoded data removed]",
      "text/plain": [
       "<matplotlib.figure.Figure at 0x21b45198>"
      ]
     },
     "metadata": {},
     "output_type": "display_data"
    }
   ],
   "source": [
    "import matplotlib.pyplot as plt\n",
    "%matplotlib inline  \n",
    "\n",
    "# The admissions DataFrame is in memory\n",
    "\n",
    "# Import linear regression class\n",
    "from sklearn.linear_model import LinearRegression\n",
    "\n",
    "# Initialize a linear regression model\n",
    "model = LinearRegression()\n",
    "\n",
    "# Fit model\n",
    "model.fit(admissions[['gre', 'gpa']], admissions[\"admit\"])\n",
    "\n",
    "# This is how we can predict a new observation given gre=600 and gpa=3.0\n",
    "print(model.predict([[600., 3.0]]))\n",
    "# Prediction of admission\n",
    "admit_prediction = model.predict(admissions[['gre', 'gpa']])\n",
    "\n",
    "# Plot Estimated Function\n",
    "plt.scatter(admissions[\"gpa\"], admit_prediction)"
   ]
  },
  {
   "cell_type": "markdown",
   "metadata": {},
   "source": [
    "###3: Intepretting Linear Model"
   ]
  },
  {
   "cell_type": "markdown",
   "metadata": {},
   "source": [
    "From the previous plot we can see that the linear model is difficult to intepret in terms of predicting admission. The model itself is allowing for predictions less than 0 while we know that our prediction should be 0 or 1. Similarly, if gpa is increased high enough we would see predictions greater than 1. Ideally, we want to create a model which gives us a probability of admission by constraining the output between 0 and 1. Then we'd be able to use the tools we learned in the previous classification mission to interpret prediction and performance."
   ]
  },
  {
   "cell_type": "markdown",
   "metadata": {},
   "source": [
    "###4: The Logit Function"
   ]
  },
  {
   "cell_type": "markdown",
   "metadata": {},
   "source": [
    "Logistic regression is a popular method for classification which does constrain outputs between 0 and 1. This output can be viewed as the probability of an event given a set of inputs, just like any other classification method.\n",
    "\n",
    "The logit function is the basis of the logistic regression. This function takes the form, σ(t) = et / (1+et) where et is an irrational constant raised to the power t. We will visualize this by varying t. We see a function which is \"s-shaped\" and constrained between 0 and 1. These attributes make the logistic function able to predict a binary output."
   ]
  },
  {
   "cell_type": "markdown",
   "metadata": {},
   "source": [
    "####Instructions"
   ]
  },
  {
   "cell_type": "markdown",
   "metadata": {},
   "source": [
    "Lets see what happens when logit function is evaluated at extreme values. Set the value evaluated by logit at -10 to a and 10 to b."
   ]
  },
  {
   "cell_type": "code",
   "execution_count": 6,
   "metadata": {
    "collapsed": false
   },
   "outputs": [
    {
     "data": {
      "image/png": "[encoded data removed]",
      "text/plain": [
       "<matplotlib.figure.Figure at 0xc9472b0>"
      ]
     },
     "metadata": {},
     "output_type": "display_data"
    }
   ],
   "source": [
    "import numpy as np\n",
    "import matplotlib.pyplot as plt\n",
    "%matplotlib inline  \n",
    "\n",
    "# Logistic Function\n",
    "def logit(x):\n",
    "    # np.exp(x) raises x to the exponential power, ie e^x. e ~= 2.71828\n",
    "    return np.exp(x) / (1 + np.exp(x)) \n",
    "\n",
    "# Linspace is as numpy function to produced evenly spaced numbers over a specified interval.\n",
    "# Create an array with 50 values between -6 and 6 as t\n",
    "t = np.linspace(-6,6,50, dtype=float)\n",
    "\n",
    "# Get logistic fits\n",
    "ylogit = logit(t)\n",
    "\n",
    "# plot the logistic function\n",
    "plt.plot(t, ylogit, label=\"logistic\")\n",
    "plt.ylabel(\"Probability\")\n",
    "plt.xlabel(\"t\")\n",
    "plt.title(\"Logistic Function\")\n",
    "plt.show()\n",
    "a = logit(-10)\n",
    "b = logit(10)"
   ]
  },
  {
   "cell_type": "markdown",
   "metadata": {},
   "source": [
    "###5: Bernoulli Random Variable"
   ]
  },
  {
   "cell_type": "markdown",
   "metadata": {},
   "source": [
    "To get a good understand of the logistic regression we must introduce bernoulli random variables. A Bernoulli random variable says that the probability of an event happening is p while the probability of the event not happening is 1-p.\n",
    "\n",
    "Imagine we toss a coin where there is a 50% probability of landing heads and a 50% probability of landing tails. This is an example of a bernoulli random variable. In math terms, the bernoulli random variable for p=0.50 is written as Y=Bernoulli(0.50).\n",
    "\n",
    "Say we toss the coin 80 times, how many heads would you expect to get? Well, each time the coin is tossed there is a 50% chance of heads. If we throw it 80 times we would expect 80*0.50, or 40, heads."
   ]
  },
  {
   "cell_type": "markdown",
   "metadata": {},
   "source": [
    "####Instructions"
   ]
  },
  {
   "cell_type": "markdown",
   "metadata": {},
   "source": [
    "Lets say our coin is biased so there is now a 60% chance of landing heads. Set the expected number of heads in 60 tosses to biased_heads."
   ]
  },
  {
   "cell_type": "code",
   "execution_count": 7,
   "metadata": {
    "collapsed": false
   },
   "outputs": [],
   "source": [
    "biased_heads = 0.6 * 60"
   ]
  },
  {
   "cell_type": "markdown",
   "metadata": {},
   "source": [
    "###6: The Logistic Regression"
   ]
  },
  {
   "cell_type": "markdown",
   "metadata": {},
   "source": [
    "As we've seen, a linear regression model takes in a set of features, multiplies each by a coefficient, and adds the terms together to predict an output. A linear regression is written as y=β0+β1x1+β2x2 where β0 is the intercept and all other β's are slopes. Using this general format, we can use y as the input to a logit function to \"squash\" the output between 0 and 1. πi=ey1+ey. The output of this logit function is then modeled as a probability, more specifically a Bernoulli random variable. A logistic regression model is then produced by using a linear model as an input of the logit function,\n",
    "\n",
    "π = ey / (1+ey) = (eβ0+β1x1+β2x2) / (1+eβ0+β1x1+β2x2) where P(event)=Bernoulli(πi) and βi are coefficients.\n",
    "\n",
    "Any number of features can be used by just decreasing or increasing the number of coefficients. Similar to a linear regression model, we want to compute the optimal values of our coefficents, each βi, to minimize the the error between the output and the true value. Methods to minimize the error in this model include maximum likelihood estimation and gradient descent which we will cover in later missions. For now we will rely on the well known sklearn package to fit such a model.\n",
    "\n",
    "To use this model to predict admission we can write it as, πi = (eβ0+β1GPAi+β2GREi) / (1+eβ0+β1GPAi+β2GREi). We can see that our π now dependes on both GPA and GRE scores which we can use in prediction of admission. Our predictand is whether a person was admitted or not. Just as we did in the linear regression, we are optimizing a linear model, but this time it is inside another function."
   ]
  },
  {
   "cell_type": "markdown",
   "metadata": {},
   "source": [
    "###7: Model Data"
   ]
  },
  {
   "cell_type": "markdown",
   "metadata": {},
   "source": [
    "Lets try to predict admission using the logistic regression model. With each row representing an observation, the first 700 rows will be for training the model and the last 300 will be used for testing.\n",
    "\n",
    "Sklearn can also be used to fit a logistic regression model, similar to that of the linear regression model. To use this function we must initialize an LogisticRegression object then use the .fit function to fit the model. .predict_proba can then be used to find predicted probabilities from the model -- this function will return a matrix where the first column is the probability of the event not happening and the second column is the probability of the event happening, each row representations an oberservation."
   ]
  },
  {
   "cell_type": "markdown",
   "metadata": {},
   "source": [
    "####Instructions"
   ]
  },
  {
   "cell_type": "markdown",
   "metadata": {},
   "source": [
    "Now that we have fit the model we can predict the probability of admission. Assign the probability of admission from the test set to fitted_test.\n",
    "\n",
    "Now, make a scatter plot with data_test[\"gre\"] on the x-axis and fitted_test on the y-axis."
   ]
  },
  {
   "cell_type": "code",
   "execution_count": 8,
   "metadata": {
    "collapsed": false
   },
   "outputs": [
    {
     "name": "stdout",
     "output_type": "stream",
     "text": [
      "[[ 0.54732745  0.00707744]]\n"
     ]
    },
    {
     "data": {
      "image/png": "[encoded data removed]",
      "text/plain": [
       "<matplotlib.figure.Figure at 0x21b6fa20>"
      ]
     },
     "metadata": {},
     "output_type": "display_data"
    }
   ],
   "source": [
    "from sklearn.linear_model import LogisticRegression\n",
    "\n",
    "# Randomly shuffle our data for the training and test set\n",
    "admissions = admissions.loc[np.random.permutation(admissions.index)]\n",
    "\n",
    "# train with 700 and test with the following 300, split dataset \n",
    "num_train = 700\n",
    "data_train = admissions[:num_train]\n",
    "data_test = admissions[num_train:]\n",
    "\n",
    "# Fit Logistic regression to admit with gpa and gre as features using the training set\n",
    "logistic_model = LogisticRegression()\n",
    "logistic_model.fit(data_train[['gpa', 'gre']], data_train['admit'])\n",
    "\n",
    "# Print the Models Coefficients\n",
    "print(logistic_model.coef_)\n",
    "\n",
    "# Predict the chance of admission from those in the training set\n",
    "fitted_vals = logistic_model.predict_proba(data_train[['gpa', 'gre']])[:,1]\n",
    "fitted_test = logistic_model.predict_proba(data_test[['gpa', 'gre']])[:,1]\n",
    "\n",
    "plt.scatter(data_test[\"gre\"], fitted_test)\n",
    "plt.show()"
   ]
  },
  {
   "cell_type": "markdown",
   "metadata": {},
   "source": [
    "###8: Predictive Power"
   ]
  },
  {
   "cell_type": "markdown",
   "metadata": {},
   "source": [
    "In the previous lesson we learned about quantifying a classification model's performance. For simplicity, we will say if the probability of admission is greater than 0.5 then the applicant was admitted. We can then compute the accuracy of our model by comparing the admitted students versus predicted students."
   ]
  },
  {
   "cell_type": "markdown",
   "metadata": {},
   "source": [
    "####Instructions"
   ]
  },
  {
   "cell_type": "markdown",
   "metadata": {},
   "source": [
    "In the test set, data_test, what percentage of applicants were admitted? Assign this value to percent_admitted.\n",
    "\n",
    "With the fitted model, logistic_model, and data_test, predict admission for each observation in the test set using the .predict() method. By default .predict() uses a discrimination threshold of 0.50. Assign the accuracy of our model to accuracy_test."
   ]
  },
  {
   "cell_type": "code",
   "execution_count": 9,
   "metadata": {
    "collapsed": false
   },
   "outputs": [
    {
     "name": "stdout",
     "output_type": "stream",
     "text": [
      "Accuracy in Training Set = 0.778571428571\n"
     ]
    }
   ],
   "source": [
    "# .predict() using a threshold of 0.50 by default\n",
    "predicted = logistic_model.predict(data_train[['gpa','gre']])\n",
    "\n",
    "# The average of the binary array will give us the accuracy\n",
    "accuracy_train = (predicted == data_train['admit']).mean()\n",
    "\n",
    "# Print the accuracy\n",
    "print(\"Accuracy in Training Set = {s}\".format(s=accuracy_train))\n",
    "# Percentage of those admitted\n",
    "percent_admitted = data_test[\"admit\"].mean() * 100\n",
    "\n",
    "# Predicted to be admitted\n",
    "predicted = logistic_model.predict(data_test[['gpa','gre']])\n",
    "\n",
    "# What proportion of our predictions were true\n",
    "accuracy_test = (predicted == data_test['admit']).mean()"
   ]
  },
  {
   "cell_type": "markdown",
   "metadata": {},
   "source": [
    "###9: Admissions ROC Curve"
   ]
  },
  {
   "cell_type": "markdown",
   "metadata": {},
   "source": [
    "In the previous mission the receiver operating characteristic curve was also introduced. ROC is widely used to evaluate classification algorithms including logistic regression. Lets apply what we previously learned about ROC and area under the curve to the logistic_model we trained."
   ]
  },
  {
   "cell_type": "markdown",
   "metadata": {},
   "source": [
    "####Instructions"
   ]
  },
  {
   "cell_type": "markdown",
   "metadata": {},
   "source": [
    "Compute the AUC (Area under the ROC curve) for both the training and testing probabilities using the logistic_model, data_train, and data_test.\n",
    "\n",
    "Assign the AUC of data_train to auc_train.\n",
    "\n",
    "Assign the AUC of data_test to auc_test.\n",
    "\n",
    "Subtract auc_train from auc_test and assign it to auc_diff.\n",
    "\n",
    "(Optional) You may find it helpful to plot the corresponding ROC curves."
   ]
  },
  {
   "cell_type": "code",
   "execution_count": 10,
   "metadata": {
    "collapsed": false
   },
   "outputs": [
    {
     "data": {
      "text/plain": [
       "[<matplotlib.lines.Line2D at 0x3718048>]"
      ]
     },
     "execution_count": 10,
     "metadata": {},
     "output_type": "execute_result"
    },
    {
     "data": {
      "image/png": "[encoded data removed]",
      "text/plain": [
       "<matplotlib.figure.Figure at 0x3718358>"
      ]
     },
     "metadata": {},
     "output_type": "display_data"
    }
   ],
   "source": [
    "from sklearn.metrics import roc_curve, roc_auc_score\n",
    "\n",
    "# Compute the probabilities predicted by the training and test set\n",
    "# predict_proba returns probabilies for each class.  We want the second column\n",
    "train_probs = logistic_model.predict_proba(data_train[['gpa', 'gre']])[:,1]\n",
    "test_probs = logistic_model.predict_proba(data_test[['gpa', 'gre']])[:,1]\n",
    "# Compute auc for training set\n",
    "auc_train = roc_auc_score(data_train[\"admit\"], train_probs)\n",
    "\n",
    "# Compute auc for test set\n",
    "auc_test = roc_auc_score(data_test[\"admit\"], test_probs)\n",
    "\n",
    "# Difference in auc values\n",
    "auc_diff = auc_train - auc_test\n",
    "\n",
    "# Compute ROC Curves \n",
    "roc_train = roc_curve(data_train[\"admit\"], train_probs)\n",
    "roc_test = roc_curve(data_test[\"admit\"], test_probs)\n",
    "\n",
    "# Plot false positives by true positives\n",
    "plt.plot(roc_train[0], roc_train[1])\n",
    "plt.plot(roc_test[0], roc_test[1])"
   ]
  },
  {
   "cell_type": "markdown",
   "metadata": {},
   "source": [
    "###10: Interpret the ROC Curve"
   ]
  },
  {
   "cell_type": "markdown",
   "metadata": {},
   "source": [
    "We see the ROC curve is reasonably steep in the beginning and slowly flattens out. The AUC for the test set is 0.79, just smaller than the training set AUC at 0.82. These are both indications that our model has learned to predict admission using just gpa and gre scores.\n",
    "\n",
    "In the following missions we will learn different binary classification models and how these measures allow for comparision between models."
   ]
  }
 ],
 "metadata": {
  "kernelspec": {
   "display_name": "Python 2",
   "language": "python",
   "name": "python2"
  },
  "language_info": {
   "codemirror_mode": {
    "name": "ipython",
    "version": 2
   },
   "file_extension": ".py",
   "mimetype": "text/x-python",
   "name": "python",
   "nbconvert_exporter": "python",
   "pygments_lexer": "ipython2",
   "version": "2.7.10"
  }
 },
 "nbformat": 4,
 "nbformat_minor": 0
}
