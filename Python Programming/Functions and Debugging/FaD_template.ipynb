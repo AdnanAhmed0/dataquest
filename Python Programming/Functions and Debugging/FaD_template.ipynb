{
 "cells": [
  {
   "cell_type": "markdown",
   "metadata": {},
   "source": [
    "#Python Programming"
   ]
  },
  {
   "cell_type": "markdown",
   "metadata": {},
   "source": [
    "##Functions and Debugging"
   ]
  },
  {
   "cell_type": "markdown",
   "metadata": {},
   "source": [
    "###1: Reading the file in"
   ]
  },
  {
   "cell_type": "markdown",
   "metadata": {
    "collapsed": true
   },
   "source": [
    "The story is stored in the \"story.txt\" file. Open the file and read the contents into the story variable."
   ]
  },
  {
   "cell_type": "code",
   "execution_count": 2,
   "metadata": {
    "collapsed": true
   },
   "outputs": [],
   "source": [
    "# Load the story stored in the file \"story.txt\".\n",
    "f = open(\"data/story.txt\", 'r')\n",
    "story = f.read()"
   ]
  },
  {
   "cell_type": "markdown",
   "metadata": {},
   "source": [
    "###2: Tokenizing the file"
   ]
  },
  {
   "cell_type": "markdown",
   "metadata": {},
   "source": [
    "We now have to tokenize the file. Tokenizing is the process of splitting the file into individual words. For now, we'll split the file up based on whitespace (the space character).\n",
    "\n",
    "The story is loaded into the story variable. Tokenize the story, and store the tokens into the tokenized_story variable."
   ]
  },
  {
   "cell_type": "code",
   "execution_count": 38,
   "metadata": {
    "collapsed": false
   },
   "outputs": [
    {
     "name": "stdout",
     "output_type": "stream",
     "text": [
      "Raw:  ['There\\nwas\\nonce\\na\\ngreat\\nand\\nnoble\\nfrmer\\nnamed\\nJulius.\\nHe\\nwas\\nthe\\nbest\\nfarmer\\nin\\nhis\\nvillage,\\nand\\nprabably\\neven\\nthe\\nwhole\\nworld.\\nOne\\nday,\\nhe\\ndecidid\\nto\\ngrw\\npotatoes.\\nJulius\\nknew\\nthat\\npotatoes\\nwere\\nhard\\nto\\ngrow,\\nso\\nhe\\nkniw\\nhe\\nhd\\nto\\ngoe\\nto\\nthe\\nmagic\\nfarmer\\nin\\nthe\\nsky\\nto\\nseek\\nhis\\nguidance.\\nJulius\\nset\\nout\\non\\nhis\\njourney\\naroudn\\nnoon\\none\\nday.\\nIt\\nstarted\\nraining\\nalmosty\\nimmediately.\\nt\\ngo\\non,\\nbut\\nhe\\nperserved.\\nHe\\nbecame\\nsoaked,\\nand\\nstoped\\nin\\nthe\\nstore\\nto\\nbuy\\nan\\numbrella.\\nHe\\ntold\\nthe\\nstorekeeper,\\nReggie,\\nabout\\nhis\\njourney.\",\\n,\\n,\\n,\\n,\\n,\\n,\\n,\\n\"\\nJulius\\ncame\\nback\\nto\\nthe\\nvillage,\\nand\\nmanaged\\nto\\ngrow\\nthe\\nfinest\\ncrop\\nthe\\nvillage\\nhad\\never\\nseen.\\nEveryone\\nhad\\npotatoes\\nto\\neat\\nfor\\nmonths,\\nand\\nsang\\nJulius\\'s\\npraises.\\n']\n"
     ]
    }
   ],
   "source": [
    "# Split strings into lists with the .split() method.\n",
    "text = \"Bears are probably better than sharks, but I can't get close enough to one to be sure.\"\n",
    "tokenized_text = text.split(\" \")\n",
    "tokenized_story = story.split(\" \")\n",
    "\n",
    "print \"Raw: \", tokenized_story"
   ]
  },
  {
   "cell_type": "markdown",
   "metadata": {},
   "source": [
    "###3: Replacing punctuation"
   ]
  },
  {
   "cell_type": "markdown",
   "metadata": {},
   "source": [
    "In order to spell check our words, we'll be comparing the words in the story to a dictionary. If the word is in the dictionary, it will be correct. If it isn't, it will be incorrect.\n",
    "\n",
    "In order to ensure that words that have apostrophes, commas, or other punctuation don't get falsely marked as incorrect, we need to remove all punctuation.\n",
    "\n",
    "The story has been loaded into tokenized_story. Replace all of the punctuation in each of the tokens. You'll need to loop through tokenized_story to do so. You'll need to use multiple replace statements, one for each punctuation character to replace. Append the token to no_punctuation_tokens once you are done replacing characters.\n",
    "\n",
    "Print out no_punctuation_tokens if you want to see which types of punctuation are still in the data."
   ]
  },
  {
   "cell_type": "code",
   "execution_count": 36,
   "metadata": {
    "collapsed": false
   },
   "outputs": [
    {
     "name": "stdout",
     "output_type": "stream",
     "text": [
      "No punctuations:  ['TherewasonceagreatandnoblefrmernamedJuliusHewasthebestfarmerinhisvillageandprabablyeventhewholeworldOnedayhedecididtogrwpotatoesJuliusknewthatpotatoeswerehardtogrowsohekniwhehdtogoetothemagicfarmerintheskytoseekhisguidanceJuliussetoutonhisjourneyaroudnnoononedayItstartedrainingalmostyimmediatelytgoonbutheperservedHebecamesoakedandstopedinthestoretobuyanumbrellaHetoldthestorekeeperReggieabouthisjourney\"\"JuliuscamebacktothevillageandmanagedtogrowthefinestcropthevillagehadeverseenEveryonehadpotatoestoeatformonthsandsangJuliusspraises']\n"
     ]
    }
   ],
   "source": [
    "# Use the .replace function to replace punctuation in a string.\n",
    "text = \"Who really shot John F. Kennedy?\"\n",
    "text = text.replace(\"?\", \"?!\")\n",
    "#print text\n",
    "\n",
    "# Replace strings with blank spaces in order to remove them.\n",
    "text = text.replace(\"?\", \"\")\n",
    "#print text\n",
    "\n",
    "no_punctuation_tokens = []\n",
    "for token in tokenized_story:\n",
    "    token = token.replace(\".\",\"\")\n",
    "    token = token.replace(\",\",\"\")\n",
    "    token = token.replace(\"'\", \"\")\n",
    "    token = token.replace(\";\", \"\")\n",
    "    token = token.replace(\"\\n\", \"\")\n",
    "    no_punctuation_tokens.append(token)\n",
    "    \n",
    "print \"No punctuations: \", no_punctuation_tokens"
   ]
  },
  {
   "cell_type": "markdown",
   "metadata": {},
   "source": [
    "###4: Lowercasing the words"
   ]
  },
  {
   "cell_type": "markdown",
   "metadata": {},
   "source": [
    "For the same reason that we replace punctuation, we also need to make the tokens lower case. We don't want to run into a situation where 'Farmer' isn't in the dictionary, but 'farmer' is.\n",
    "\n",
    "The tokens without punctuation have been loaded into no_punctuation_tokens. Loop through the tokens and lowercase each one. Append each token to lowercase_tokens when you're done lowercasing."
   ]
  },
  {
   "cell_type": "code",
   "execution_count": 37,
   "metadata": {
    "collapsed": false
   },
   "outputs": [
    {
     "name": "stdout",
     "output_type": "stream",
     "text": [
      "Lowercase:  ['therewasonceagreatandnoblefrmernamedjuliushewasthebestfarmerinhisvillageandprabablyeventhewholeworldonedayhedecididtogrwpotatoesjuliusknewthatpotatoeswerehardtogrowsohekniwhehdtogoetothemagicfarmerintheskytoseekhisguidancejuliussetoutonhisjourneyaroudnnoononedayitstartedrainingalmostyimmediatelytgoonbutheperservedhebecamesoakedandstopedinthestoretobuyanumbrellahetoldthestorekeeperreggieabouthisjourney\"\"juliuscamebacktothevillageandmanagedtogrowthefinestcropthevillagehadeverseeneveryonehadpotatoestoeatformonthsandsangjuliusspraises']\n"
     ]
    }
   ],
   "source": [
    "# Make strings all lowercase using the .lower() method.\n",
    "text = \"MY CAPS LOCK IS STUCK\"\n",
    "text = text.lower()\n",
    "\n",
    "# The text is much nicer to read now.\n",
    "#print text\n",
    "\n",
    "lowercase_tokens = []\n",
    "for token in no_punctuation_tokens:\n",
    "    token = token.lower()\n",
    "    lowercase_tokens.append(token)\n",
    "\n",
    "print \"Lowercase: \", lowercase_tokens"
   ]
  },
  {
   "cell_type": "markdown",
   "metadata": {},
   "source": [
    "###5: Making a basic function"
   ]
  },
  {
   "cell_type": "markdown",
   "metadata": {},
   "source": [
    "Define a function that takes degrees in fahrenheit as an input, and return degrees celsius.\n",
    "\n",
    "Use it to convert 100 degrees fahrenheit to celsius. Assign the result to celsius_100. \n",
    "Use it to convert 150 degrees fahrenheit to celsius. Assign the result to celsius_150."
   ]
  },
  {
   "cell_type": "code",
   "execution_count": 39,
   "metadata": {
    "collapsed": false
   },
   "outputs": [
    {
     "name": "stdout",
     "output_type": "stream",
     "text": [
      "Number of km's in one mile:  1.60934708789\n",
      "Degrees celsius in 100 degrees fahrenheit:  37.7777777778\n",
      "Degrees celsius in 150 degrees fahrenheit:  65.5555555556\n"
     ]
    }
   ],
   "source": [
    "# A simple function that takes in a number of miles, and turns it into kilometers\n",
    "# The input at position 0 will be put into the miles variable.\n",
    "def miles_to_km(miles):\n",
    "    return miles/0.62137\n",
    "\n",
    "# Return the number of kilometers equivalent to one mile.\n",
    "print \"Number of km's in one mile: \", miles_to_km(1)\n",
    "\n",
    "# Convert 'a' from 10 miles to kilometers.\n",
    "a = 10\n",
    "a = miles_to_km(a)\n",
    "\n",
    "# Convert and assign to a different variable.\n",
    "b = 50\n",
    "c = miles_to_km(b)\n",
    "\n",
    "# Function that takes degrees in fahrenheit as an input, and return degrees celsius.\n",
    "fahrenheit = 80\n",
    "celsius = (fahrenheit - 32)/1.8\n",
    "\n",
    "def convert(degrees):\n",
    "    return (degrees - 32)/1.8\n",
    "\n",
    "celsius_100 = convert(100)\n",
    "celsius_150 = convert(150)\n",
    "\n",
    "print \"Degrees celsius in 100 degrees fahrenheit: \", celsius_100\n",
    "print \"Degrees celsius in 150 degrees fahrenheit: \", celsius_150"
   ]
  },
  {
   "cell_type": "markdown",
   "metadata": {},
   "source": [
    "###6: Function introduction"
   ]
  },
  {
   "cell_type": "markdown",
   "metadata": {
    "collapsed": true
   },
   "source": [
    "Make a function that takes a string as input and outputs a lowercase version. \n",
    "\n",
    "Use it to turn the string lowercase_me to lowercase. Assign the result to lowercased_string."
   ]
  },
  {
   "cell_type": "code",
   "execution_count": 20,
   "metadata": {
    "collapsed": false
   },
   "outputs": [
    {
     "name": "stdout",
     "output_type": "stream",
     "text": [
      "Sally sells seashells by the seashore.\n",
      "['Sally', 'sells', 'seashells', 'by', 'the', 'seashore.']\n",
      "I wish I was in ALL lowercase\n",
      "i wish i was in all lowercase\n"
     ]
    }
   ],
   "source": [
    "# Function to split a string into a list.\n",
    "def split_string(text):\n",
    "    return text.split(\" \")\n",
    "\n",
    "sally = \"Sally sells seashells by the seashore.\"\n",
    "print sally\n",
    "\n",
    "# Split 'sally' into a list.\n",
    "print split_string(sally)\n",
    "\n",
    "# Assign the output to 'sally_tokens'.\n",
    "sally_tokens = split_string(sally)\n",
    "\n",
    "lowercase_me = \"I wish I was in ALL lowercase\"\n",
    "print lowercase_me\n",
    "\n",
    "# Function output a lowercase version of a string. \n",
    "def lowercase(text):\n",
    "    return text.lower()\n",
    "\n",
    "# Assign the output to 'lowercased_string'.\n",
    "print lowercase(lowercase_me)"
   ]
  },
  {
   "cell_type": "markdown",
   "metadata": {},
   "source": [
    "###7: Types of errors"
   ]
  },
  {
   "cell_type": "markdown",
   "metadata": {},
   "source": [
    "There are multiple syntax errors in the code to the right. You can tell because of the error showing up in the results panel. Fix the errors and get the code running properly. It should print all of the items in a."
   ]
  },
  {
   "cell_type": "code",
   "execution_count": 22,
   "metadata": {
    "collapsed": false
   },
   "outputs": [
    {
     "name": "stdout",
     "output_type": "stream",
     "text": [
      "Errors are no fun!\n",
      "But they can be fixed\n",
      "Just fix the syntax and everything will be fine\n"
     ]
    }
   ],
   "source": [
    "a = [\"Errors are no fun!\", \"But they can be fixed\", \"Just fix the syntax and everything will be fine\"]\n",
    "b = 5\n",
    "\n",
    "for item in a:\n",
    "    if b == 5:\n",
    "        print item"
   ]
  },
  {
   "cell_type": "markdown",
   "metadata": {},
   "source": [
    "###8: More syntax errors"
   ]
  },
  {
   "cell_type": "markdown",
   "metadata": {},
   "source": [
    "The code has multiple syntax errors. Fix them so the code prints out \"I never liked that 6\""
   ]
  },
  {
   "cell_type": "code",
   "execution_count": 23,
   "metadata": {
    "collapsed": false
   },
   "outputs": [
    {
     "name": "stdout",
     "output_type": "stream",
     "text": [
      "I never liked that 6\n"
     ]
    }
   ],
   "source": [
    "a = 5\n",
    "\n",
    "if a == 6:\n",
    "    print \"6 is obviously the best number\"\n",
    "else:\n",
    "    print \"I never liked that 6\""
   ]
  },
  {
   "cell_type": "markdown",
   "metadata": {},
   "source": [
    "###9: Index errors"
   ]
  },
  {
   "cell_type": "markdown",
   "metadata": {},
   "source": [
    "Index errors occur when a list index that doesn't exist is referenced.\n",
    "\n",
    "The code to the right has multiple index errors. Fix them so that the code prints the last item in each list."
   ]
  },
  {
   "cell_type": "code",
   "execution_count": 41,
   "metadata": {
    "collapsed": false
   },
   "outputs": [
    {
     "name": "stdout",
     "output_type": "stream",
     "text": [
      "Mark Hammil\n",
      "Jabba\n"
     ]
    }
   ],
   "source": [
    "the_list = [\"Harrison Ford\", \"Mark Hammil\"]\n",
    "print the_list[1]\n",
    "\n",
    "another_list = [\"Jabba\"]\n",
    "print another_list[0]"
   ]
  },
  {
   "cell_type": "markdown",
   "metadata": {},
   "source": [
    "###10: Multiline functions"
   ]
  },
  {
   "cell_type": "markdown",
   "metadata": {},
   "source": [
    "Let's make a function to remove all punctuation.\n",
    "\n",
    "All the tokens from Julius's story are in the tokenized_story variable. Write a function that removes all punctuation from an input string. Then loop over tokenized_story and call the function to remove the punctuation from each token. Append the tokens to no_punctuation_tokens."
   ]
  },
  {
   "cell_type": "code",
   "execution_count": 26,
   "metadata": {
    "collapsed": false
   },
   "outputs": [
    {
     "name": "stdout",
     "output_type": "stream",
     "text": [
      "Apply math function to 20:  220\n"
     ]
    }
   ],
   "source": [
    "# Basic math function.\n",
    "def do_math(number):\n",
    "    # Multiply the number by 10.\n",
    "    number = number * 10\n",
    "    # Add 20 to the number.\n",
    "    number = number + 20\n",
    "    return number\n",
    "\n",
    "print \"Apply math function to 20: \", do_math(20)\n",
    "a = do_math(10)"
   ]
  },
  {
   "cell_type": "code",
   "execution_count": 42,
   "metadata": {
    "collapsed": false
   },
   "outputs": [
    {
     "name": "stdout",
     "output_type": "stream",
     "text": [
      "No punctuations:  ['TherewasonceagreatandnoblefrmernamedJuliusHewasthebestfarmerinhisvillageandprabablyeventhewholeworldOnedayhedecididtogrwpotatoesJuliusknewthatpotatoeswerehardtogrowsohekniwhehdtogoetothemagicfarmerintheskytoseekhisguidanceJuliussetoutonhisjourneyaroudnnoononedayItstartedrainingalmostyimmediatelytgoonbutheperservedHebecamesoakedandstopedinthestoretobuyanumbrellaHetoldthestorekeeperReggieabouthisjourney\"\"JuliuscamebacktothevillageandmanagedtogrowthefinestcropthevillagehadeverseenEveryonehadpotatoestoeatformonthsandsangJuliusspraises']\n"
     ]
    }
   ],
   "source": [
    "no_punctuation_tokens = []\n",
    "for token in tokenized_story:\n",
    "    token = token.replace(\".\",\"\")\n",
    "    token = token.replace(\",\",\"\")\n",
    "    token = token.replace(\"'\", \"\")\n",
    "    token = token.replace(\";\", \"\")\n",
    "    token = token.replace(\"\\n\", \"\")\n",
    "    no_punctuation_tokens.append(token)\n",
    "    \n",
    "print \"No punctuations: \", no_punctuation_tokens"
   ]
  },
  {
   "cell_type": "markdown",
   "metadata": {},
   "source": [
    "###11: Making a function to lowercase input"
   ]
  },
  {
   "cell_type": "markdown",
   "metadata": {},
   "source": [
    "Now, let's add to our function so that it also lowercases input.\n",
    "\n",
    "The remove_punctuation function is to the right. Can you add to it so that it also makes the output lowercase? Then loop over the tokens in tokenized_story and normalize them with the function. Append the tokens to normalized_tokens when you're done."
   ]
  },
  {
   "cell_type": "code",
   "execution_count": 43,
   "metadata": {
    "collapsed": false
   },
   "outputs": [
    {
     "name": "stdout",
     "output_type": "stream",
     "text": [
      "Normalized:  ['therewasonceagreatandnoblefrmernamedjuliushewasthebestfarmerinhisvillageandprabablyeventhewholeworldonedayhedecididtogrwpotatoesjuliusknewthatpotatoeswerehardtogrowsohekniwhehdtogoetothemagicfarmerintheskytoseekhisguidancejuliussetoutonhisjourneyaroudnnoononedayitstartedrainingalmostyimmediatelytgoonbutheperservedhebecamesoakedandstopedinthestoretobuyanumbrellahetoldthestorekeeperreggieabouthisjourney\"\"juliuscamebacktothevillageandmanagedtogrowthefinestcropthevillagehadeverseeneveryonehadpotatoestoeatformonthsandsangjuliusspraises']\n"
     ]
    }
   ],
   "source": [
    "def normalize(token):\n",
    "    token = token.replace(\".\",\"\")\n",
    "    token = token.replace(\",\",\"\")\n",
    "    token = token.replace(\"'\", \"\")\n",
    "    token = token.replace(\";\", \"\")\n",
    "    token = token.replace(\"\\n\", \"\")\n",
    "    token = token.lower()\n",
    "    return token\n",
    "\n",
    "normalized_tokens = []\n",
    "for token in tokenized_story:\n",
    "    token = normalize(token)\n",
    "    normalized_tokens.append(token)\n",
    "    \n",
    "print \"Normalized: \", normalized_tokens"
   ]
  },
  {
   "cell_type": "markdown",
   "metadata": {},
   "source": [
    "###12: Practice with multiple argument functions"
   ]
  },
  {
   "cell_type": "markdown",
   "metadata": {},
   "source": [
    "Let's practice with functions that take multiple arguments.\n",
    "\n",
    "Create a multiply function that takes in x, y, and z argument. The function should return x * y * z.\n",
    "\n",
    "Assign the values of multiply(10,3,5) to a.\n",
    "Assign the values of multiply(20,-1,3) to b."
   ]
  },
  {
   "cell_type": "code",
   "execution_count": 31,
   "metadata": {
    "collapsed": false
   },
   "outputs": [
    {
     "name": "stdout",
     "output_type": "stream",
     "text": [
      "Divide 5 by 1:  5\n",
      "Divide 1 by 5:  0\n"
     ]
    }
   ],
   "source": [
    "# Function to divide numbers at position 0 and 1\n",
    "def divide(x,y):\n",
    "    return x/y\n",
    "\n",
    "# 5 is assigned to x, and 1 is assigned to y based on positions\n",
    "print \"Divide 5 by 1: \", divide(5,1)\n",
    "\n",
    "# 1 is assigned to x, and 5 is assigned to y based on positions.\n",
    "print \"Divide 1 by 5: \", divide(1,5)\n",
    "\n",
    "# Function to multiply numbers at position 0, 1, 2\n",
    "def multiply(x, y, z):\n",
    "    return x * y * z\n",
    "\n",
    "a = multiply(10,3,5)\n",
    "b = multiply(20,-1,3)"
   ]
  },
  {
   "cell_type": "markdown",
   "metadata": {},
   "source": [
    "###13: Reading in and normalizing the dictionary"
   ]
  },
  {
   "cell_type": "markdown",
   "metadata": {},
   "source": [
    "Read in the dictionary from the \"dictionary.txt\" file. Split it into tokens based on the space character. Normalize each token using the normalize function. Append the normalized tokens to normalized_dictionary_tokens.\n",
    "\n",
    "Do the same for the \"story.txt\" file."
   ]
  },
  {
   "cell_type": "code",
   "execution_count": 32,
   "metadata": {
    "collapsed": false
   },
   "outputs": [],
   "source": [
    "def normalize(token):\n",
    "    token = token.replace(\".\",\"\")\n",
    "    token = token.replace(\",\",\"\")\n",
    "    token = token.replace(\"'\", \"\")\n",
    "    token = token.replace(\";\", \"\")\n",
    "    token = token.replace(\"\\n\", \"\")\n",
    "    token = token.lower()\n",
    "    return token\n",
    "\n",
    "normalized_dictionary_tokens = []\n",
    "f = open(\"data/dictionary.txt\", 'r')\n",
    "tokens = f.read().split(\" \")\n",
    "for token in tokens:\n",
    "    token = normalize(token)\n",
    "    normalized_dictionary_tokens.append(token)\n",
    "\n",
    "normalized_story_tokens = []\n",
    "f = open(\"data/story.txt\", 'r')\n",
    "tokens = f.read().split(\" \")\n",
    "for token in tokens:\n",
    "    token = normalize(token)\n",
    "    normalized_story_tokens.append(token)"
   ]
  },
  {
   "cell_type": "markdown",
   "metadata": {},
   "source": [
    "###14: Finding words that aren't spelled correctly"
   ]
  },
  {
   "cell_type": "markdown",
   "metadata": {},
   "source": [
    "The normalized story tokens are in normalized_story_tokens, and the normalized dictionary tokens are in normalized_dictionary_tokens.\n",
    "\n",
    "Loop through the story tokens, and check if each token is in the dictionary. If the token is in normalized_dictionary_tokens, append it to correctly_spelled. If it isn't, append it to potential_misspellings."
   ]
  },
  {
   "cell_type": "code",
   "execution_count": 44,
   "metadata": {
    "collapsed": false
   },
   "outputs": [
    {
     "name": "stdout",
     "output_type": "stream",
     "text": [
      "Potential misspellings:  ['therewasonceagreatandnoblefrmernamedjuliushewasthebestfarmerinhisvillageandprabablyeventhewholeworldonedayhedecididtogrwpotatoesjuliusknewthatpotatoeswerehardtogrowsohekniwhehdtogoetothemagicfarmerintheskytoseekhisguidancejuliussetoutonhisjourneyaroudnnoononedayitstartedrainingalmostyimmediatelytgoonbutheperservedhebecamesoakedandstopedinthestoretobuyanumbrellahetoldthestorekeeperreggieabouthisjourney\"\"juliuscamebacktothevillageandmanagedtogrowthefinestcropthevillagehadeverseeneveryonehadpotatoestoeatformonthsandsangjuliusspraises']\n"
     ]
    }
   ],
   "source": [
    "potential_misspellings = []\n",
    "correctly_spelled = []\n",
    "for token in normalized_story_tokens:\n",
    "    if token in normalized_dictionary_tokens:\n",
    "        correctly_spelled.append(token)\n",
    "    else:\n",
    "        potential_misspellings.append(token)\n",
    "\n",
    "print \"Potential misspellings: \", potential_misspellings"
   ]
  }
 ],
 "metadata": {
  "kernelspec": {
   "display_name": "Python 2",
   "language": "python",
   "name": "python2"
  },
  "language_info": {
   "codemirror_mode": {
    "name": "ipython",
    "version": 2
   },
   "file_extension": ".py",
   "mimetype": "text/x-python",
   "name": "python",
   "nbconvert_exporter": "python",
   "pygments_lexer": "ipython2",
   "version": "2.7.10"
  }
 },
 "nbformat": 4,
 "nbformat_minor": 0
}
