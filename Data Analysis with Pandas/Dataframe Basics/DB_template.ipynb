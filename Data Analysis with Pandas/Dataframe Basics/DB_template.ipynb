{
 "cells": [
  {
   "cell_type": "markdown",
   "metadata": {},
   "source": [
    "#Data Analysis with Pandas"
   ]
  },
  {
   "cell_type": "markdown",
   "metadata": {},
   "source": [
    "##Dataframe Basics"
   ]
  },
  {
   "cell_type": "markdown",
   "metadata": {},
   "source": [
    "###1: Read in a CSV file"
   ]
  },
  {
   "cell_type": "markdown",
   "metadata": {
    "collapsed": true
   },
   "source": [
    "The first step, as always, is reading in a csv file.\n",
    "\n",
    "With pandas, we'll need to use the read_csv method.\n",
    "\n",
    "With pandas, the equivalent of a two-dimensional numpy array, or matrix, is called a dataframe."
   ]
  },
  {
   "cell_type": "markdown",
   "metadata": {},
   "source": [
    "####Instructions"
   ]
  },
  {
   "cell_type": "markdown",
   "metadata": {},
   "source": [
    "Read \"food_info.csv\" info food_info."
   ]
  },
  {
   "cell_type": "code",
   "execution_count": 1,
   "metadata": {
    "collapsed": false
   },
   "outputs": [],
   "source": [
    "import pandas\n",
    "\n",
    "food_info = pandas.read_csv(\"data/food_info.csv\")"
   ]
  },
  {
   "cell_type": "markdown",
   "metadata": {},
   "source": [
    "###2: Indexing data with pandas"
   ]
  },
  {
   "cell_type": "markdown",
   "metadata": {},
   "source": [
    "Indexing in pandas is slightly different from in numpy.\n",
    "\n",
    "We need to use the .iloc[] method (note how it uses square brackets instead of parentheses).\n",
    "\n",
    "- numpy_array[0,0]\n",
    "- numpy_array[:,0]\n",
    "- numpy_array[0,:]\n",
    "\n",
    "The above lines of code will get the first element of the first row, the whole first column, and the whole first row from a numpy array, respectively.\n",
    "\n",
    "- pandas_dataframe.iloc[0,0]\n",
    "- pandas_dataframe.iloc[:,0]\n",
    "- pandas_dataframe.iloc[0,:]  \n",
    "\n",
    "The above is the equivalent indexing in a pandas dataframe."
   ]
  },
  {
   "cell_type": "markdown",
   "metadata": {},
   "source": [
    "####Instructions"
   ]
  },
  {
   "cell_type": "markdown",
   "metadata": {},
   "source": [
    "Assign the second row of food_info to the variable second_row.\n",
    "\n",
    "Assign the tenth row of food_info to the variable tenth_row."
   ]
  },
  {
   "cell_type": "code",
   "execution_count": 4,
   "metadata": {
    "collapsed": false
   },
   "outputs": [
    {
     "name": "stdout",
     "output_type": "stream",
     "text": [
      "First row of data:\n",
      "NDB_No                                     1001\n",
      "Shrt_Desc                      BUTTER,WITH SALT\n",
      "Water_(g)                                 15.87\n",
      "Energ_Kcal                                  717\n",
      "Protein_(g)                                0.85\n",
      "Lipid_Tot_(g)                             81.11\n",
      "Ash_(g)                                    2.11\n",
      "Carbohydrt_(g)                             0.06\n",
      "Fiber_TD_(g)                                  0\n",
      "Sugar_Tot_(g)                              0.06\n",
      "Calcium_(mg)                                 24\n",
      "Iron_(mg)                                  0.02\n",
      "Magnesium_(mg)                                2\n",
      "Phosphorus_(mg)                              24\n",
      "Potassium_(mg)                               24\n",
      "Sodium_(mg)                                 643\n",
      "Zinc_(mg)                                  0.09\n",
      "Copper_mg)                                    0\n",
      "Manganese_(mg)                                0\n",
      "Selenium_(�g)                                 1\n",
      "Vit_C_(mg)                                    0\n",
      "Thiamin_(mg)                              0.005\n",
      "Riboflavin_(mg)                           0.034\n",
      "Niacin_(mg)                               0.042\n",
      "Panto_Acid_mg)                             0.11\n",
      "Vit_B6_(mg)                               0.003\n",
      "Folate_Tot_(�g)                               3\n",
      "Folic_Acid_(�g)                               0\n",
      "Food_Folate_(�g)                              3\n",
      "Folate_DFE_(�g)                               3\n",
      "Choline_Tot_ (mg)                          18.8\n",
      "Vit_B12_(�g)                               0.17\n",
      "Vit_A_IU                                   2499\n",
      "Vit_A_RAE                                   684\n",
      "Retinol_(�g)                                671\n",
      "Alpha_Carot_(�g)                              0\n",
      "Beta_Carot_(�g)                             158\n",
      "Beta_Crypt_(�g)                               0\n",
      "Lycopene_(�g)                                 0\n",
      "Lut+Zea_ (�g)                                 0\n",
      "Vit_E_(mg)                                 2.32\n",
      "Vit_D_�g                                      0\n",
      "Vit_D_IU                                      0\n",
      "Vit_K_(�g)                                    7\n",
      "FA_Sat_(g)                               51.368\n",
      "FA_Mono_(g)                              21.021\n",
      "FA_Poly_(g)                               3.043\n",
      "Cholestrl_(mg)                              215\n",
      "GmWt_1                                        5\n",
      "GmWt_Desc1           1 pat,  (1\" sq, 1/3\" high)\n",
      "GmWt_2                                     14.2\n",
      "GmWt_Desc2                               1 tbsp\n",
      "Refuse_Pct                                    0\n",
      "Name: 0, dtype: object\n"
     ]
    }
   ],
   "source": [
    "# Print first row of data.\n",
    "print \"First row of data:\"\n",
    "print food_info.iloc[0,:]\n",
    "\n",
    "# Assign second row.\n",
    "second_row = food_info.iloc[1,:]\n",
    "\n",
    "# Assign tenth row.\n",
    "tenth_row = food_info.iloc[9,:]"
   ]
  },
  {
   "cell_type": "markdown",
   "metadata": {},
   "source": [
    "###3: Index a series"
   ]
  },
  {
   "cell_type": "markdown",
   "metadata": {},
   "source": [
    "What we call a vector or a one-dimensional array is called a series in pandas.\n",
    "\n",
    "We index a series without using .iloc[]."
   ]
  },
  {
   "cell_type": "markdown",
   "metadata": {},
   "source": [
    "####Instructions"
   ]
  },
  {
   "cell_type": "markdown",
   "metadata": {},
   "source": [
    "Assign the first 20 items in the second row to first_20_items_in_second_row.\n",
    "\n",
    "Assign the first 10 items in the first column to first_10_items_in_first_column."
   ]
  },
  {
   "cell_type": "code",
   "execution_count": 3,
   "metadata": {
    "collapsed": false
   },
   "outputs": [],
   "source": [
    "# Assin a series.\n",
    "first_row = food_info.iloc[0,:]\n",
    "\n",
    "# Assign first 10 items from first row.\n",
    "first_ten_items_in_first_row = first_row[0:10]\n",
    "first_ten_items_in_first_row = food_info.iloc[0,:][0:10]\n",
    "\n",
    "# Assign first 20 items from second row.\n",
    "first_20_items_in_second_row = food_info.iloc[1,:][0:20]\n",
    "\n",
    "# Assign first 10 items from first column.\n",
    "first_10_items_in_first_column = food_info.iloc[:,0][0:10]"
   ]
  },
  {
   "cell_type": "markdown",
   "metadata": {},
   "source": [
    "###4: Get column by name"
   ]
  },
  {
   "cell_type": "markdown",
   "metadata": {},
   "source": [
    "One cool thing about pandas is that we can get columns with their names, instead of only by number."
   ]
  },
  {
   "cell_type": "markdown",
   "metadata": {},
   "source": [
    "####Instructions"
   ]
  },
  {
   "cell_type": "markdown",
   "metadata": {},
   "source": [
    "Assign the FA_Sat_(g) column to the variable saturated_fat.\n",
    "\n",
    "Assign the Cholestrl_(mg) to the variable cholesterol."
   ]
  },
  {
   "cell_type": "code",
   "execution_count": 5,
   "metadata": {
    "collapsed": false
   },
   "outputs": [
    {
     "name": "stdout",
     "output_type": "stream",
     "text": [
      "['NDB_No', 'Shrt_Desc', 'Water_(g)', 'Energ_Kcal', 'Protein_(g)', 'Lipid_Tot_(g)', 'Ash_(g)', 'Carbohydrt_(g)', 'Fiber_TD_(g)', 'Sugar_Tot_(g)', 'Calcium_(mg)', 'Iron_(mg)', 'Magnesium_(mg)', 'Phosphorus_(mg)', 'Potassium_(mg)', 'Sodium_(mg)', 'Zinc_(mg)', 'Copper_mg)', 'Manganese_(mg)', 'Selenium_(\\xb5g)', 'Vit_C_(mg)', 'Thiamin_(mg)', 'Riboflavin_(mg)', 'Niacin_(mg)', 'Panto_Acid_mg)', 'Vit_B6_(mg)', 'Folate_Tot_(\\xb5g)', 'Folic_Acid_(\\xb5g)', 'Food_Folate_(\\xb5g)', 'Folate_DFE_(\\xb5g)', 'Choline_Tot_ (mg)', 'Vit_B12_(\\xb5g)', 'Vit_A_IU', 'Vit_A_RAE', 'Retinol_(\\xb5g)', 'Alpha_Carot_(\\xb5g)', 'Beta_Carot_(\\xb5g)', 'Beta_Crypt_(\\xb5g)', 'Lycopene_(\\xb5g)', 'Lut+Zea_ (\\xb5g)', 'Vit_E_(mg)', 'Vit_D_\\xb5g', 'Vit_D_IU', 'Vit_K_(\\xb5g)', 'FA_Sat_(g)', 'FA_Mono_(g)', 'FA_Poly_(g)', 'Cholestrl_(mg)', 'GmWt_1', 'GmWt_Desc1', 'GmWt_2', 'GmWt_Desc2', 'Refuse_Pct']\n",
      "0     0.85\n",
      "1     0.49\n",
      "2     0.28\n",
      "3    21.40\n",
      "4    23.24\n",
      "5    20.75\n",
      "6    19.80\n",
      "7    25.18\n",
      "8    22.87\n",
      "9    23.37\n",
      "Name: Protein_(g), dtype: float64\n"
     ]
    }
   ],
   "source": [
    "# Print names of all the columns (in order).\n",
    "print list(food_info.columns.values)\n",
    "\n",
    "# Print a particular column.\n",
    "print food_info[\"Protein_(g)\"][0:10]\n",
    "\n",
    "# Assign particular columns.\n",
    "sodium_column = food_info[\"Sodium_(mg)\"]\n",
    "saturated_fat = food_info[\"FA_Sat_(g)\"]\n",
    "cholesterol = food_info[\"Cholestrl_(mg)\"]"
   ]
  },
  {
   "cell_type": "markdown",
   "metadata": {},
   "source": [
    "###5: Getting multiple columns by name"
   ]
  },
  {
   "cell_type": "markdown",
   "metadata": {},
   "source": [
    "We can get a single column by passing in a name, but we can also get multiple columns by passing in a list of names."
   ]
  },
  {
   "cell_type": "markdown",
   "metadata": {},
   "source": [
    "####Instructions"
   ]
  },
  {
   "cell_type": "markdown",
   "metadata": {},
   "source": [
    "Assign the 'Zinc_(mg)' and 'Copper_(mg)' columns to zinc_and_copper.\n",
    "\n",
    "Assign the 'Selenium_(mcg)' and 'Thiamin_(mg)' columns to selenium_and_thiamin.\n",
    "\n",
    "Make sure that you get the columns in order (zinc and selenium come first)."
   ]
  },
  {
   "cell_type": "code",
   "execution_count": 6,
   "metadata": {
    "collapsed": false
   },
   "outputs": [],
   "source": [
    "#print list food_info.columns.values\n",
    "\n",
    "# Rename copper and selenium columns.\n",
    "food_info = food_info.rename(columns={'Copper_mg)': 'Copper_(mg)'})\n",
    "food_info = food_info.rename(columns={'Selenium_(\\xb5g)': 'Selenium_(mcg)'})\n",
    "\n",
    "# Assign fiber and suger columns.\n",
    "column_list = ['Fiber_TD_(g)', 'Sugar_Tot_(g)']\n",
    "fiber_and_sugar = food_info[column_list]\n",
    "\n",
    "# Assign zinc and copper columns.\n",
    "zinc_and_copper = food_info[['Zinc_(mg)', 'Copper_(mg)']]\n",
    "\n",
    "# Assign selenium and thiamin columns.\n",
    "selenium_and_thiamin = food_info[['Selenium_(mcg)', 'Thiamin_(mg)']]"
   ]
  },
  {
   "cell_type": "markdown",
   "metadata": {},
   "source": [
    "###6: Math with columns"
   ]
  },
  {
   "cell_type": "markdown",
   "metadata": {},
   "source": [
    "We can do math with vectors (or, as we are more familiar with them as, columns).\n",
    "\n",
    "Adding two columns will go through and add each value at each position to the corresponding value in the same position.\n",
    "\n",
    "First, the values at index 0 will be added, then the values at index 1, and so on.\n",
    "\n",
    "At the end, you'll have a new vector with all of the sums.\n",
    "\n",
    "In order to do this kind of math, the vectors all need to be the same length (have the same number of elements)."
   ]
  },
  {
   "cell_type": "markdown",
   "metadata": {},
   "source": [
    "####Instructions"
   ]
  },
  {
   "cell_type": "markdown",
   "metadata": {},
   "source": [
    "Assign the number of grams of protein per gram of water (\"Protein_(g)\" column divided by \"Water_(g)\" column) to grams_of_protein_per_gram_of_water.\n",
    "\n",
    "Assign the total amount of calcium and iron(\"Calcium_(mg)\" column plus \"Iron_(mg)\" column) to milligrams_of_calcium_and_iron."
   ]
  },
  {
   "cell_type": "code",
   "execution_count": 7,
   "metadata": {
    "collapsed": false
   },
   "outputs": [],
   "source": [
    "# Sum fat columns.\n",
    "total_fat = food_info[\"FA_Sat_(g)\"] + food_info[\"FA_Mono_(g)\"] + food_info[\"FA_Poly_(g)\"]\n",
    "\n",
    "# Protein per calorie.\n",
    "grams_of_protein_per_calorie = food_info[\"Protein_(g)\"] / food_info[\"Energ_Kcal\"]\n",
    "\n",
    "# Protein squared.\n",
    "grams_of_protein_squared = food_info[\"Protein_(g)\"] * food_info[\"Protein_(g)\"]\n",
    "\n",
    "# Non-sugar carbohydrates.\n",
    "non_sugar_carbs = food_info[\"Carbohydrt_(g)\"] - food_info[\"Sugar_Tot_(g)\"]\n",
    "\n",
    "# Protein per water.\n",
    "grams_of_protein_per_gram_of_water = food_info[\"Protein_(g)\"] / food_info[\"Water_(g)\"]\n",
    "\n",
    "# Sum calcium and iron.\n",
    "milligrams_of_calcium_and_iron = food_info[\"Calcium_(mg)\"] + food_info[\"Iron_(mg)\"]"
   ]
  },
  {
   "cell_type": "markdown",
   "metadata": {},
   "source": [
    "###7: Math with scalars"
   ]
  },
  {
   "cell_type": "markdown",
   "metadata": {},
   "source": [
    "We can also do math with a vector (column) and a scalar (single numbers).\n",
    "\n",
    "food_info[\"Iron_(mg)\"] / 1000  \n",
    "\n",
    "The statement above will divide each item in the \"Iron_(mg)\" column by 1000, converting the values from milligrams to grams.\n",
    "\n",
    "Multiplying by scalars can be a good way to manipulate values in columns."
   ]
  },
  {
   "cell_type": "markdown",
   "metadata": {},
   "source": [
    "####Instructions"
   ]
  },
  {
   "cell_type": "markdown",
   "metadata": {},
   "source": [
    "Assign the number of grams of \"Sodium_(mg)\" to the variable sodium_grams (divide the column by 1000).\n",
    "\n",
    "Assign the number of milligrams of \"Sugar_Tot_(g)\" to the variable sugar_milligrams (multiply the column by 1000)."
   ]
  },
  {
   "cell_type": "code",
   "execution_count": 8,
   "metadata": {
    "collapsed": false
   },
   "outputs": [],
   "source": [
    "# Divide the protein column by a scalar to get kilograms.\n",
    "protein_kilograms = food_info[\"Protein_(g)\"] / 1000\n",
    "\n",
    "# Subtract 5 grams from carbohydrates.\n",
    "lowered_carbs = food_info[\"Carbohydrt_(g)\"] - 5\n",
    "\n",
    "# Assign the number of grams of \"Sodium_(mg)\" to the variable sodium_grams.\n",
    "sodium_grams = food_info[\"Sodium_(mg)\"] / 1000\n",
    "\n",
    "# Assign the number of milligrams of \"Sugar_Tot_(g)\" to the variable sugar_milligrams.\n",
    "sugar_milligrams = food_info[\"Sugar_Tot_(g)\"] * 1000"
   ]
  },
  {
   "cell_type": "markdown",
   "metadata": {},
   "source": [
    "###8: Sorting columns"
   ]
  },
  {
   "cell_type": "markdown",
   "metadata": {},
   "source": [
    "We can also sort the dataframe by the values in a column.\n",
    "\n",
    "To do this, we use the .sort method, which returns a new dataframe sorted according to the specified criteria."
   ]
  },
  {
   "cell_type": "markdown",
   "metadata": {},
   "source": [
    "####Instructions"
   ]
  },
  {
   "cell_type": "markdown",
   "metadata": {},
   "source": [
    "Sort by the amount of \"Sodium_(mg)\", with the largest value on top (descending sort). Assign the result to descending_sodium.\n",
    "\n",
    "Sort by the amount of \"Vit_C_(mg)\", with the smallest value on top (ascending sort). Assign the result to ascending_vitamin_c."
   ]
  },
  {
   "cell_type": "code",
   "execution_count": 9,
   "metadata": {
    "collapsed": false
   },
   "outputs": [
    {
     "name": "stdout",
     "output_type": "stream",
     "text": [
      "Food with least vitamin C:\n",
      "NDB_No                                     1001\n",
      "Shrt_Desc                      BUTTER,WITH SALT\n",
      "Water_(g)                                 15.87\n",
      "Energ_Kcal                                  717\n",
      "Protein_(g)                                0.85\n",
      "Lipid_Tot_(g)                             81.11\n",
      "Ash_(g)                                    2.11\n",
      "Carbohydrt_(g)                             0.06\n",
      "Fiber_TD_(g)                                  0\n",
      "Sugar_Tot_(g)                              0.06\n",
      "Calcium_(mg)                                 24\n",
      "Iron_(mg)                                  0.02\n",
      "Magnesium_(mg)                                2\n",
      "Phosphorus_(mg)                              24\n",
      "Potassium_(mg)                               24\n",
      "Sodium_(mg)                                 643\n",
      "Zinc_(mg)                                  0.09\n",
      "Copper_(mg)                                   0\n",
      "Manganese_(mg)                                0\n",
      "Selenium_(mcg)                                1\n",
      "Vit_C_(mg)                                    0\n",
      "Thiamin_(mg)                              0.005\n",
      "Riboflavin_(mg)                           0.034\n",
      "Niacin_(mg)                               0.042\n",
      "Panto_Acid_mg)                             0.11\n",
      "Vit_B6_(mg)                               0.003\n",
      "Folate_Tot_(�g)                               3\n",
      "Folic_Acid_(�g)                               0\n",
      "Food_Folate_(�g)                              3\n",
      "Folate_DFE_(�g)                               3\n",
      "Choline_Tot_ (mg)                          18.8\n",
      "Vit_B12_(�g)                               0.17\n",
      "Vit_A_IU                                   2499\n",
      "Vit_A_RAE                                   684\n",
      "Retinol_(�g)                                671\n",
      "Alpha_Carot_(�g)                              0\n",
      "Beta_Carot_(�g)                             158\n",
      "Beta_Crypt_(�g)                               0\n",
      "Lycopene_(�g)                                 0\n",
      "Lut+Zea_ (�g)                                 0\n",
      "Vit_E_(mg)                                 2.32\n",
      "Vit_D_�g                                      0\n",
      "Vit_D_IU                                      0\n",
      "Vit_K_(�g)                                    7\n",
      "FA_Sat_(g)                               51.368\n",
      "FA_Mono_(g)                              21.021\n",
      "FA_Poly_(g)                               3.043\n",
      "Cholestrl_(mg)                              215\n",
      "GmWt_1                                        5\n",
      "GmWt_Desc1           1 pat,  (1\" sq, 1/3\" high)\n",
      "GmWt_2                                     14.2\n",
      "GmWt_Desc2                               1 tbsp\n",
      "Refuse_Pct                                    0\n",
      "Name: 0, dtype: object\n"
     ]
    }
   ],
   "source": [
    "# Sort foods by amount of fat.\n",
    "descending_fat = food_info.sort([\"Lipid_Tot_(g)\"], ascending=[False])\n",
    "\n",
    "# Print the most fatty food in the data.\n",
    "#print(descending_fat.iloc[0,:])\n",
    "\n",
    "# Reverse the sort order.\n",
    "ascending_fat = food_info.sort([\"Lipid_Tot_(g)\"], ascending=[True])\n",
    "\n",
    "# The least fatty food has no fat at all.\n",
    "#print(ascending_fat.iloc[0,:])\n",
    "\n",
    "# Sort by the amount of sodium.\n",
    "descending_sodium = food_info.sort([\"Sodium_(mg)\"], ascending=[False])\n",
    "\n",
    "# Sort by the amount of vitamin C.\n",
    "ascending_vitamin_c = food_info.sort([\"Vit_C_(mg)\"], ascending=[True])\n",
    "\n",
    "print \"Food with least vitamin C:\"\n",
    "print(ascending_vitamin_c.iloc[0,:])"
   ]
  },
  {
   "cell_type": "markdown",
   "metadata": {},
   "source": [
    "###9: Multicolumn sort"
   ]
  },
  {
   "cell_type": "markdown",
   "metadata": {},
   "source": [
    "We only sorted on the value of a single column before, but we can also sort based on multiple columns.\n",
    "\n",
    "The first column in the list will be sorted on first. Any rows that have the same value for the first column will be sorted based on the second column, and so on until all of the given columns are used.\n",
    "\n",
    "We can specify different sort orders for each column using the ascending argument."
   ]
  },
  {
   "cell_type": "markdown",
   "metadata": {},
   "source": [
    "####Instructions"
   ]
  },
  {
   "cell_type": "markdown",
   "metadata": {},
   "source": [
    "Perform a multicolumn sort on food_info, with the first column being \"Sugar_Tot_(g)\" ascending, and the second being \"Zinc_(mg)\" descending. Assign the result to ascending_sugar_then_descending_zinc.\n",
    "\n",
    "Perform a multicolumn sort on food_info, with the first column being \"Cholestrl_(mg)\" descending, and the second being \"Protein_(g)\" ascending. Assign the result to descending_cholesterol_then_ascending_protein."
   ]
  },
  {
   "cell_type": "code",
   "execution_count": 10,
   "metadata": {
    "collapsed": false
   },
   "outputs": [
    {
     "name": "stdout",
     "output_type": "stream",
     "text": [
      "Food with greatest cholesterol and least protein:\n",
      "NDB_No                                                   17189\n",
      "Shrt_Desc            VEAL,VAR MEATS&BY-PRODUCTS,BRAIN,CKD,BRSD\n",
      "Water_(g)                                                76.89\n",
      "Energ_Kcal                                                 136\n",
      "Protein_(g)                                              11.48\n",
      "Lipid_Tot_(g)                                             9.63\n",
      "Ash_(g)                                                    1.4\n",
      "Carbohydrt_(g)                                               0\n",
      "Fiber_TD_(g)                                                 0\n",
      "Sugar_Tot_(g)                                              NaN\n",
      "Calcium_(mg)                                                16\n",
      "Iron_(mg)                                                 1.67\n",
      "Magnesium_(mg)                                              16\n",
      "Phosphorus_(mg)                                            385\n",
      "Potassium_(mg)                                             214\n",
      "Sodium_(mg)                                                156\n",
      "Zinc_(mg)                                                 1.61\n",
      "Copper_(mg)                                               0.26\n",
      "Manganese_(mg)                                           0.038\n",
      "Selenium_(mcg)                                              11\n",
      "Vit_C_(mg)                                                  13\n",
      "Thiamin_(mg)                                              0.08\n",
      "Riboflavin_(mg)                                            0.2\n",
      "Niacin_(mg)                                               2.43\n",
      "Panto_Acid_mg)                                               1\n",
      "Vit_B6_(mg)                                               0.17\n",
      "Folate_Tot_(�g)                                              3\n",
      "Folic_Acid_(�g)                                              0\n",
      "Food_Folate_(�g)                                             3\n",
      "Folate_DFE_(�g)                                              3\n",
      "Choline_Tot_ (mg)                                          NaN\n",
      "Vit_B12_(�g)                                              9.65\n",
      "Vit_A_IU                                                     0\n",
      "Vit_A_RAE                                                    0\n",
      "Retinol_(�g)                                                 0\n",
      "Alpha_Carot_(�g)                                           NaN\n",
      "Beta_Carot_(�g)                                            NaN\n",
      "Beta_Crypt_(�g)                                            NaN\n",
      "Lycopene_(�g)                                              NaN\n",
      "Lut+Zea_ (�g)                                              NaN\n",
      "Vit_E_(mg)                                                 NaN\n",
      "Vit_D_�g                                                   NaN\n",
      "Vit_D_IU                                                   NaN\n",
      "Vit_K_(�g)                                                 NaN\n",
      "FA_Sat_(g)                                                2.18\n",
      "FA_Mono_(g)                                               1.74\n",
      "FA_Poly_(g)                                               1.49\n",
      "Cholestrl_(mg)                                            3100\n",
      "GmWt_1                                                      85\n",
      "GmWt_Desc1                                                3 oz\n",
      "GmWt_2                                                     339\n",
      "GmWt_Desc2           1 unit, cooked (yield from 1 lb raw meat)\n",
      "Refuse_Pct                                                   0\n",
      "Name: 5287, dtype: object\n"
     ]
    }
   ],
   "source": [
    "# Perform a multicolumn sort, with first column \"Lipid_Tot_(g)\" ascending, and the second \"Sodium_(mg)\" ascending\n",
    "ascending_fat_then_ascending_sodium = food_info.sort([\"Lipid_Tot_(g)\", \"Sodium_(mg)\"], ascending=[True, True])\n",
    "\n",
    "# Print the multicolumn sort\n",
    "#print ascending_fat_then_ascending_sodium.iloc[0,:]\n",
    "\n",
    "# Perform a multicolumn sort, with first column \"Lipid_Tot_(g)\" ascending, and the second \"Sodium_(mg)\" descending\n",
    "ascending_fat_then_descending_sodium = food_info.sort([\"Lipid_Tot_(g)\", \"Sodium_(mg)\"], ascending=[True, False])\n",
    "\n",
    "# Print the multicolumn sort\n",
    "#print(ascending_fat_then_descending_sodium.iloc[0,:])\n",
    "\n",
    "# Perform a multicolumn sort, with first column \"Sugar_Tot_(g)\" ascending, and the second \"Zinc_(mg)\" descending\n",
    "ascending_sugar_then_descending_zinc = food_info.sort([\"Sugar_Tot_(g)\", \"Zinc_(mg)\"], ascending=[True, False])\n",
    "\n",
    "# Perform a multicolumn sort, with first column \"Cholestrl_(mg)\" descending, and the second \"Protein_(g)\" ascending\n",
    "descending_cholesterol_then_ascending_protein = food_info.sort([\"Cholestrl_(mg)\", \"Protein_(g)\"], ascending=[False, True])\n",
    "\n",
    "print \"Food with greatest cholesterol and least protein:\"\n",
    "print descending_cholesterol_then_ascending_protein.iloc[0,:]"
   ]
  },
  {
   "cell_type": "markdown",
   "metadata": {},
   "source": [
    "###10: Creating a rating"
   ]
  },
  {
   "cell_type": "markdown",
   "metadata": {
    "collapsed": false
   },
   "source": [
    "Let's say that we have a friend, Superman, who's trying to gain muscle, and so he wants to eat foods that have a lot of protein.\n",
    "\n",
    "But he's also very health conscious, so he wants to avoid fat.\n",
    "\n",
    "We could sort based on those two columns and give him an answer, but what if he cares more about a food having a lot of protein than it being too fatty?\n",
    "\n",
    "What we need to do is construct a rating for each food based on Superman's criteria.\n",
    "\n",
    "Then we can recommend the food that scores the highest."
   ]
  },
  {
   "cell_type": "markdown",
   "metadata": {},
   "source": [
    "####Instructions"
   ]
  },
  {
   "cell_type": "markdown",
   "metadata": {},
   "source": [
    "Let's say Superman now decides that the food having a lot of protein is only twice as important as the food not being too fatty.\n",
    "\n",
    "Construct the new rating, and assign it to new_rating"
   ]
  },
  {
   "cell_type": "code",
   "execution_count": 11,
   "metadata": {
    "collapsed": false
   },
   "outputs": [
    {
     "name": "stdout",
     "output_type": "stream",
     "text": [
      "Food with greatest new weighting:\n",
      "NDB_No                                 16422\n",
      "Shrt_Desc            SOY PROT ISOLATE,K TYPE\n",
      "Water_(g)                               4.98\n",
      "Energ_Kcal                               321\n",
      "Protein_(g)                            88.32\n",
      "Lipid_Tot_(g)                           0.53\n",
      "Ash_(g)                                 3.58\n",
      "Carbohydrt_(g)                          2.59\n",
      "Fiber_TD_(g)                               0\n",
      "Sugar_Tot_(g)                              0\n",
      "Calcium_(mg)                             178\n",
      "Iron_(mg)                               14.5\n",
      "Magnesium_(mg)                            39\n",
      "Phosphorus_(mg)                          776\n",
      "Potassium_(mg)                          1590\n",
      "Sodium_(mg)                               50\n",
      "Zinc_(mg)                               4.03\n",
      "Copper_(mg)                            1.599\n",
      "Manganese_(mg)                         1.493\n",
      "Selenium_(mcg)                           0.8\n",
      "Vit_C_(mg)                                 0\n",
      "Thiamin_(mg)                           0.176\n",
      "Riboflavin_(mg)                          0.1\n",
      "Niacin_(mg)                            1.438\n",
      "Panto_Acid_mg)                          0.06\n",
      "Vit_B6_(mg)                              0.1\n",
      "Folate_Tot_(�g)                          176\n",
      "Folic_Acid_(�g)                            0\n",
      "Food_Folate_(�g)                         176\n",
      "Folate_DFE_(�g)                          176\n",
      "Choline_Tot_ (mg)                      190.9\n",
      "Vit_B12_(�g)                               0\n",
      "Vit_A_IU                                   0\n",
      "Vit_A_RAE                                  0\n",
      "Retinol_(�g)                               0\n",
      "Alpha_Carot_(�g)                           0\n",
      "Beta_Carot_(�g)                            0\n",
      "Beta_Crypt_(�g)                            0\n",
      "Lycopene_(�g)                              0\n",
      "Lut+Zea_ (�g)                              0\n",
      "Vit_E_(mg)                                 0\n",
      "Vit_D_�g                                   0\n",
      "Vit_D_IU                                   0\n",
      "Vit_K_(�g)                                 0\n",
      "FA_Sat_(g)                             0.077\n",
      "FA_Mono_(g)                            0.117\n",
      "FA_Poly_(g)                            0.299\n",
      "Cholestrl_(mg)                             0\n",
      "GmWt_1                                 28.35\n",
      "GmWt_Desc1                              1 oz\n",
      "GmWt_2                                   NaN\n",
      "GmWt_Desc2                               NaN\n",
      "Refuse_Pct                                 0\n",
      "new_rating                            176.11\n",
      "Name: 5009, dtype: object\n"
     ]
    }
   ],
   "source": [
    "# Calculate the weighted value for protein.\n",
    "weighted_protein = food_info[\"Protein_(g)\"] * 3\n",
    "\n",
    "# Calculate the weighted value for fat.\n",
    "weighted_fat = -1 * food_info[\"Lipid_Tot_(g)\"]\n",
    "\n",
    "# Construct the final rating by adding the weighted values.\n",
    "initial_rating = weighted_protein + weighted_fat\n",
    "new_rating = (food_info[\"Protein_(g)\"] * 2) - food_info[\"Lipid_Tot_(g)\"]\n",
    "food_info[\"new_rating\"] = new_rating\n",
    "\n",
    "# Sort by the new rating.\n",
    "descending_new_rating = food_info.sort([\"new_rating\"], ascending=[False])\n",
    "\n",
    "print \"Food with greatest new weighting:\"\n",
    "print descending_new_rating.iloc[0,:]"
   ]
  },
  {
   "cell_type": "markdown",
   "metadata": {},
   "source": [
    "###11: Normalizing columns"
   ]
  },
  {
   "cell_type": "markdown",
   "metadata": {},
   "source": [
    "One of the simplest ways to normalize a column is to divide all of the values by the maximum value in the column.\n",
    "\n",
    "It will change all of the values to be between 0 and 1.\n",
    "\n",
    "It doesn't work so well with negative values, but we don't have any (you can't have negative amounts of protein, fat, etc).\n",
    "\n",
    "This isn't necessarily the best way to normalize, and we'll learn some better methods soon."
   ]
  },
  {
   "cell_type": "markdown",
   "metadata": {},
   "source": [
    "####Instructions"
   ]
  },
  {
   "cell_type": "markdown",
   "metadata": {},
   "source": [
    "Normalize the values in the \"Vit_C_(mg)\" column, and assign the result to normalized_vitamin_c\n",
    "\n",
    "Normalize the values in the \"Zinc_(mg)\" column, and assign the result to normalized_zinc"
   ]
  },
  {
   "cell_type": "code",
   "execution_count": 12,
   "metadata": {
    "collapsed": false
   },
   "outputs": [
    {
     "name": "stdout",
     "output_type": "stream",
     "text": [
      "Food with greatest normalized vitamin C:\n",
      "NDB_No                                                               3022\n",
      "Shrt_Desc               BABYFOOD,GERBER,2ND FOODS,APPL,CARROT & SQUASH...\n",
      "Water_(g)                                                           83.83\n",
      "Energ_Kcal                                                             64\n",
      "Protein_(g)                                                           1.1\n",
      "Lipid_Tot_(g)                                                           0\n",
      "Ash_(g)                                                              0.26\n",
      "Carbohydrt_(g)                                                      14.82\n",
      "Fiber_TD_(g)                                                          1.2\n",
      "Sugar_Tot_(g)                                                        9.09\n",
      "Calcium_(mg)                                                            6\n",
      "Iron_(mg)                                                            0.15\n",
      "Magnesium_(mg)                                                          5\n",
      "Phosphorus_(mg)                                                        17\n",
      "Potassium_(mg)                                                        106\n",
      "Sodium_(mg)                                                            20\n",
      "Zinc_(mg)                                                            0.22\n",
      "Copper_(mg)                                                         0.033\n",
      "Manganese_(mg)                                                      0.039\n",
      "Selenium_(mcg)                                                        0.8\n",
      "Vit_C_(mg)                                                           2732\n",
      "Thiamin_(mg)                                                         0.02\n",
      "Riboflavin_(mg)                                                     0.036\n",
      "Niacin_(mg)                                                         0.255\n",
      "Panto_Acid_mg)                                                      0.086\n",
      "Vit_B6_(mg)                                                         0.057\n",
      "Folate_Tot_(�g)                                                         2\n",
      "Folic_Acid_(�g)                                                         0\n",
      "Food_Folate_(�g)                                                        2\n",
      "Folate_DFE_(�g)                                                         2\n",
      "Choline_Tot_ (mg)                                                     3.5\n",
      "Vit_B12_(�g)                                                            0\n",
      "Vit_A_IU                                                              417\n",
      "Vit_A_RAE                                                              21\n",
      "Retinol_(�g)                                                            0\n",
      "Alpha_Carot_(�g)                                                       78\n",
      "Beta_Carot_(�g)                                                       206\n",
      "Beta_Crypt_(�g)                                                        11\n",
      "Lycopene_(�g)                                                           0\n",
      "Lut+Zea_ (�g)                                                          17\n",
      "Vit_E_(mg)                                                           0.07\n",
      "Vit_D_�g                                                                0\n",
      "Vit_D_IU                                                                0\n",
      "Vit_K_(�g)                                                              1\n",
      "FA_Sat_(g)                                                              0\n",
      "FA_Mono_(g)                                                             0\n",
      "FA_Poly_(g)                                                             0\n",
      "Cholestrl_(mg)                                                          2\n",
      "GmWt_1                                                                NaN\n",
      "GmWt_Desc1                                                            NaN\n",
      "GmWt_2                                                                NaN\n",
      "GmWt_Desc2                                                            NaN\n",
      "Refuse_Pct                                                              0\n",
      "new_rating                                                            2.2\n",
      "normalized_vitamin_c                                                    1\n",
      "Name: 332, dtype: object\n"
     ]
    }
   ],
   "source": [
    "# Use the max() method to find the maximum value in a column.\n",
    "max_protein = food_info[\"Protein_(g)\"].max()\n",
    "\n",
    "# Divide the column by the scalar.\n",
    "normalized_protein = food_info[\"Protein_(g)\"] / max_protein\n",
    "\n",
    "# Print normalized protein values.\n",
    "#print(normalized_protein[0:20])\n",
    "\n",
    "# Create normalized vitamin C value.\n",
    "normalized_vitamin_c = food_info[\"Vit_C_(mg)\"] / food_info[\"Vit_C_(mg)\"].max()\n",
    "food_info[\"normalized_vitamin_c\"] = normalized_vitamin_c\n",
    "\n",
    "# Sort by normalized vitamin C values.\n",
    "descending_normalized_vitamin_c = food_info.sort([\"normalized_vitamin_c\"], ascending=[False])\n",
    "print \"Food with greatest normalized vitamin C:\"\n",
    "print descending_normalized_vitamin_c.iloc[0,:]\n",
    "\n",
    "# Create normalized zinc value.\n",
    "normalized_zinc = food_info[\"Zinc_(mg)\"] / food_info[\"Zinc_(mg)\"].max()"
   ]
  },
  {
   "cell_type": "markdown",
   "metadata": {},
   "source": [
    "###12: Making a better rating"
   ]
  },
  {
   "cell_type": "code",
   "execution_count": null,
   "metadata": {
    "collapsed": true
   },
   "outputs": [],
   "source": [
    "We now know enough to construct a better rating for our friend Superman.\n",
    "\n",
    "We just have to normalize the columns that we are interested in before we create the rating."
   ]
  },
  {
   "cell_type": "markdown",
   "metadata": {},
   "source": [
    "####Instructions"
   ]
  },
  {
   "cell_type": "markdown",
   "metadata": {},
   "source": [
    "Superman is twice as interested in a food having a lot of protein than he is in it having too much fat.\n",
    "\n",
    "Construct a rating with these new criteria, and assign it to better_protein_rating.\n",
    "\n",
    "Make sure to normalize the protein (\"Protein_(g)\") and fat (\"Lipid_Tot_(g)\") columns first."
   ]
  },
  {
   "cell_type": "code",
   "execution_count": 13,
   "metadata": {
    "collapsed": false
   },
   "outputs": [
    {
     "name": "stdout",
     "output_type": "stream",
     "text": [
      "Food with greatest better protein rating:\n",
      "NDB_No                                     16422\n",
      "Shrt_Desc                SOY PROT ISOLATE,K TYPE\n",
      "Water_(g)                                   4.98\n",
      "Energ_Kcal                                   321\n",
      "Protein_(g)                                88.32\n",
      "Lipid_Tot_(g)                               0.53\n",
      "Ash_(g)                                     3.58\n",
      "Carbohydrt_(g)                              2.59\n",
      "Fiber_TD_(g)                                   0\n",
      "Sugar_Tot_(g)                                  0\n",
      "Calcium_(mg)                                 178\n",
      "Iron_(mg)                                   14.5\n",
      "Magnesium_(mg)                                39\n",
      "Phosphorus_(mg)                              776\n",
      "Potassium_(mg)                              1590\n",
      "Sodium_(mg)                                   50\n",
      "Zinc_(mg)                                   4.03\n",
      "Copper_(mg)                                1.599\n",
      "Manganese_(mg)                             1.493\n",
      "Selenium_(mcg)                               0.8\n",
      "Vit_C_(mg)                                     0\n",
      "Thiamin_(mg)                               0.176\n",
      "Riboflavin_(mg)                              0.1\n",
      "Niacin_(mg)                                1.438\n",
      "Panto_Acid_mg)                              0.06\n",
      "Vit_B6_(mg)                                  0.1\n",
      "Folate_Tot_(�g)                              176\n",
      "Folic_Acid_(�g)                                0\n",
      "Food_Folate_(�g)                             176\n",
      "Folate_DFE_(�g)                              176\n",
      "Choline_Tot_ (mg)                          190.9\n",
      "Vit_B12_(�g)                                   0\n",
      "Vit_A_IU                                       0\n",
      "Vit_A_RAE                                      0\n",
      "Retinol_(�g)                                   0\n",
      "Alpha_Carot_(�g)                               0\n",
      "Beta_Carot_(�g)                                0\n",
      "Beta_Crypt_(�g)                                0\n",
      "Lycopene_(�g)                                  0\n",
      "Lut+Zea_ (�g)                                  0\n",
      "Vit_E_(mg)                                     0\n",
      "Vit_D_�g                                       0\n",
      "Vit_D_IU                                       0\n",
      "Vit_K_(�g)                                     0\n",
      "FA_Sat_(g)                                 0.077\n",
      "FA_Mono_(g)                                0.117\n",
      "FA_Poly_(g)                                0.299\n",
      "Cholestrl_(mg)                                 0\n",
      "GmWt_1                                     28.35\n",
      "GmWt_Desc1                                  1 oz\n",
      "GmWt_2                                       NaN\n",
      "GmWt_Desc2                                   NaN\n",
      "Refuse_Pct                                     0\n",
      "new_rating                                176.11\n",
      "normalized_vitamin_c                           0\n",
      "better_protein_rating                     1.9947\n",
      "Name: 5009, dtype: object\n"
     ]
    }
   ],
   "source": [
    "# Create better protein rating.\n",
    "better_protein_rating = None\n",
    "\n",
    "# Create normalized protein values.\n",
    "normalized_protein = food_info[\"Protein_(g)\"] / food_info[\"Protein_(g)\"].max()\n",
    "\n",
    "# Create normalized fat values.\n",
    "normalized_fat = food_info[\"Lipid_Tot_(g)\"] / food_info[\"Lipid_Tot_(g)\"].max()\n",
    "\n",
    "# Create new protein rating.\n",
    "better_protein_rating = (normalized_protein * 2) - normalized_fat\n",
    "food_info[\"better_protein_rating\"] = better_protein_rating\n",
    "\n",
    "# Sort by new protein rating.\n",
    "descending_better_protein_rating = food_info.sort([\"better_protein_rating\"], ascending=[False])\n",
    "print \"Food with greatest better protein rating:\"\n",
    "print descending_better_protein_rating.iloc[0,:]"
   ]
  },
  {
   "cell_type": "markdown",
   "metadata": {},
   "source": [
    "###13: Normalizing multiple columns"
   ]
  },
  {
   "cell_type": "markdown",
   "metadata": {},
   "source": [
    "Now, let's say we want to construct a total nutrition rating that takes all the columns into account.\n",
    "\n",
    "In order to do this, we would have to normalize each of the columns, which is a huge pain.\n",
    "\n",
    "An easier way is to use a for loop to normalize each column.\n",
    "\n",
    "The \"NDB_No\" and \"Shrt_Desc\" columns (first two) can't be normalized, because they aren't nutritional values. The first one is the ID number of the food, and the second is the name."
   ]
  },
  {
   "cell_type": "markdown",
   "metadata": {},
   "source": [
    "####Instructions"
   ]
  },
  {
   "cell_type": "markdown",
   "metadata": {},
   "source": [
    "Remove the \"NDB_No\" and \"Shrt_Desc\" columns from all_columns\n",
    "\n",
    "Then, use a for loop to normalize all the other columns."
   ]
  },
  {
   "cell_type": "code",
   "execution_count": 15,
   "metadata": {
    "collapsed": false
   },
   "outputs": [
    {
     "name": "stdout",
     "output_type": "stream",
     "text": [
      "Removed 'NDB_No' and 'Shrt_Desc':  ['Water_(g)', 'Energ_Kcal', 'Protein_(g)', 'Lipid_Tot_(g)', 'Ash_(g)', 'Carbohydrt_(g)', 'Fiber_TD_(g)', 'Sugar_Tot_(g)', 'Calcium_(mg)', 'Iron_(mg)', 'Magnesium_(mg)', 'Phosphorus_(mg)', 'Potassium_(mg)', 'Sodium_(mg)', 'Zinc_(mg)', 'Copper_(mg)', 'Manganese_(mg)', 'Selenium_(mcg)', 'Vit_C_(mg)', 'Thiamin_(mg)', 'Riboflavin_(mg)', 'Niacin_(mg)', 'Panto_Acid_mg)', 'Vit_B6_(mg)', 'Folate_Tot_(\\xb5g)', 'Folic_Acid_(\\xb5g)', 'Food_Folate_(\\xb5g)', 'Folate_DFE_(\\xb5g)', 'Choline_Tot_ (mg)', 'Vit_B12_(\\xb5g)', 'Vit_A_IU', 'Vit_A_RAE', 'Retinol_(\\xb5g)', 'Alpha_Carot_(\\xb5g)', 'Beta_Carot_(\\xb5g)', 'Beta_Crypt_(\\xb5g)', 'Lycopene_(\\xb5g)', 'Lut+Zea_ (\\xb5g)', 'Vit_E_(mg)', 'Vit_D_\\xb5g', 'Vit_D_IU', 'Vit_K_(\\xb5g)', 'FA_Sat_(g)', 'FA_Mono_(g)', 'FA_Poly_(g)', 'Cholestrl_(mg)', 'GmWt_1', 'GmWt_Desc1', 'GmWt_2', 'GmWt_Desc2', 'Refuse_Pct', 'new_rating', 'normalized_vitamin_c', 'better_protein_rating']\n"
     ]
    }
   ],
   "source": [
    "column_list = [\"Energ_Kcal\", \"Protein_(g)\"]\n",
    "\n",
    "# Loop through column_list, and normalize each of the columns in it.\n",
    "for column in column_list:\n",
    "    food_info[column] = food_info[column] / food_info[column].max()\n",
    "\n",
    "# All columns is a list of all the columns in the food_info dataframe.\n",
    "all_columns = list(food_info.columns.values)\n",
    "#print \"All columns: \", all_columns\n",
    "\n",
    "column_count = len(all_columns)\n",
    "all_columns = all_columns[2:column_count]\n",
    "print \"Removed 'NDB_No' and 'Shrt_Desc': \", all_columns"
   ]
  },
  {
   "cell_type": "markdown",
   "metadata": {},
   "source": [
    "###14: Finding the amount of vitamins"
   ]
  },
  {
   "cell_type": "markdown",
   "metadata": {},
   "source": [
    "Now that we normalized all of the columns, we're well on our way to making a nutritional rating.\n",
    "\n",
    "In order to get there, let's create a sum of all the vitamin columns.\n",
    "\n",
    "Most methods on pandas dataframes can operate on series, or on dataframes.\n",
    "\n",
    "Let's take the .sum() method as an example.\n",
    "\n",
    "On a series, it gives you the total of all the values in the series.\n",
    "\n",
    "When used on a dataframe, it takes the optional axis keyword argument.\n",
    "\n",
    "When axis is 0, it gives you a new series with the sums of all of the columns in the dataframe.\n",
    "\n",
    "When axis is 1, it gives you a new series with sums of all of the rows in the dataframe."
   ]
  },
  {
   "cell_type": "markdown",
   "metadata": {},
   "source": [
    "####Instructions"
   ]
  },
  {
   "cell_type": "markdown",
   "metadata": {},
   "source": [
    "Sum up the amount of vitamins in each food (using the vitamin_columns list to get columns from the dataframe), and assign the result to vitamin_totals.\n",
    "\n",
    "You'll need to sum the total in each row."
   ]
  },
  {
   "cell_type": "code",
   "execution_count": 16,
   "metadata": {
    "collapsed": false
   },
   "outputs": [
    {
     "name": "stdout",
     "output_type": "stream",
     "text": [
      "Vitamin totals:\n",
      "0    3910.684\n",
      "1    3829.252\n",
      "2    3934.431\n",
      "3    3303.482\n",
      "4    3261.634\n",
      "5    1982.328\n",
      "6    2885.552\n",
      "7    3312.130\n",
      "8    3554.729\n",
      "9    3159.877\n",
      "dtype: float64\n"
     ]
    }
   ],
   "source": [
    "column_list = ['Fiber_TD_(g)', 'Sugar_Tot_(g)']\n",
    "\n",
    "# Sum the amount of fiber and sugar in each of the foods.\n",
    "row_total = food_info[column_list].sum(axis=1)\n",
    "#print row_total\n",
    "\n",
    "# Sum the total amount of fiber and sugar across all the foods.\n",
    "column_total = food_info[column_list].sum(axis=0)\n",
    "#print column_total\n",
    "\n",
    "# Rename 'Vit_B12_(mcg)', 'Vit_D_mcg', 'Vit_K_(mcg)' columns.\n",
    "food_info = food_info.rename(columns={'Vit_B12_(\\xb5g)': 'Vit_B12_(mcg)'})\n",
    "food_info = food_info.rename(columns={'Vit_D_\\xb5g': 'Vit_D_mcg'})\n",
    "food_info = food_info.rename(columns={'Vit_K_(\\xb5g)': 'Vit_K_(mcg)'})\n",
    "\n",
    "# Sum the total amount of vitamins in each foods.\n",
    "vitamin_columns = ['Calcium_(mg)', 'Iron_(mg)', 'Magnesium_(mg)', 'Phosphorus_(mg)', 'Potassium_(mg)', 'Sodium_(mg)', 'Zinc_(mg)', 'Copper_(mg)', 'Manganese_(mg)', 'Selenium_(mcg)', 'Vit_C_(mg)', 'Thiamin_(mg)', 'Riboflavin_(mg)', 'Niacin_(mg)', 'Vit_B6_(mg)', 'Vit_B12_(mcg)', 'Vit_A_IU', 'Vit_A_RAE', 'Vit_E_(mg)', 'Vit_D_mcg', 'Vit_D_IU', 'Vit_K_(mcg)']\n",
    "vitamins = food_info[vitamin_columns]\n",
    "vitamin_totals = vitamins.sum(axis=1)\n",
    "print \"Vitamin totals:\"\n",
    "print vitamin_totals.head(10)"
   ]
  },
  {
   "cell_type": "markdown",
   "metadata": {},
   "source": [
    "###15: Adding a new column"
   ]
  },
  {
   "cell_type": "markdown",
   "metadata": {},
   "source": [
    "We can add a column to a dataframe by assigning to it.\n",
    "\n",
    "food_info[\"double_fat\"] = food_info[\"Lipid_Tot_(g)\"] * 2  \n",
    "\n",
    "The above code assigns double the amount of lipids to the \"double_fat\" column in food_info."
   ]
  },
  {
   "cell_type": "markdown",
   "metadata": {},
   "source": [
    "####Instructions"
   ]
  },
  {
   "cell_type": "markdown",
   "metadata": {},
   "source": [
    "We've read the vitamin_totals variable from the last screen in.\n",
    "\n",
    "Assign vitamin_totals to the \"vitamin_totals\" column in food_info."
   ]
  },
  {
   "cell_type": "code",
   "execution_count": 17,
   "metadata": {
    "collapsed": true
   },
   "outputs": [],
   "source": [
    "# Assign double protein values.\n",
    "food_info[\"double_protein\"] = food_info[\"Protein_(g)\"] * 2\n",
    "\n",
    "# Assign vitamin totals.\n",
    "food_info[\"vitamin_totals\"] = vitamin_totals"
   ]
  },
  {
   "cell_type": "markdown",
   "metadata": {},
   "source": [
    "###16: Making a nutritional index"
   ]
  },
  {
   "cell_type": "markdown",
   "metadata": {},
   "source": [
    "We've normalized the values in vitamin_totals, and assigned it to the \"vitamin_totals\" column in food_info.\n",
    "\n",
    "Let's construct a nutritional rating using the amount of vitamins, fats, protein, sugar, fiber, and cholesterol."
   ]
  },
  {
   "cell_type": "markdown",
   "metadata": {},
   "source": [
    "####Instructions"
   ]
  },
  {
   "cell_type": "markdown",
   "metadata": {},
   "source": [
    "Give the \"vitamin_totals\" column a weight of 3, the \"Lipid_Tot_(g)\" column a weight of -2, the \"Protein_(g)\" column a weight of 3, the \"Sugar_Tot_(g)\" column a weight of -1, the \"Fiber_TD_(g)\" a weight of 1, and the \"Cholestrl_(mg)\" column a weight of -2.\n",
    "\n",
    "Construct a rating using the above weights, and assign it to nutritional_rating."
   ]
  },
  {
   "cell_type": "code",
   "execution_count": 18,
   "metadata": {
    "collapsed": false
   },
   "outputs": [
    {
     "name": "stdout",
     "output_type": "stream",
     "text": [
      "Nutritional rating:\n",
      "0    11139.800872\n",
      "1    10881.112644\n",
      "2    11092.342511\n",
      "3     9703.192902\n",
      "4     9537.821402\n",
      "5     5691.878823\n",
      "6     8464.348554\n",
      "7             NaN\n",
      "8    10399.863834\n",
      "9             NaN\n",
      "dtype: float64\n"
     ]
    }
   ],
   "source": [
    "# Assign nutritional rating.\n",
    "nutritional_rating = None\n",
    "nutritional_rating = 3 * food_info[\"vitamin_totals\"] + -2 * food_info[\"Lipid_Tot_(g)\"] + 3 * food_info[\"Protein_(g)\"] + -1 * food_info[\"Sugar_Tot_(g)\"] + 1 * food_info[\"Fiber_TD_(g)\"] + -2 * food_info[\"Cholestrl_(mg)\"]\n",
    "food_info[\"nutritional_rating\"] = nutritional_rating\n",
    "\n",
    "print \"Nutritional rating:\"\n",
    "print nutritional_rating.head(10)"
   ]
  },
  {
   "cell_type": "markdown",
   "metadata": {},
   "source": [
    "###17: Finding the most nutritious foods"
   ]
  },
  {
   "cell_type": "markdown",
   "metadata": {},
   "source": [
    "We've read the nutritional rating series from the last screen to the \"nutritional_rating\" column in food_info.\n",
    "\n",
    "Now, lets see if we can use it to find the most nutritious foods."
   ]
  },
  {
   "cell_type": "markdown",
   "metadata": {},
   "source": [
    "####Instructions"
   ]
  },
  {
   "cell_type": "markdown",
   "metadata": {},
   "source": [
    "Find the three most nutritious foods by sorting food_info using the \"nutritional_rating\" column.\n",
    "\n",
    "Get the name of those foods (the \"Shrt_Desc\" column), and assign the names to most_nutritious_foods.\n",
    "\n",
    "If most_nutritious_foods isn't a list at the end, use the list() function to turn it into one."
   ]
  },
  {
   "cell_type": "code",
   "execution_count": 19,
   "metadata": {
    "collapsed": false
   },
   "outputs": [
    {
     "name": "stdout",
     "output_type": "stream",
     "text": [
      "Most nutritional foods:\n",
      "['BEEF,NZ,IMP,VAR MEATS & BY-PRODUCTS,LIVER,RAW', 'VEAL,VAR MEATS&BY-PRODUCTS,LIVER,CKD,BRSD', 'BEEF,NZ,IMP,VAR MEATS & BY-PRODUCTS LIVER,CKD,BLD']\n"
     ]
    }
   ],
   "source": [
    "# Assign most nutritional foods.\n",
    "most_nutritious_foods = []\n",
    "sorted_food_info = food_info.sort([\"nutritional_rating\"], ascending=[False])\n",
    "most_nutritious_foods = sorted_food_info[\"Shrt_Desc\"].iloc[0:3]\n",
    "most_nutritious_foods = list(most_nutritious_foods)\n",
    "\n",
    "print \"Most nutritional foods:\"\n",
    "print most_nutritious_foods"
   ]
  },
  {
   "cell_type": "markdown",
   "metadata": {},
   "source": [
    "###18: Finding the least nutritious foods"
   ]
  },
  {
   "cell_type": "markdown",
   "metadata": {},
   "source": [
    "Let's do the same as in the last screen, but find the least nutritious foods."
   ]
  },
  {
   "cell_type": "markdown",
   "metadata": {},
   "source": [
    "####Instructions"
   ]
  },
  {
   "cell_type": "markdown",
   "metadata": {},
   "source": [
    "Find the three least nutritious foods by sorting food_info using the \"nutritional_rating\" column.\n",
    "\n",
    "Get the name of those foods (the \"Shrt_Desc\" column), and assign the names to least_nutritious_foods.\n",
    "\n",
    "If least_nutritious_foods isn't a list at the end, use the list() function to turn it into one."
   ]
  },
  {
   "cell_type": "code",
   "execution_count": 20,
   "metadata": {
    "collapsed": false
   },
   "outputs": [
    {
     "name": "stdout",
     "output_type": "stream",
     "text": [
      "Least nutritional foods:\n",
      "['BEEF,VAR MEATS&BY-PRODUCTS,BRAIN,CKD,SIMMRD', 'BEEF,VAR MEATS&BY-PRODUCTS,BRAIN,RAW', 'LAMB,NZ,IMP,BRAINS,CKD,SOAKED & FRIED']\n"
     ]
    }
   ],
   "source": [
    "# Assign least nutritional foods.\n",
    "least_nutritious_foods = []\n",
    "sorted_food_info = food_info.sort([\"nutritional_rating\"], ascending=[True])\n",
    "least_nutritious_foods = sorted_food_info[\"Shrt_Desc\"].iloc[0:3]\n",
    "least_nutritious_foods = list(least_nutritious_foods)\n",
    "\n",
    "print \"Least nutritional foods:\"\n",
    "print least_nutritious_foods"
   ]
  }
 ],
 "metadata": {
  "kernelspec": {
   "display_name": "Python 2",
   "language": "python",
   "name": "python2"
  },
  "language_info": {
   "codemirror_mode": {
    "name": "ipython",
    "version": 2
   },
   "file_extension": ".py",
   "mimetype": "text/x-python",
   "name": "python",
   "nbconvert_exporter": "python",
   "pygments_lexer": "ipython2",
   "version": "2.7.10"
  }
 },
 "nbformat": 4,
 "nbformat_minor": 0
}
